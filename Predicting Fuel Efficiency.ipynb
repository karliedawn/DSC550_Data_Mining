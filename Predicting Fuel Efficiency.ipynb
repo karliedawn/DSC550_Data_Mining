{
 "cells": [
  {
   "cell_type": "markdown",
   "id": "e1b6dc7c",
   "metadata": {},
   "source": [
    "# Week 4 Exercises  \n",
    "\n",
    "***Karlie Schwartzwald  \n",
    "DSC 550 Fall 2022  \n",
    "Bellevue University***"
   ]
  },
  {
   "cell_type": "markdown",
   "id": "f28a805c",
   "metadata": {},
   "source": [
    "**Change Control Log:**  \n",
    "\n",
    "Change#: 1  \n",
    "Change(s) Made:   Complete assignment  \n",
    "Date of Change:  9/25/2022  \n",
    "Author: Karlie Schwartzwald  \n",
    "Change Approved by: Karlie Schwartzwald  \n",
    "Date Moved to Production: 9/25/2022"
   ]
  },
  {
   "cell_type": "markdown",
   "id": "41ac09cf",
   "metadata": {},
   "source": [
    "### Load the data as a Pandas data frame and ensure that it imported correctly."
   ]
  },
  {
   "cell_type": "code",
   "execution_count": 1,
   "id": "c091c009",
   "metadata": {},
   "outputs": [],
   "source": [
    "# Libraries\n",
    "import pandas as pd\n",
    "import numpy as np\n",
    "import matplotlib.pyplot as plt"
   ]
  },
  {
   "cell_type": "code",
   "execution_count": 2,
   "id": "5b6787ab",
   "metadata": {},
   "outputs": [],
   "source": [
    "# load csv file\n",
    "auto_mpg_df = pd.read_csv('auto-mpg.csv')"
   ]
  },
  {
   "cell_type": "code",
   "execution_count": 3,
   "id": "acf2298a",
   "metadata": {
    "scrolled": true
   },
   "outputs": [
    {
     "data": {
      "text/html": [
       "<div>\n",
       "<style scoped>\n",
       "    .dataframe tbody tr th:only-of-type {\n",
       "        vertical-align: middle;\n",
       "    }\n",
       "\n",
       "    .dataframe tbody tr th {\n",
       "        vertical-align: top;\n",
       "    }\n",
       "\n",
       "    .dataframe thead th {\n",
       "        text-align: right;\n",
       "    }\n",
       "</style>\n",
       "<table border=\"1\" class=\"dataframe\">\n",
       "  <thead>\n",
       "    <tr style=\"text-align: right;\">\n",
       "      <th></th>\n",
       "      <th>mpg</th>\n",
       "      <th>cylinders</th>\n",
       "      <th>displacement</th>\n",
       "      <th>horsepower</th>\n",
       "      <th>weight</th>\n",
       "      <th>acceleration</th>\n",
       "      <th>model year</th>\n",
       "      <th>origin</th>\n",
       "      <th>car name</th>\n",
       "    </tr>\n",
       "  </thead>\n",
       "  <tbody>\n",
       "    <tr>\n",
       "      <th>0</th>\n",
       "      <td>18.0</td>\n",
       "      <td>8</td>\n",
       "      <td>307.0</td>\n",
       "      <td>130</td>\n",
       "      <td>3504</td>\n",
       "      <td>12.0</td>\n",
       "      <td>70</td>\n",
       "      <td>1</td>\n",
       "      <td>chevrolet chevelle malibu</td>\n",
       "    </tr>\n",
       "    <tr>\n",
       "      <th>1</th>\n",
       "      <td>15.0</td>\n",
       "      <td>8</td>\n",
       "      <td>350.0</td>\n",
       "      <td>165</td>\n",
       "      <td>3693</td>\n",
       "      <td>11.5</td>\n",
       "      <td>70</td>\n",
       "      <td>1</td>\n",
       "      <td>buick skylark 320</td>\n",
       "    </tr>\n",
       "    <tr>\n",
       "      <th>2</th>\n",
       "      <td>18.0</td>\n",
       "      <td>8</td>\n",
       "      <td>318.0</td>\n",
       "      <td>150</td>\n",
       "      <td>3436</td>\n",
       "      <td>11.0</td>\n",
       "      <td>70</td>\n",
       "      <td>1</td>\n",
       "      <td>plymouth satellite</td>\n",
       "    </tr>\n",
       "    <tr>\n",
       "      <th>3</th>\n",
       "      <td>16.0</td>\n",
       "      <td>8</td>\n",
       "      <td>304.0</td>\n",
       "      <td>150</td>\n",
       "      <td>3433</td>\n",
       "      <td>12.0</td>\n",
       "      <td>70</td>\n",
       "      <td>1</td>\n",
       "      <td>amc rebel sst</td>\n",
       "    </tr>\n",
       "    <tr>\n",
       "      <th>4</th>\n",
       "      <td>17.0</td>\n",
       "      <td>8</td>\n",
       "      <td>302.0</td>\n",
       "      <td>140</td>\n",
       "      <td>3449</td>\n",
       "      <td>10.5</td>\n",
       "      <td>70</td>\n",
       "      <td>1</td>\n",
       "      <td>ford torino</td>\n",
       "    </tr>\n",
       "  </tbody>\n",
       "</table>\n",
       "</div>"
      ],
      "text/plain": [
       "    mpg  cylinders  displacement horsepower  weight  acceleration  model year  \\\n",
       "0  18.0          8         307.0        130    3504          12.0          70   \n",
       "1  15.0          8         350.0        165    3693          11.5          70   \n",
       "2  18.0          8         318.0        150    3436          11.0          70   \n",
       "3  16.0          8         304.0        150    3433          12.0          70   \n",
       "4  17.0          8         302.0        140    3449          10.5          70   \n",
       "\n",
       "   origin                   car name  \n",
       "0       1  chevrolet chevelle malibu  \n",
       "1       1          buick skylark 320  \n",
       "2       1         plymouth satellite  \n",
       "3       1              amc rebel sst  \n",
       "4       1                ford torino  "
      ]
     },
     "execution_count": 3,
     "metadata": {},
     "output_type": "execute_result"
    }
   ],
   "source": [
    "auto_mpg_df.head()"
   ]
  },
  {
   "cell_type": "markdown",
   "id": "674057e9",
   "metadata": {},
   "source": [
    "### Begin by prepping the data for modeling:"
   ]
  },
  {
   "cell_type": "markdown",
   "id": "eca2e421",
   "metadata": {},
   "source": [
    "#### Remove the car name column."
   ]
  },
  {
   "cell_type": "code",
   "execution_count": 4,
   "id": "26b61880",
   "metadata": {},
   "outputs": [
    {
     "data": {
      "text/html": [
       "<div>\n",
       "<style scoped>\n",
       "    .dataframe tbody tr th:only-of-type {\n",
       "        vertical-align: middle;\n",
       "    }\n",
       "\n",
       "    .dataframe tbody tr th {\n",
       "        vertical-align: top;\n",
       "    }\n",
       "\n",
       "    .dataframe thead th {\n",
       "        text-align: right;\n",
       "    }\n",
       "</style>\n",
       "<table border=\"1\" class=\"dataframe\">\n",
       "  <thead>\n",
       "    <tr style=\"text-align: right;\">\n",
       "      <th></th>\n",
       "      <th>mpg</th>\n",
       "      <th>cylinders</th>\n",
       "      <th>displacement</th>\n",
       "      <th>horsepower</th>\n",
       "      <th>weight</th>\n",
       "      <th>acceleration</th>\n",
       "      <th>model year</th>\n",
       "      <th>origin</th>\n",
       "    </tr>\n",
       "  </thead>\n",
       "  <tbody>\n",
       "    <tr>\n",
       "      <th>0</th>\n",
       "      <td>18.0</td>\n",
       "      <td>8</td>\n",
       "      <td>307.0</td>\n",
       "      <td>130</td>\n",
       "      <td>3504</td>\n",
       "      <td>12.0</td>\n",
       "      <td>70</td>\n",
       "      <td>1</td>\n",
       "    </tr>\n",
       "    <tr>\n",
       "      <th>1</th>\n",
       "      <td>15.0</td>\n",
       "      <td>8</td>\n",
       "      <td>350.0</td>\n",
       "      <td>165</td>\n",
       "      <td>3693</td>\n",
       "      <td>11.5</td>\n",
       "      <td>70</td>\n",
       "      <td>1</td>\n",
       "    </tr>\n",
       "    <tr>\n",
       "      <th>2</th>\n",
       "      <td>18.0</td>\n",
       "      <td>8</td>\n",
       "      <td>318.0</td>\n",
       "      <td>150</td>\n",
       "      <td>3436</td>\n",
       "      <td>11.0</td>\n",
       "      <td>70</td>\n",
       "      <td>1</td>\n",
       "    </tr>\n",
       "    <tr>\n",
       "      <th>3</th>\n",
       "      <td>16.0</td>\n",
       "      <td>8</td>\n",
       "      <td>304.0</td>\n",
       "      <td>150</td>\n",
       "      <td>3433</td>\n",
       "      <td>12.0</td>\n",
       "      <td>70</td>\n",
       "      <td>1</td>\n",
       "    </tr>\n",
       "    <tr>\n",
       "      <th>4</th>\n",
       "      <td>17.0</td>\n",
       "      <td>8</td>\n",
       "      <td>302.0</td>\n",
       "      <td>140</td>\n",
       "      <td>3449</td>\n",
       "      <td>10.5</td>\n",
       "      <td>70</td>\n",
       "      <td>1</td>\n",
       "    </tr>\n",
       "  </tbody>\n",
       "</table>\n",
       "</div>"
      ],
      "text/plain": [
       "    mpg  cylinders  displacement horsepower  weight  acceleration  model year  \\\n",
       "0  18.0          8         307.0        130    3504          12.0          70   \n",
       "1  15.0          8         350.0        165    3693          11.5          70   \n",
       "2  18.0          8         318.0        150    3436          11.0          70   \n",
       "3  16.0          8         304.0        150    3433          12.0          70   \n",
       "4  17.0          8         302.0        140    3449          10.5          70   \n",
       "\n",
       "   origin  \n",
       "0       1  \n",
       "1       1  \n",
       "2       1  \n",
       "3       1  \n",
       "4       1  "
      ]
     },
     "execution_count": 4,
     "metadata": {},
     "output_type": "execute_result"
    }
   ],
   "source": [
    "auto_mpg_df = auto_mpg_df.drop(['car name'], axis=1)\n",
    "auto_mpg_df.head()"
   ]
  },
  {
   "cell_type": "markdown",
   "id": "a361df0a",
   "metadata": {},
   "source": [
    "#### The horsepower column values likely imported as a string data type. Figure out why and replace any strings with the column mean."
   ]
  },
  {
   "cell_type": "code",
   "execution_count": 5,
   "id": "865a593b",
   "metadata": {},
   "outputs": [
    {
     "data": {
      "text/html": [
       "<div>\n",
       "<style scoped>\n",
       "    .dataframe tbody tr th:only-of-type {\n",
       "        vertical-align: middle;\n",
       "    }\n",
       "\n",
       "    .dataframe tbody tr th {\n",
       "        vertical-align: top;\n",
       "    }\n",
       "\n",
       "    .dataframe thead th {\n",
       "        text-align: right;\n",
       "    }\n",
       "</style>\n",
       "<table border=\"1\" class=\"dataframe\">\n",
       "  <thead>\n",
       "    <tr style=\"text-align: right;\">\n",
       "      <th></th>\n",
       "      <th>mpg</th>\n",
       "      <th>cylinders</th>\n",
       "      <th>displacement</th>\n",
       "      <th>horsepower</th>\n",
       "      <th>weight</th>\n",
       "      <th>acceleration</th>\n",
       "      <th>model year</th>\n",
       "      <th>origin</th>\n",
       "    </tr>\n",
       "  </thead>\n",
       "  <tbody>\n",
       "    <tr>\n",
       "      <th>0</th>\n",
       "      <td>18.0</td>\n",
       "      <td>8</td>\n",
       "      <td>307.0</td>\n",
       "      <td>130.0</td>\n",
       "      <td>3504</td>\n",
       "      <td>12.0</td>\n",
       "      <td>70</td>\n",
       "      <td>1</td>\n",
       "    </tr>\n",
       "    <tr>\n",
       "      <th>1</th>\n",
       "      <td>15.0</td>\n",
       "      <td>8</td>\n",
       "      <td>350.0</td>\n",
       "      <td>165.0</td>\n",
       "      <td>3693</td>\n",
       "      <td>11.5</td>\n",
       "      <td>70</td>\n",
       "      <td>1</td>\n",
       "    </tr>\n",
       "    <tr>\n",
       "      <th>2</th>\n",
       "      <td>18.0</td>\n",
       "      <td>8</td>\n",
       "      <td>318.0</td>\n",
       "      <td>150.0</td>\n",
       "      <td>3436</td>\n",
       "      <td>11.0</td>\n",
       "      <td>70</td>\n",
       "      <td>1</td>\n",
       "    </tr>\n",
       "    <tr>\n",
       "      <th>3</th>\n",
       "      <td>16.0</td>\n",
       "      <td>8</td>\n",
       "      <td>304.0</td>\n",
       "      <td>150.0</td>\n",
       "      <td>3433</td>\n",
       "      <td>12.0</td>\n",
       "      <td>70</td>\n",
       "      <td>1</td>\n",
       "    </tr>\n",
       "    <tr>\n",
       "      <th>4</th>\n",
       "      <td>17.0</td>\n",
       "      <td>8</td>\n",
       "      <td>302.0</td>\n",
       "      <td>140.0</td>\n",
       "      <td>3449</td>\n",
       "      <td>10.5</td>\n",
       "      <td>70</td>\n",
       "      <td>1</td>\n",
       "    </tr>\n",
       "  </tbody>\n",
       "</table>\n",
       "</div>"
      ],
      "text/plain": [
       "    mpg  cylinders  displacement  horsepower  weight  acceleration  \\\n",
       "0  18.0          8         307.0       130.0    3504          12.0   \n",
       "1  15.0          8         350.0       165.0    3693          11.5   \n",
       "2  18.0          8         318.0       150.0    3436          11.0   \n",
       "3  16.0          8         304.0       150.0    3433          12.0   \n",
       "4  17.0          8         302.0       140.0    3449          10.5   \n",
       "\n",
       "   model year  origin  \n",
       "0          70       1  \n",
       "1          70       1  \n",
       "2          70       1  \n",
       "3          70       1  \n",
       "4          70       1  "
      ]
     },
     "execution_count": 5,
     "metadata": {},
     "output_type": "execute_result"
    }
   ],
   "source": [
    "# Change strings to NaN\n",
    "auto_mpg_df['horsepower'] = auto_mpg_df['horsepower'].apply(lambda x: pd.to_numeric(x, errors='coerce'))\n",
    "# Change NaN to column mean\n",
    "auto_mpg_df['horsepower'].fillna(auto_mpg_df['horsepower'].mean(), inplace=True)\n",
    "auto_mpg_df.head()"
   ]
  },
  {
   "cell_type": "markdown",
   "id": "7fe2098e",
   "metadata": {},
   "source": [
    "#### Create dummy variables for the origin column."
   ]
  },
  {
   "cell_type": "code",
   "execution_count": 6,
   "id": "2043f480",
   "metadata": {},
   "outputs": [
    {
     "data": {
      "text/html": [
       "<div>\n",
       "<style scoped>\n",
       "    .dataframe tbody tr th:only-of-type {\n",
       "        vertical-align: middle;\n",
       "    }\n",
       "\n",
       "    .dataframe tbody tr th {\n",
       "        vertical-align: top;\n",
       "    }\n",
       "\n",
       "    .dataframe thead th {\n",
       "        text-align: right;\n",
       "    }\n",
       "</style>\n",
       "<table border=\"1\" class=\"dataframe\">\n",
       "  <thead>\n",
       "    <tr style=\"text-align: right;\">\n",
       "      <th></th>\n",
       "      <th>mpg</th>\n",
       "      <th>cylinders</th>\n",
       "      <th>displacement</th>\n",
       "      <th>horsepower</th>\n",
       "      <th>weight</th>\n",
       "      <th>acceleration</th>\n",
       "      <th>model year</th>\n",
       "      <th>1</th>\n",
       "      <th>2</th>\n",
       "      <th>3</th>\n",
       "    </tr>\n",
       "  </thead>\n",
       "  <tbody>\n",
       "    <tr>\n",
       "      <th>0</th>\n",
       "      <td>18.0</td>\n",
       "      <td>8</td>\n",
       "      <td>307.0</td>\n",
       "      <td>130.0</td>\n",
       "      <td>3504</td>\n",
       "      <td>12.0</td>\n",
       "      <td>70</td>\n",
       "      <td>1</td>\n",
       "      <td>0</td>\n",
       "      <td>0</td>\n",
       "    </tr>\n",
       "    <tr>\n",
       "      <th>1</th>\n",
       "      <td>15.0</td>\n",
       "      <td>8</td>\n",
       "      <td>350.0</td>\n",
       "      <td>165.0</td>\n",
       "      <td>3693</td>\n",
       "      <td>11.5</td>\n",
       "      <td>70</td>\n",
       "      <td>1</td>\n",
       "      <td>0</td>\n",
       "      <td>0</td>\n",
       "    </tr>\n",
       "    <tr>\n",
       "      <th>2</th>\n",
       "      <td>18.0</td>\n",
       "      <td>8</td>\n",
       "      <td>318.0</td>\n",
       "      <td>150.0</td>\n",
       "      <td>3436</td>\n",
       "      <td>11.0</td>\n",
       "      <td>70</td>\n",
       "      <td>1</td>\n",
       "      <td>0</td>\n",
       "      <td>0</td>\n",
       "    </tr>\n",
       "    <tr>\n",
       "      <th>3</th>\n",
       "      <td>16.0</td>\n",
       "      <td>8</td>\n",
       "      <td>304.0</td>\n",
       "      <td>150.0</td>\n",
       "      <td>3433</td>\n",
       "      <td>12.0</td>\n",
       "      <td>70</td>\n",
       "      <td>1</td>\n",
       "      <td>0</td>\n",
       "      <td>0</td>\n",
       "    </tr>\n",
       "    <tr>\n",
       "      <th>4</th>\n",
       "      <td>17.0</td>\n",
       "      <td>8</td>\n",
       "      <td>302.0</td>\n",
       "      <td>140.0</td>\n",
       "      <td>3449</td>\n",
       "      <td>10.5</td>\n",
       "      <td>70</td>\n",
       "      <td>1</td>\n",
       "      <td>0</td>\n",
       "      <td>0</td>\n",
       "    </tr>\n",
       "    <tr>\n",
       "      <th>...</th>\n",
       "      <td>...</td>\n",
       "      <td>...</td>\n",
       "      <td>...</td>\n",
       "      <td>...</td>\n",
       "      <td>...</td>\n",
       "      <td>...</td>\n",
       "      <td>...</td>\n",
       "      <td>...</td>\n",
       "      <td>...</td>\n",
       "      <td>...</td>\n",
       "    </tr>\n",
       "    <tr>\n",
       "      <th>393</th>\n",
       "      <td>27.0</td>\n",
       "      <td>4</td>\n",
       "      <td>140.0</td>\n",
       "      <td>86.0</td>\n",
       "      <td>2790</td>\n",
       "      <td>15.6</td>\n",
       "      <td>82</td>\n",
       "      <td>1</td>\n",
       "      <td>0</td>\n",
       "      <td>0</td>\n",
       "    </tr>\n",
       "    <tr>\n",
       "      <th>394</th>\n",
       "      <td>44.0</td>\n",
       "      <td>4</td>\n",
       "      <td>97.0</td>\n",
       "      <td>52.0</td>\n",
       "      <td>2130</td>\n",
       "      <td>24.6</td>\n",
       "      <td>82</td>\n",
       "      <td>0</td>\n",
       "      <td>1</td>\n",
       "      <td>0</td>\n",
       "    </tr>\n",
       "    <tr>\n",
       "      <th>395</th>\n",
       "      <td>32.0</td>\n",
       "      <td>4</td>\n",
       "      <td>135.0</td>\n",
       "      <td>84.0</td>\n",
       "      <td>2295</td>\n",
       "      <td>11.6</td>\n",
       "      <td>82</td>\n",
       "      <td>1</td>\n",
       "      <td>0</td>\n",
       "      <td>0</td>\n",
       "    </tr>\n",
       "    <tr>\n",
       "      <th>396</th>\n",
       "      <td>28.0</td>\n",
       "      <td>4</td>\n",
       "      <td>120.0</td>\n",
       "      <td>79.0</td>\n",
       "      <td>2625</td>\n",
       "      <td>18.6</td>\n",
       "      <td>82</td>\n",
       "      <td>1</td>\n",
       "      <td>0</td>\n",
       "      <td>0</td>\n",
       "    </tr>\n",
       "    <tr>\n",
       "      <th>397</th>\n",
       "      <td>31.0</td>\n",
       "      <td>4</td>\n",
       "      <td>119.0</td>\n",
       "      <td>82.0</td>\n",
       "      <td>2720</td>\n",
       "      <td>19.4</td>\n",
       "      <td>82</td>\n",
       "      <td>1</td>\n",
       "      <td>0</td>\n",
       "      <td>0</td>\n",
       "    </tr>\n",
       "  </tbody>\n",
       "</table>\n",
       "<p>398 rows × 10 columns</p>\n",
       "</div>"
      ],
      "text/plain": [
       "      mpg  cylinders  displacement  horsepower  weight  acceleration  \\\n",
       "0    18.0          8         307.0       130.0    3504          12.0   \n",
       "1    15.0          8         350.0       165.0    3693          11.5   \n",
       "2    18.0          8         318.0       150.0    3436          11.0   \n",
       "3    16.0          8         304.0       150.0    3433          12.0   \n",
       "4    17.0          8         302.0       140.0    3449          10.5   \n",
       "..    ...        ...           ...         ...     ...           ...   \n",
       "393  27.0          4         140.0        86.0    2790          15.6   \n",
       "394  44.0          4          97.0        52.0    2130          24.6   \n",
       "395  32.0          4         135.0        84.0    2295          11.6   \n",
       "396  28.0          4         120.0        79.0    2625          18.6   \n",
       "397  31.0          4         119.0        82.0    2720          19.4   \n",
       "\n",
       "     model year  1  2  3  \n",
       "0            70  1  0  0  \n",
       "1            70  1  0  0  \n",
       "2            70  1  0  0  \n",
       "3            70  1  0  0  \n",
       "4            70  1  0  0  \n",
       "..          ... .. .. ..  \n",
       "393          82  1  0  0  \n",
       "394          82  0  1  0  \n",
       "395          82  1  0  0  \n",
       "396          82  1  0  0  \n",
       "397          82  1  0  0  \n",
       "\n",
       "[398 rows x 10 columns]"
      ]
     },
     "execution_count": 6,
     "metadata": {},
     "output_type": "execute_result"
    }
   ],
   "source": [
    "# create dummies df\n",
    "dummies = pd.get_dummies(auto_mpg_df['origin'])\n",
    "# concatenate with auto_mpg_df\n",
    "merged_df = pd.concat([auto_mpg_df,dummies], axis=1)\n",
    "# drop origin column\n",
    "merged_df = merged_df.drop(['origin'], axis=1)\n",
    "merged_df"
   ]
  },
  {
   "cell_type": "markdown",
   "id": "db65d76c",
   "metadata": {},
   "source": [
    "### Create a correlation coefficient matrix and/or visualization. Are there features highly correlated with mpg?"
   ]
  },
  {
   "cell_type": "code",
   "execution_count": 7,
   "id": "21bd0ac7",
   "metadata": {},
   "outputs": [
    {
     "name": "stdout",
     "output_type": "stream",
     "text": [
      "                   mpg  cylinders  displacement  horsepower    weight  \\\n",
      "mpg           1.000000  -0.775396     -0.804203   -0.771437 -0.831741   \n",
      "cylinders    -0.775396   1.000000      0.950721    0.838939  0.896017   \n",
      "displacement -0.804203   0.950721      1.000000    0.893646  0.932824   \n",
      "horsepower   -0.771437   0.838939      0.893646    1.000000  0.860574   \n",
      "weight       -0.831741   0.896017      0.932824    0.860574  1.000000   \n",
      "acceleration  0.420289  -0.505419     -0.543684   -0.684259 -0.417457   \n",
      "model year    0.579267  -0.348746     -0.370164   -0.411651 -0.306564   \n",
      "1            -0.568192   0.604351      0.651407    0.486083  0.598398   \n",
      "2             0.259022  -0.352861     -0.373886   -0.281258 -0.298843   \n",
      "3             0.442174  -0.396479     -0.433505   -0.321325 -0.440817   \n",
      "\n",
      "              acceleration  model year         1         2         3  \n",
      "mpg               0.420289    0.579267 -0.568192  0.259022  0.442174  \n",
      "cylinders        -0.505419   -0.348746  0.604351 -0.352861 -0.396479  \n",
      "displacement     -0.543684   -0.370164  0.651407 -0.373886 -0.433505  \n",
      "horsepower       -0.684259   -0.411651  0.486083 -0.281258 -0.321325  \n",
      "weight           -0.417457   -0.306564  0.598398 -0.298843 -0.440817  \n",
      "acceleration      1.000000    0.288137 -0.250806  0.204473  0.109144  \n",
      "model year        0.288137    1.000000 -0.139883 -0.024489  0.193101  \n",
      "1                -0.250806   -0.139883  1.000000 -0.597198 -0.643317  \n",
      "2                 0.204473   -0.024489 -0.597198  1.000000 -0.229895  \n",
      "3                 0.109144    0.193101 -0.643317 -0.229895  1.000000  \n",
      "\n",
      " The features with the highest correlation to mpg are weight, displacement, horsepower, and cylinders, which are all negatively correlated with mpg.\n"
     ]
    }
   ],
   "source": [
    "matrix = merged_df.corr()\n",
    "print(matrix)\n",
    "print(f'\\n The features with the highest correlation to mpg are weight, displacement, horsepower, and cylinders, which are all negatively correlated with mpg.')"
   ]
  },
  {
   "cell_type": "markdown",
   "id": "1a1c3e67",
   "metadata": {},
   "source": [
    "### Plot mpg versus weight. Analyze this graph and explain how it relates to the corresponding correlation coefficient."
   ]
  },
  {
   "cell_type": "code",
   "execution_count": 8,
   "id": "946fb3d5",
   "metadata": {},
   "outputs": [
    {
     "data": {
      "image/png": "[encoded data removed]",
      "text/plain": [
       "<Figure size 432x288 with 1 Axes>"
      ]
     },
     "metadata": {
      "needs_background": "light"
     },
     "output_type": "display_data"
    },
    {
     "name": "stdout",
     "output_type": "stream",
     "text": [
      "This scatterplot shows a clear downward trend for weight as miles per gallon increases. This is also shown with the corresponding correlation coefficient being close to negative 1.\n"
     ]
    }
   ],
   "source": [
    "plt.scatter(merged_df['mpg'], merged_df['weight'], alpha=0.5)\n",
    "plt.title(\"MPG vs. Weight\")\n",
    "plt.xlabel(\"Mile per Gallon\")\n",
    "plt.ylabel(\"Weight (lbs)\")\n",
    "plt.show()\n",
    "print(f'This scatterplot shows a clear downward trend for weight as miles per gallon increases. This is also shown with the corresponding correlation coefficient being close to negative 1.')"
   ]
  },
  {
   "cell_type": "markdown",
   "id": "ca794325",
   "metadata": {},
   "source": [
    "### Randomly split the data into 80% training data and 20% test data, where your target is mpg."
   ]
  },
  {
   "cell_type": "code",
   "execution_count": 9,
   "id": "135b3aa8",
   "metadata": {},
   "outputs": [],
   "source": [
    "# seperate target feature\n",
    "attributes = merged_df.drop(['mpg'], axis=1)\n",
    "target = merged_df['mpg']"
   ]
  },
  {
   "cell_type": "code",
   "execution_count": 10,
   "id": "488a8317",
   "metadata": {},
   "outputs": [],
   "source": [
    "from sklearn.model_selection import train_test_split"
   ]
  },
  {
   "cell_type": "code",
   "execution_count": 11,
   "id": "246297c6",
   "metadata": {},
   "outputs": [],
   "source": [
    "# test train split\n",
    "x_train, x_test, y_train, y_test = train_test_split(attributes, target, test_size = 0.2)"
   ]
  },
  {
   "cell_type": "markdown",
   "id": "2ec9d7f5",
   "metadata": {},
   "source": [
    "### Train an ordinary linear regression on the training data."
   ]
  },
  {
   "cell_type": "code",
   "execution_count": 12,
   "id": "96556a54",
   "metadata": {},
   "outputs": [],
   "source": [
    "# libraries\n",
    "from sklearn.linear_model import LinearRegression"
   ]
  },
  {
   "cell_type": "code",
   "execution_count": 13,
   "id": "13686731",
   "metadata": {},
   "outputs": [],
   "source": [
    "model = LinearRegression()"
   ]
  },
  {
   "cell_type": "code",
   "execution_count": 14,
   "id": "d2f98b67",
   "metadata": {},
   "outputs": [
    {
     "data": {
      "text/plain": [
       "LinearRegression()"
      ]
     },
     "execution_count": 14,
     "metadata": {},
     "output_type": "execute_result"
    }
   ],
   "source": [
    "model.fit(x_train, y_train)"
   ]
  },
  {
   "cell_type": "markdown",
   "id": "5f446769",
   "metadata": {},
   "source": [
    "### Calculate R2, RMSE, and MAE on both the training and test sets and interpret your results."
   ]
  },
  {
   "cell_type": "code",
   "execution_count": 15,
   "id": "b0c5bdcc",
   "metadata": {},
   "outputs": [],
   "source": [
    "predict_y_train = model.predict(x_train)\n",
    "predict_y_test = model.predict(x_test)"
   ]
  },
  {
   "cell_type": "code",
   "execution_count": 16,
   "id": "50b034da",
   "metadata": {},
   "outputs": [],
   "source": [
    "import sklearn.metrics as metrics"
   ]
  },
  {
   "cell_type": "code",
   "execution_count": 17,
   "id": "218ce5db",
   "metadata": {},
   "outputs": [],
   "source": [
    "train_mae = metrics.mean_absolute_error(y_train, predict_y_train)\n",
    "train_mse = metrics.mean_squared_error(y_train, predict_y_train)\n",
    "train_rmse = np.sqrt(train_mse) \n",
    "train_r2 = metrics.r2_score(y_train, predict_y_train)"
   ]
  },
  {
   "cell_type": "code",
   "execution_count": 18,
   "id": "93121e3a",
   "metadata": {},
   "outputs": [],
   "source": [
    "test_mae = metrics.mean_absolute_error(y_test, predict_y_test)\n",
    "test_mse = metrics.mean_squared_error(y_test, predict_y_test)\n",
    "test_rmse = np.sqrt(test_mse) \n",
    "test_r2 = metrics.r2_score(y_test,predict_y_test)"
   ]
  },
  {
   "cell_type": "code",
   "execution_count": 19,
   "id": "2367e263",
   "metadata": {},
   "outputs": [
    {
     "name": "stdout",
     "output_type": "stream",
     "text": [
      " The R2 value for the train data is 0.8226533423526422.\n",
      "\n",
      " The RMSE value for the train data is 3.2488848349409003.\n",
      "\n",
      " The MAE value for the train data is 2.4465337429523153.\n",
      "\n",
      "\n",
      " The R2 value for the test data is 0.8257074539548609.\n",
      "\n",
      " The RMSE value for the test data is 3.3958125918705218.\n",
      "\n",
      " The MAE value for the test data is 2.740662818064505.\n"
     ]
    }
   ],
   "source": [
    "print(f' The R2 value for the train data is {train_r2}.')\n",
    "print(f'\\n The RMSE value for the train data is {train_rmse}.')\n",
    "print(f'\\n The MAE value for the train data is {train_mae}.')\n",
    "print(f'\\n\\n The R2 value for the test data is {test_r2}.')\n",
    "print(f'\\n The RMSE value for the test data is {test_rmse}.')\n",
    "print(f'\\n The MAE value for the test data is {test_mae}.')"
   ]
  },
  {
   "cell_type": "markdown",
   "id": "97f0d3d4",
   "metadata": {},
   "source": [
    "### Pick another regression model and repeat the previous two steps. Note: Do NOT choose logistic regression as it is more like a classification model."
   ]
  },
  {
   "cell_type": "code",
   "execution_count": 20,
   "id": "136417d6",
   "metadata": {},
   "outputs": [],
   "source": [
    "#Polynomial Regression (Quadratic)\n",
    "# import poly features\n",
    "from sklearn.preprocessing import PolynomialFeatures"
   ]
  },
  {
   "cell_type": "code",
   "execution_count": 21,
   "id": "35afd169",
   "metadata": {},
   "outputs": [],
   "source": [
    "# degree 2 polynomial object\n",
    "poly = PolynomialFeatures(degree=2, include_bias=False)"
   ]
  },
  {
   "cell_type": "code",
   "execution_count": 22,
   "id": "3b1002d8",
   "metadata": {},
   "outputs": [],
   "source": [
    "#transform into 2d array\n",
    "poly_features_train = poly.fit_transform(x_train)\n",
    "poly_features_test = poly.fit_transform(x_test)"
   ]
  },
  {
   "cell_type": "code",
   "execution_count": 23,
   "id": "74f82b3f",
   "metadata": {},
   "outputs": [],
   "source": [
    "# call linear regression object\n",
    "poly_reg_model = LinearRegression()"
   ]
  },
  {
   "cell_type": "code",
   "execution_count": 24,
   "id": "05403296",
   "metadata": {},
   "outputs": [
    {
     "data": {
      "text/plain": [
       "LinearRegression()"
      ]
     },
     "execution_count": 24,
     "metadata": {},
     "output_type": "execute_result"
    }
   ],
   "source": [
    "# train model\n",
    "poly_reg_model.fit(poly_features_train, y_train)"
   ]
  },
  {
   "cell_type": "code",
   "execution_count": 25,
   "id": "ec37af57",
   "metadata": {},
   "outputs": [],
   "source": [
    "# predict values\n",
    "predict_y_train_poly = poly_reg_model.predict(poly_features_train)\n",
    "predict_y_test_poly = poly_reg_model.predict(poly_features_test)"
   ]
  },
  {
   "cell_type": "code",
   "execution_count": 26,
   "id": "1e8814e9",
   "metadata": {},
   "outputs": [],
   "source": [
    "poly_train_mae = metrics.mean_absolute_error(y_train, predict_y_train_poly)\n",
    "poly_train_mse = metrics.mean_squared_error(y_train, predict_y_train_poly)\n",
    "poly_train_rmse = np.sqrt(poly_train_mse) \n",
    "poly_train_r2 = metrics.r2_score(y_train, predict_y_train_poly)"
   ]
  },
  {
   "cell_type": "code",
   "execution_count": 27,
   "id": "15845eb0",
   "metadata": {},
   "outputs": [],
   "source": [
    "poly_test_mae = metrics.mean_absolute_error(y_test, predict_y_test_poly)\n",
    "poly_test_mse = metrics.mean_squared_error(y_test, predict_y_test_poly)\n",
    "poly_test_rmse = np.sqrt(poly_test_mse) \n",
    "poly_test_r2 = metrics.r2_score(y_test, predict_y_test_poly)"
   ]
  },
  {
   "cell_type": "code",
   "execution_count": 29,
   "id": "5b27658f",
   "metadata": {},
   "outputs": [
    {
     "name": "stdout",
     "output_type": "stream",
     "text": [
      " The R2 value for the train data is 0.8920417731363728.\n",
      "\n",
      " The RMSE value for the train data is 2.534840774622444.\n",
      "\n",
      " The MAE value for the train data is 1.7874294434714817.\n",
      "\n",
      "\n",
      " The R2 value for the test data is 0.9283279473941277.\n",
      "\n",
      " The RMSE value for the test data is 2.177605619142765.\n",
      "\n",
      " The MAE value for the test data is 1.7135260525602387.\n",
      "\n",
      "These results are much better than the linear regression.\n"
     ]
    }
   ],
   "source": [
    "print(f' The R2 value for the train data is {poly_train_r2}.')\n",
    "print(f'\\n The RMSE value for the train data is {poly_train_rmse}.')\n",
    "print(f'\\n The MAE value for the train data is {poly_train_mae}.')\n",
    "print(f'\\n\\n The R2 value for the test data is {poly_test_r2}.')\n",
    "print(f'\\n The RMSE value for the test data is {poly_test_rmse}.')\n",
    "print(f'\\n The MAE value for the test data is {poly_test_mae}.')\n",
    "print('\\nThese results are much better than the linear regression.')"
   ]
  },
  {
   "cell_type": "code",
   "execution_count": null,
   "id": "8623f6ae",
   "metadata": {},
   "outputs": [],
   "source": []
  }
 ],
 "metadata": {
  "kernelspec": {
   "display_name": "Python 3 (ipykernel)",
   "language": "python",
   "name": "python3"
  },
  "language_info": {
   "codemirror_mode": {
    "name": "ipython",
    "version": 3
   },
   "file_extension": ".py",
   "mimetype": "text/x-python",
   "name": "python",
   "nbconvert_exporter": "python",
   "pygments_lexer": "ipython3",
   "version": "3.9.12"
  }
 },
 "nbformat": 4,
 "nbformat_minor": 5
}
