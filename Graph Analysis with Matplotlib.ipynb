{
 "cells": [
  {
   "cell_type": "markdown",
   "id": "70b8cb06",
   "metadata": {},
   "source": [
    "# Week 2 Exercises  \n",
    "\n",
    "***Karlie Schwartzwald  \n",
    "DSC 550 Fall 2022  \n",
    "Bellevue University***"
   ]
  },
  {
   "cell_type": "markdown",
   "id": "16091256",
   "metadata": {},
   "source": [
    "**Change Control Log:**  \n",
    "\n",
    "Change#: 1  \n",
    "Change(s) Made: Started and completed Assignment  \n",
    "Date of Change:  9/11/2022\n",
    "Author: Karlie Schwartzwald  \n",
    "Change Approved by: Karlie Schwartzwald  \n",
    "Date Moved to Production: 9/11/2022"
   ]
  },
  {
   "cell_type": "code",
   "execution_count": 1,
   "id": "318dbae9",
   "metadata": {},
   "outputs": [],
   "source": [
    "# Libraries\n",
    "import pandas as pd\n",
    "import numpy as np\n",
    "import matplotlib.pyplot as plt"
   ]
  },
  {
   "cell_type": "code",
   "execution_count": 2,
   "id": "3c864f4e",
   "metadata": {},
   "outputs": [],
   "source": [
    "migraine_df = pd.read_csv('migraine_data.csv')"
   ]
  },
  {
   "cell_type": "code",
   "execution_count": 3,
   "id": "3ee6a551",
   "metadata": {},
   "outputs": [
    {
     "data": {
      "text/html": [
       "<div>\n",
       "<style scoped>\n",
       "    .dataframe tbody tr th:only-of-type {\n",
       "        vertical-align: middle;\n",
       "    }\n",
       "\n",
       "    .dataframe tbody tr th {\n",
       "        vertical-align: top;\n",
       "    }\n",
       "\n",
       "    .dataframe thead th {\n",
       "        text-align: right;\n",
       "    }\n",
       "</style>\n",
       "<table border=\"1\" class=\"dataframe\">\n",
       "  <thead>\n",
       "    <tr style=\"text-align: right;\">\n",
       "      <th></th>\n",
       "      <th>Age</th>\n",
       "      <th>Duration</th>\n",
       "      <th>Frequency</th>\n",
       "      <th>Location</th>\n",
       "      <th>Character</th>\n",
       "      <th>Intensity</th>\n",
       "      <th>Nausea</th>\n",
       "      <th>Vomit</th>\n",
       "      <th>Phonophobia</th>\n",
       "      <th>Photophobia</th>\n",
       "      <th>...</th>\n",
       "      <th>Vertigo</th>\n",
       "      <th>Tinnitus</th>\n",
       "      <th>Hypoacusis</th>\n",
       "      <th>Diplopia</th>\n",
       "      <th>Defect</th>\n",
       "      <th>Ataxia</th>\n",
       "      <th>Conscience</th>\n",
       "      <th>Paresthesia</th>\n",
       "      <th>DPF</th>\n",
       "      <th>Type</th>\n",
       "    </tr>\n",
       "  </thead>\n",
       "  <tbody>\n",
       "    <tr>\n",
       "      <th>0</th>\n",
       "      <td>30</td>\n",
       "      <td>1</td>\n",
       "      <td>5</td>\n",
       "      <td>1</td>\n",
       "      <td>1</td>\n",
       "      <td>2</td>\n",
       "      <td>1</td>\n",
       "      <td>0</td>\n",
       "      <td>1</td>\n",
       "      <td>1</td>\n",
       "      <td>...</td>\n",
       "      <td>0</td>\n",
       "      <td>0</td>\n",
       "      <td>0</td>\n",
       "      <td>0</td>\n",
       "      <td>0</td>\n",
       "      <td>0</td>\n",
       "      <td>0</td>\n",
       "      <td>0</td>\n",
       "      <td>0</td>\n",
       "      <td>Typical aura with migraine</td>\n",
       "    </tr>\n",
       "    <tr>\n",
       "      <th>1</th>\n",
       "      <td>50</td>\n",
       "      <td>3</td>\n",
       "      <td>5</td>\n",
       "      <td>1</td>\n",
       "      <td>1</td>\n",
       "      <td>3</td>\n",
       "      <td>1</td>\n",
       "      <td>1</td>\n",
       "      <td>1</td>\n",
       "      <td>1</td>\n",
       "      <td>...</td>\n",
       "      <td>1</td>\n",
       "      <td>0</td>\n",
       "      <td>0</td>\n",
       "      <td>0</td>\n",
       "      <td>0</td>\n",
       "      <td>0</td>\n",
       "      <td>0</td>\n",
       "      <td>0</td>\n",
       "      <td>0</td>\n",
       "      <td>Typical aura with migraine</td>\n",
       "    </tr>\n",
       "    <tr>\n",
       "      <th>2</th>\n",
       "      <td>53</td>\n",
       "      <td>2</td>\n",
       "      <td>1</td>\n",
       "      <td>1</td>\n",
       "      <td>1</td>\n",
       "      <td>2</td>\n",
       "      <td>1</td>\n",
       "      <td>1</td>\n",
       "      <td>1</td>\n",
       "      <td>1</td>\n",
       "      <td>...</td>\n",
       "      <td>0</td>\n",
       "      <td>0</td>\n",
       "      <td>0</td>\n",
       "      <td>0</td>\n",
       "      <td>0</td>\n",
       "      <td>0</td>\n",
       "      <td>0</td>\n",
       "      <td>0</td>\n",
       "      <td>0</td>\n",
       "      <td>Typical aura with migraine</td>\n",
       "    </tr>\n",
       "    <tr>\n",
       "      <th>3</th>\n",
       "      <td>45</td>\n",
       "      <td>3</td>\n",
       "      <td>5</td>\n",
       "      <td>1</td>\n",
       "      <td>1</td>\n",
       "      <td>3</td>\n",
       "      <td>1</td>\n",
       "      <td>0</td>\n",
       "      <td>1</td>\n",
       "      <td>1</td>\n",
       "      <td>...</td>\n",
       "      <td>1</td>\n",
       "      <td>0</td>\n",
       "      <td>0</td>\n",
       "      <td>0</td>\n",
       "      <td>0</td>\n",
       "      <td>0</td>\n",
       "      <td>0</td>\n",
       "      <td>0</td>\n",
       "      <td>0</td>\n",
       "      <td>Typical aura with migraine</td>\n",
       "    </tr>\n",
       "    <tr>\n",
       "      <th>4</th>\n",
       "      <td>53</td>\n",
       "      <td>1</td>\n",
       "      <td>1</td>\n",
       "      <td>1</td>\n",
       "      <td>1</td>\n",
       "      <td>2</td>\n",
       "      <td>1</td>\n",
       "      <td>0</td>\n",
       "      <td>1</td>\n",
       "      <td>1</td>\n",
       "      <td>...</td>\n",
       "      <td>0</td>\n",
       "      <td>0</td>\n",
       "      <td>0</td>\n",
       "      <td>0</td>\n",
       "      <td>0</td>\n",
       "      <td>0</td>\n",
       "      <td>0</td>\n",
       "      <td>0</td>\n",
       "      <td>1</td>\n",
       "      <td>Typical aura with migraine</td>\n",
       "    </tr>\n",
       "    <tr>\n",
       "      <th>...</th>\n",
       "      <td>...</td>\n",
       "      <td>...</td>\n",
       "      <td>...</td>\n",
       "      <td>...</td>\n",
       "      <td>...</td>\n",
       "      <td>...</td>\n",
       "      <td>...</td>\n",
       "      <td>...</td>\n",
       "      <td>...</td>\n",
       "      <td>...</td>\n",
       "      <td>...</td>\n",
       "      <td>...</td>\n",
       "      <td>...</td>\n",
       "      <td>...</td>\n",
       "      <td>...</td>\n",
       "      <td>...</td>\n",
       "      <td>...</td>\n",
       "      <td>...</td>\n",
       "      <td>...</td>\n",
       "      <td>...</td>\n",
       "      <td>...</td>\n",
       "    </tr>\n",
       "    <tr>\n",
       "      <th>395</th>\n",
       "      <td>39</td>\n",
       "      <td>1</td>\n",
       "      <td>1</td>\n",
       "      <td>1</td>\n",
       "      <td>1</td>\n",
       "      <td>3</td>\n",
       "      <td>1</td>\n",
       "      <td>1</td>\n",
       "      <td>1</td>\n",
       "      <td>1</td>\n",
       "      <td>...</td>\n",
       "      <td>1</td>\n",
       "      <td>0</td>\n",
       "      <td>0</td>\n",
       "      <td>1</td>\n",
       "      <td>0</td>\n",
       "      <td>0</td>\n",
       "      <td>0</td>\n",
       "      <td>0</td>\n",
       "      <td>1</td>\n",
       "      <td>Basilar-type aura</td>\n",
       "    </tr>\n",
       "    <tr>\n",
       "      <th>396</th>\n",
       "      <td>20</td>\n",
       "      <td>3</td>\n",
       "      <td>2</td>\n",
       "      <td>1</td>\n",
       "      <td>1</td>\n",
       "      <td>3</td>\n",
       "      <td>1</td>\n",
       "      <td>0</td>\n",
       "      <td>1</td>\n",
       "      <td>1</td>\n",
       "      <td>...</td>\n",
       "      <td>0</td>\n",
       "      <td>1</td>\n",
       "      <td>1</td>\n",
       "      <td>0</td>\n",
       "      <td>0</td>\n",
       "      <td>0</td>\n",
       "      <td>0</td>\n",
       "      <td>0</td>\n",
       "      <td>1</td>\n",
       "      <td>Basilar-type aura</td>\n",
       "    </tr>\n",
       "    <tr>\n",
       "      <th>397</th>\n",
       "      <td>28</td>\n",
       "      <td>3</td>\n",
       "      <td>2</td>\n",
       "      <td>1</td>\n",
       "      <td>1</td>\n",
       "      <td>3</td>\n",
       "      <td>1</td>\n",
       "      <td>0</td>\n",
       "      <td>1</td>\n",
       "      <td>1</td>\n",
       "      <td>...</td>\n",
       "      <td>1</td>\n",
       "      <td>0</td>\n",
       "      <td>0</td>\n",
       "      <td>0</td>\n",
       "      <td>1</td>\n",
       "      <td>0</td>\n",
       "      <td>0</td>\n",
       "      <td>0</td>\n",
       "      <td>1</td>\n",
       "      <td>Basilar-type aura</td>\n",
       "    </tr>\n",
       "    <tr>\n",
       "      <th>398</th>\n",
       "      <td>20</td>\n",
       "      <td>3</td>\n",
       "      <td>1</td>\n",
       "      <td>1</td>\n",
       "      <td>1</td>\n",
       "      <td>3</td>\n",
       "      <td>1</td>\n",
       "      <td>0</td>\n",
       "      <td>1</td>\n",
       "      <td>1</td>\n",
       "      <td>...</td>\n",
       "      <td>1</td>\n",
       "      <td>0</td>\n",
       "      <td>0</td>\n",
       "      <td>0</td>\n",
       "      <td>0</td>\n",
       "      <td>0</td>\n",
       "      <td>0</td>\n",
       "      <td>1</td>\n",
       "      <td>1</td>\n",
       "      <td>Basilar-type aura</td>\n",
       "    </tr>\n",
       "    <tr>\n",
       "      <th>399</th>\n",
       "      <td>37</td>\n",
       "      <td>1</td>\n",
       "      <td>1</td>\n",
       "      <td>1</td>\n",
       "      <td>1</td>\n",
       "      <td>3</td>\n",
       "      <td>1</td>\n",
       "      <td>1</td>\n",
       "      <td>1</td>\n",
       "      <td>1</td>\n",
       "      <td>...</td>\n",
       "      <td>1</td>\n",
       "      <td>0</td>\n",
       "      <td>0</td>\n",
       "      <td>0</td>\n",
       "      <td>0</td>\n",
       "      <td>0</td>\n",
       "      <td>1</td>\n",
       "      <td>0</td>\n",
       "      <td>1</td>\n",
       "      <td>Basilar-type aura</td>\n",
       "    </tr>\n",
       "  </tbody>\n",
       "</table>\n",
       "<p>400 rows × 24 columns</p>\n",
       "</div>"
      ],
      "text/plain": [
       "     Age  Duration  Frequency  Location  Character  Intensity  Nausea  Vomit  \\\n",
       "0     30         1          5         1          1          2       1      0   \n",
       "1     50         3          5         1          1          3       1      1   \n",
       "2     53         2          1         1          1          2       1      1   \n",
       "3     45         3          5         1          1          3       1      0   \n",
       "4     53         1          1         1          1          2       1      0   \n",
       "..   ...       ...        ...       ...        ...        ...     ...    ...   \n",
       "395   39         1          1         1          1          3       1      1   \n",
       "396   20         3          2         1          1          3       1      0   \n",
       "397   28         3          2         1          1          3       1      0   \n",
       "398   20         3          1         1          1          3       1      0   \n",
       "399   37         1          1         1          1          3       1      1   \n",
       "\n",
       "     Phonophobia  Photophobia  ...  Vertigo  Tinnitus  Hypoacusis  Diplopia  \\\n",
       "0              1            1  ...        0         0           0         0   \n",
       "1              1            1  ...        1         0           0         0   \n",
       "2              1            1  ...        0         0           0         0   \n",
       "3              1            1  ...        1         0           0         0   \n",
       "4              1            1  ...        0         0           0         0   \n",
       "..           ...          ...  ...      ...       ...         ...       ...   \n",
       "395            1            1  ...        1         0           0         1   \n",
       "396            1            1  ...        0         1           1         0   \n",
       "397            1            1  ...        1         0           0         0   \n",
       "398            1            1  ...        1         0           0         0   \n",
       "399            1            1  ...        1         0           0         0   \n",
       "\n",
       "     Defect  Ataxia  Conscience  Paresthesia  DPF                        Type  \n",
       "0         0       0           0            0    0  Typical aura with migraine  \n",
       "1         0       0           0            0    0  Typical aura with migraine  \n",
       "2         0       0           0            0    0  Typical aura with migraine  \n",
       "3         0       0           0            0    0  Typical aura with migraine  \n",
       "4         0       0           0            0    1  Typical aura with migraine  \n",
       "..      ...     ...         ...          ...  ...                         ...  \n",
       "395       0       0           0            0    1           Basilar-type aura  \n",
       "396       0       0           0            0    1           Basilar-type aura  \n",
       "397       1       0           0            0    1           Basilar-type aura  \n",
       "398       0       0           0            1    1           Basilar-type aura  \n",
       "399       0       0           1            0    1           Basilar-type aura  \n",
       "\n",
       "[400 rows x 24 columns]"
      ]
     },
     "execution_count": 3,
     "metadata": {},
     "output_type": "execute_result"
    }
   ],
   "source": [
    "migraine_df"
   ]
  },
  {
   "cell_type": "markdown",
   "id": "01ad7784",
   "metadata": {},
   "source": [
    "###### Using a data set of your choice, write an introduction explaining the data set."
   ]
  },
  {
   "cell_type": "markdown",
   "id": "7d7087e9",
   "metadata": {},
   "source": [
    "In the dataset above, you will find a reports from individuals who experience migraine headaches. These indivuals have a variety of ages and possible symptoms associated with their migraine headaches. There are a total of 400 respondents who with 24 attributes recorded for each respondent. There is no missing data in this dataframe. Below I will include a description of the dataset and of each attribute, provided by the author of the dataset:"
   ]
  },
  {
   "cell_type": "markdown",
   "id": "8b4c04d9",
   "metadata": {},
   "source": [
    ">Data Set Information:\n",
    ">>Database comprising 400 medical records of users diagnosed with various pathologies associated with migraines. Data were recorded by trained medical personnel at the Centro Materno Infantil de Soledad during the first quarter of 2013. The compiled database contains information regarding symptoms or variable of interest required for the classification of migraines.  \n",
    "\n",
    ">Attribute Information:\n",
    ">>1) Age: Patient's age  \n",
    ">>2) Duration: duration of symptoms in last episode in days  \n",
    ">>3) Frequency: Frequency of episodes per month  \n",
    ">>4) Location: Unilateral or bilateral pain location (None - 0, Unilateral - 1, Bilateral - 2)  \n",
    ">>5) Character: Throbbing or constant pain (None - 0, Thobbing - 1, Constant - 2)  \n",
    ">>6) Intensity: Pain intensity, i.e., mild, medium, or severe (None - 0, Mild - 1, Medium - 2, Severe - 3)  \n",
    ">>7) Nausea: Nauseous feeling (Not - 0, Yes - 1)  \n",
    ">>8) Vomit: Vomiting (Not - 0, Yes - 1)  \n",
    ">>9) Phonophobia: Noise sensitivity (Not - 0, Yes - 1)  \n",
    ">>10) Photophobia: Light sensitivity (Not - 0, Yes - 1)  \n",
    ">>11) Visual: Number of reversible visual symptoms  \n",
    ">>12) Sensory: Number of reversible sensory symptoms  \n",
    ">>13) Dysphasia: Lack of speech coordination (Not - 0, Yes - 1)  \n",
    ">>14) Dysarthria: Disarticulated sounds and words (Not - 0, Yes - 1)  \n",
    ">>15) Vertigo: Dizziness (Not - 0, Yes - 1)  \n",
    ">>16) Tinnitus: Ringing in the ears (Not - 0, Yes - 1)  \n",
    ">>17) Hypoacusis: Hearing loss (Not - 0, Yes - 1)  \n",
    ">>18) Diplopia: Double vision (Not - 0, Yes - 1)  \n",
    ">>19) Visual defect: Simultaneous frontal eye field and nasal field defect and in both eyes (Not - 0, Yes - 1)  \n",
    ">>20) Ataxia: Lack of muscle control (Not - 0, Yes - 1)  \n",
    ">>21) Conscience: Jeopardized conscience (Not - 0, Yes - 1)  \n",
    ">>22) Paresthesia: Simultaneous bilateral paresthesia (Not - 0, Yes - 1)  \n",
    ">>23) DPF: Family background (Not - 0, Yes - 1)  \n",
    ">>24) Type: Diagnosis of migraine type (Typical aura with migraine, Migraine without aura, Typical aura without migraine, Familial hemiplegic migraine, Sporadic hemiplegic migraine, Basilar-type aura, Other) [247, 60, 20, 24, 14, 18, 17]  "
   ]
  },
  {
   "cell_type": "markdown",
   "id": "2439cd41",
   "metadata": {},
   "source": [
    "###### Identify a question or question(s) that you would like to explore in your data set."
   ]
  },
  {
   "cell_type": "markdown",
   "id": "def3ea04",
   "metadata": {},
   "source": [
    "I want to understand more about how age affects migraine headaches. I was told that as people age they are tend to experience a lower frequency of migraine headaches. Is this true? I would like to see what other changes an indivudal with migraines may experience as well."
   ]
  },
  {
   "cell_type": "markdown",
   "id": "c3d6466c",
   "metadata": {},
   "source": [
    "###### Create at least three graphs that help answer these questions. Make sure your graphs are clearly readable and are labeled appropriately and professionally."
   ]
  },
  {
   "cell_type": "code",
   "execution_count": 4,
   "id": "54162d7d",
   "metadata": {
    "scrolled": true
   },
   "outputs": [
    {
     "data": {
      "image/png": "[encoded data removed]",
      "text/plain": [
       "<Figure size 432x288 with 1 Axes>"
      ]
     },
     "metadata": {
      "needs_background": "light"
     },
     "output_type": "display_data"
    }
   ],
   "source": [
    "plt.scatter(migraine_df['Age'], migraine_df['Frequency'], alpha=0.5)\n",
    "plt.title(\"Age vs. Migraine Frequency Scatterplot\")\n",
    "plt.xlabel(\"Age (years)\")\n",
    "plt.ylabel(\"Frequency (Episodes per Month)\")\n",
    "plt.show()"
   ]
  },
  {
   "cell_type": "code",
   "execution_count": 5,
   "id": "6c3c79b7",
   "metadata": {},
   "outputs": [
    {
     "data": {
      "image/png": "[encoded data removed]",
      "text/plain": [
       "<Figure size 432x288 with 1 Axes>"
      ]
     },
     "metadata": {
      "needs_background": "light"
     },
     "output_type": "display_data"
    }
   ],
   "source": [
    "plt.scatter(migraine_df['Age'], migraine_df['Duration'], alpha=0.1)\n",
    "plt.title(\"Age vs. Migraine Duration Scatterplot\")\n",
    "plt.xlabel(\"Age (years)\")\n",
    "plt.ylabel(\"Duration of Last Attack (Days)\")\n",
    "plt.show()"
   ]
  },
  {
   "cell_type": "markdown",
   "id": "1de84095",
   "metadata": {},
   "source": [
    "These two graphs seemed to show a concentration of young folks reporting lots of migraines. It appears that there may be some negative correlation between age and migraine frequency according to the top scatterplot. However, this could be because of how many young people were sampled compared to older folks. Migraine duration seems to be unaffected by age."
   ]
  },
  {
   "cell_type": "code",
   "execution_count": 6,
   "id": "21d15a2b",
   "metadata": {
    "scrolled": true
   },
   "outputs": [
    {
     "data": {
      "image/png": "[encoded data removed]",
      "text/plain": [
       "<Figure size 432x288 with 1 Axes>"
      ]
     },
     "metadata": {
      "needs_background": "light"
     },
     "output_type": "display_data"
    }
   ],
   "source": [
    "age_hist = plt.hist(migraine_df['Age'], density = True)\n",
    "plt.title(\"Age of Respondents Histogram\")\n",
    "plt.xlabel(\"Age (years)\")\n",
    "plt.ylabel(\"Count\")\n",
    "plt.show()"
   ]
  },
  {
   "cell_type": "markdown",
   "id": "923c5e28",
   "metadata": {},
   "source": [
    "We can see here that there are significantly more young people who are part of this survey. It raises the question, are young people experiencing fewer migraines to report? Or is this related to survival bias? Let's split the data into two groups, very young and older people. I split along these age lines because I wanted the two groups to have only pre and post menopausal women, so I included no women between the ages of 40 and 50 into either group."
   ]
  },
  {
   "cell_type": "code",
   "execution_count": 7,
   "id": "2e02572f",
   "metadata": {},
   "outputs": [],
   "source": [
    "# All people who are post-menopausal or men\n",
    "old_df = migraine_df[migraine_df['Age'] > 50]"
   ]
  },
  {
   "cell_type": "code",
   "execution_count": 8,
   "id": "3340654e",
   "metadata": {},
   "outputs": [],
   "source": [
    "# All people who are pre-menopausal or men\n",
    "young_df = migraine_df[migraine_df['Age'] < 40]"
   ]
  },
  {
   "cell_type": "code",
   "execution_count": 9,
   "id": "58a17c84",
   "metadata": {},
   "outputs": [
    {
     "data": {
      "image/png": "[encoded data removed]",
      "text/plain": [
       "<Figure size 432x288 with 1 Axes>"
      ]
     },
     "metadata": {
      "needs_background": "light"
     },
     "output_type": "display_data"
    }
   ],
   "source": [
    "pd.DataFrame.boxplot(old_df['Frequency'])\n",
    "plt.title(\"Post-menopausal Frequency\")\n",
    "plt.ylabel(\"Frequency\")\n",
    "plt.show()"
   ]
  },
  {
   "cell_type": "code",
   "execution_count": 10,
   "id": "f5465725",
   "metadata": {},
   "outputs": [
    {
     "data": {
      "image/png": "[encoded data removed]",
      "text/plain": [
       "<Figure size 432x288 with 1 Axes>"
      ]
     },
     "metadata": {
      "needs_background": "light"
     },
     "output_type": "display_data"
    }
   ],
   "source": [
    "pd.DataFrame.boxplot(young_df['Frequency'])\n",
    "plt.title(\"Pre-menopausal Frequency\")\n",
    "plt.ylabel(\"Frequency\")\n",
    "plt.show()"
   ]
  },
  {
   "cell_type": "markdown",
   "id": "9f1babe8",
   "metadata": {},
   "source": [
    "These boxplots seem to indicate the some of what I expected, which is that young people who experience migraines may have more migraines on average than those who still have migraines later in life. Although the standard deviation is so large it is hard to make a comparison between the groups."
   ]
  },
  {
   "cell_type": "markdown",
   "id": "7d6e0ad8",
   "metadata": {},
   "source": [
    "In conclusion, it appears that the only apparent effect that age has on migraine experiencers, is that their may be fewer people being treated for migraine in old age, or they are less likely to survive to old age if they experience migraines. Surprisingly little else changed for older folks who experience migraines."
   ]
  }
 ],
 "metadata": {
  "kernelspec": {
   "display_name": "Python 3 (ipykernel)",
   "language": "python",
   "name": "python3"
  },
  "language_info": {
   "codemirror_mode": {
    "name": "ipython",
    "version": 3
   },
   "file_extension": ".py",
   "mimetype": "text/x-python",
   "name": "python",
   "nbconvert_exporter": "python",
   "pygments_lexer": "ipython3",
   "version": "3.9.12"
  }
 },
 "nbformat": 4,
 "nbformat_minor": 5
}
