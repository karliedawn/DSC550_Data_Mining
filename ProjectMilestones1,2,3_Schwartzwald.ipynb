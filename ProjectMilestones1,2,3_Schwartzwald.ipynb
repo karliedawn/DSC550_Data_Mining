{
 "cells": [
  {
   "cell_type": "markdown",
   "id": "1fd593dc",
   "metadata": {},
   "source": [
    "# Project Milestone 1: Data Selection and EDA  \n",
    "\n",
    "***Karlie Schwartzwald  \n",
    "DSC 550 Fall 2022  \n",
    "Bellevue University***"
   ]
  },
  {
   "cell_type": "markdown",
   "id": "0228e008",
   "metadata": {},
   "source": [
    "**Change Control Log:**  \n",
    "\n",
    "Change#: 1  \n",
    "Change(s) Made:  Found and imported dataset, set up outline.  \n",
    "Date of Change:  10/7/2022  \n",
    "Author: Karlie Schwartzwald  \n",
    "Change Approved by: Karlie Schwartzwald  \n",
    "Date Moved to Production: 10/9/2022  \n",
    "\n",
    "Change#: 2\n",
    "Change(s) Made:  Wrote introduction.  \n",
    "Date of Change:  10/8/2022  \n",
    "Author: Karlie Schwartzwald  \n",
    "Change Approved by: Karlie Schwartzwald  \n",
    "Date Moved to Production: 10/9/2022  \n",
    "\n",
    "Change#: 3\n",
    "Change(s) Made:  Created and analyzed graphs.  \n",
    "Date of Change:  10/8/2022  \n",
    "Author: Karlie Schwartzwald  \n",
    "Change Approved by: Karlie Schwartzwald  \n",
    "Date Moved to Production: 10/9/2022  "
   ]
  },
  {
   "cell_type": "markdown",
   "id": "ef8d3b83",
   "metadata": {},
   "source": [
    "- ***Begin Milestone 1 with a 250-500-word narrative describing your original idea for the analysis/model building business problem.***"
   ]
  },
  {
   "cell_type": "markdown",
   "id": "aa9b6174",
   "metadata": {},
   "source": [
    "In this analysis I will be discussing the creation of a model that predicts the medical insurance premium of an individual based on factors related to the physical health and condition of the individual. The variables ‘Age’, ‘Height’, ‘Weight’ and 'NumberOfMajorSurgeries'  are numeric variables, while 'Diabetes', 'BloodPressureProblems', 'AnyTransplants', 'AnyChronicDiseases', 'KnownAllergies', and 'HistoryOfCancerInFamily' are binary categorical variables. The target feature is ‘PremiumPrice’ which is a numerical variable as well. This data was provided by the individuals themselves and was given voluntarily.  \n",
    "\n",
    "I will start this analysis by making some scatterplots between features and the target to see if there is any obvious correlation between them. I plan to use a random forest regressor to model, so I will need to find the importance of each feature and use that to do feature selection. I know that random forests are typically used in classification problems, but I felt that I needed practice with this sort of model. I also need to handle any imbalanced classes so I should look at the size of each class being used. Then I can create the model using selected features and weighted classes. I plan to evaluate the model using out-of-bag errors.  \n",
    "\n",
    "This is a relevant business problem to those who, for example, work for the Health Insurance Marketplace in the United States government. This organization provides a comparison tool to help users shop for health insurance. In order to give users an accurate idea of how much they might pay for insurance premiums at a particular insurance company, we can build a model to predict that cost. This allows users to voluntarily enter anonymized health data to predict their cost and accurately compare insurance products. It could also be helpful in the efforts of those trying to socialize healthcare in the United States, because it can be shown how much more costly private insurance premiums are compared to the tax increase one would get under a Medicare-for-all type of infrastructure. "
   ]
  },
  {
   "cell_type": "markdown",
   "id": "77afdecc",
   "metadata": {},
   "source": [
    "- ***Clearly identify the problem you will address and the target for your model.***"
   ]
  },
  {
   "cell_type": "markdown",
   "id": "09fbcb30",
   "metadata": {},
   "source": [
    "I will be addressing the question of whether the selected features above can be used to generate a mdoel that predicts premium price using a random forest regressor model."
   ]
  },
  {
   "cell_type": "code",
   "execution_count": 1,
   "id": "7ac68fa1",
   "metadata": {},
   "outputs": [],
   "source": [
    "# Libraries\n",
    "import pandas as pd\n",
    "import numpy as np\n",
    "import matplotlib.pyplot as plt\n",
    "import seaborn as sns"
   ]
  },
  {
   "cell_type": "code",
   "execution_count": 2,
   "id": "3b993e5d",
   "metadata": {},
   "outputs": [],
   "source": [
    "# import dataset\n",
    "df = pd.read_csv('Medicalpremium_dataset.csv')"
   ]
  },
  {
   "cell_type": "code",
   "execution_count": 3,
   "id": "e551439b",
   "metadata": {
    "scrolled": true
   },
   "outputs": [
    {
     "name": "stdout",
     "output_type": "stream",
     "text": [
      "(986, 11)\n",
      "   Age  Diabetes  BloodPressureProblems  AnyTransplants  AnyChronicDiseases  \\\n",
      "0   45         0                      0               0                   0   \n",
      "1   60         1                      0               0                   0   \n",
      "2   36         1                      1               0                   0   \n",
      "\n",
      "   Height  Weight  KnownAllergies  HistoryOfCancerInFamily  \\\n",
      "0     155      57               0                        0   \n",
      "1     180      73               0                        0   \n",
      "2     158      59               0                        0   \n",
      "\n",
      "   NumberOfMajorSurgeries  PremiumPrice  \n",
      "0                       0         25000  \n",
      "1                       0         29000  \n",
      "2                       1         23000  \n"
     ]
    }
   ],
   "source": [
    "# view sample of dataset\n",
    "print(df.shape)\n",
    "print(df.head(3))"
   ]
  },
  {
   "cell_type": "markdown",
   "id": "c46a4f2d",
   "metadata": {},
   "source": [
    "- ***Then, do a graphical analysis creating a minimum of four graphs.***\n",
    "- ***Label your graphs appropriately and explain/analyze the information provided by each graph.***"
   ]
  },
  {
   "cell_type": "code",
   "execution_count": 4,
   "id": "4d407ac3",
   "metadata": {},
   "outputs": [
    {
     "data": {
      "image/png": "[encoded data removed]",
      "text/plain": [
       "<Figure size 432x288 with 1 Axes>"
      ]
     },
     "metadata": {
      "needs_background": "light"
     },
     "output_type": "display_data"
    },
    {
     "data": {
      "image/png": "[encoded data removed]",
      "text/plain": [
       "<Figure size 432x288 with 1 Axes>"
      ]
     },
     "metadata": {
      "needs_background": "light"
     },
     "output_type": "display_data"
    },
    {
     "data": {
      "image/png": "[encoded data removed]",
      "text/plain": [
       "<Figure size 432x288 with 1 Axes>"
      ]
     },
     "metadata": {
      "needs_background": "light"
     },
     "output_type": "display_data"
    },
    {
     "data": {
      "image/png": "[encoded data removed]",
      "text/plain": [
       "<Figure size 432x288 with 1 Axes>"
      ]
     },
     "metadata": {
      "needs_background": "light"
     },
     "output_type": "display_data"
    },
    {
     "data": {
      "image/png": "[encoded data removed]",
      "text/plain": [
       "<Figure size 432x288 with 1 Axes>"
      ]
     },
     "metadata": {
      "needs_background": "light"
     },
     "output_type": "display_data"
    },
    {
     "data": {
      "image/png": "[encoded data removed]",
      "text/plain": [
       "<Figure size 432x288 with 1 Axes>"
      ]
     },
     "metadata": {
      "needs_background": "light"
     },
     "output_type": "display_data"
    },
    {
     "data": {
      "image/png": "[encoded data removed]",
      "text/plain": [
       "<Figure size 432x288 with 1 Axes>"
      ]
     },
     "metadata": {
      "needs_background": "light"
     },
     "output_type": "display_data"
    },
    {
     "data": {
      "image/png": "[encoded data removed]",
      "text/plain": [
       "<Figure size 432x288 with 1 Axes>"
      ]
     },
     "metadata": {
      "needs_background": "light"
     },
     "output_type": "display_data"
    },
    {
     "data": {
      "image/png": "[encoded data removed]",
      "text/plain": [
       "<Figure size 432x288 with 1 Axes>"
      ]
     },
     "metadata": {
      "needs_background": "light"
     },
     "output_type": "display_data"
    },
    {
     "data": {
      "image/png": "[encoded data removed]",
      "text/plain": [
       "<Figure size 432x288 with 1 Axes>"
      ]
     },
     "metadata": {
      "needs_background": "light"
     },
     "output_type": "display_data"
    },
    {
     "data": {
      "image/png": "[encoded data removed]",
      "text/plain": [
       "<Figure size 432x288 with 1 Axes>"
      ]
     },
     "metadata": {
      "needs_background": "light"
     },
     "output_type": "display_data"
    }
   ],
   "source": [
    "# make histograms for each feature\n",
    "for column in df:\n",
    "    plt.title(\"Histogram of \" + column)\n",
    "    plt.hist(df[column], bins='auto', density=True)\n",
    "    plt.show()"
   ]
  },
  {
   "cell_type": "markdown",
   "id": "bc2a337e",
   "metadata": {},
   "source": [
    "These histograms give us information about how our classes are weighted, and whether there are any visible outliers in the data. Age, Diabetes, BloodPressureProblems, and height all seem to be weighted relatively well. However, AnyTransplants, AnyChronicDiseases, Weight, KnownAllergies, CancerinFamily and NumberofMajorSurgeries are imbalanced classes. No series outliers for nay of the features."
   ]
  },
  {
   "cell_type": "code",
   "execution_count": 5,
   "id": "e7e96866",
   "metadata": {
    "scrolled": true
   },
   "outputs": [
    {
     "data": {
      "text/plain": [
       "<AxesSubplot:>"
      ]
     },
     "execution_count": 5,
     "metadata": {},
     "output_type": "execute_result"
    },
    {
     "data": {
      "image/png": "[encoded data removed]",
      "text/plain": [
       "<Figure size 432x288 with 2 Axes>"
      ]
     },
     "metadata": {
      "needs_background": "light"
     },
     "output_type": "display_data"
    }
   ],
   "source": [
    "# correlation heat map\n",
    "sns.heatmap(df.corr())"
   ]
  },
  {
   "cell_type": "markdown",
   "id": "cd200d0a",
   "metadata": {},
   "source": [
    "Here we can see that the variable with the strongest correlation to PremiumPrice is Age. None of other variables are even close to the correlation that Age has. "
   ]
  },
  {
   "cell_type": "code",
   "execution_count": 6,
   "id": "3437810e",
   "metadata": {
    "scrolled": true
   },
   "outputs": [
    {
     "data": {
      "image/png": "[encoded data removed]",
      "text/plain": [
       "<Figure size 432x288 with 1 Axes>"
      ]
     },
     "metadata": {
      "needs_background": "light"
     },
     "output_type": "display_data"
    }
   ],
   "source": [
    "# Scatterplots of all variables that are not categorical\n",
    "# Age vs. Premium\n",
    "plt.scatter(df['Age'], df['PremiumPrice'], alpha=0.5)\n",
    "plt.title(f\"Scatterplot of Age vs. Premium Price\", fontsize = 15)\n",
    "plt.ylabel(\"Premium Price in $\", fontsize = 8)\n",
    "plt.xlabel(f'Age (Years)', fontsize = 8)\n",
    "plt.show()"
   ]
  },
  {
   "cell_type": "markdown",
   "id": "e3574a72",
   "metadata": {},
   "source": [
    "We can see that this correlation is still apparent when just looking at the scatterplot of PremiumPrice vs. Age. "
   ]
  },
  {
   "cell_type": "code",
   "execution_count": 7,
   "id": "f45dff91",
   "metadata": {},
   "outputs": [
    {
     "data": {
      "image/png": "[encoded data removed]",
      "text/plain": [
       "<Figure size 432x288 with 1 Axes>"
      ]
     },
     "metadata": {
      "needs_background": "light"
     },
     "output_type": "display_data"
    }
   ],
   "source": [
    "# Scatterplot of Height vs Premium\n",
    "plt.scatter(df['Height'], df['PremiumPrice'], alpha=0.5)\n",
    "plt.title(f\"Scatterplot of Height vs. Premium Price\", fontsize = 15)\n",
    "plt.ylabel(\"Premium Price in $\", fontsize = 8)\n",
    "plt.xlabel(f'Height', fontsize = 8)\n",
    "plt.show()"
   ]
  },
  {
   "cell_type": "code",
   "execution_count": 8,
   "id": "2e8296de",
   "metadata": {},
   "outputs": [
    {
     "data": {
      "image/png": "[encoded data removed]",
      "text/plain": [
       "<Figure size 432x288 with 1 Axes>"
      ]
     },
     "metadata": {
      "needs_background": "light"
     },
     "output_type": "display_data"
    }
   ],
   "source": [
    "#Scatterplot of Weight vs premium\n",
    "plt.scatter(df['Weight'], df['PremiumPrice'], alpha=0.5)\n",
    "plt.title(f\"Scatterplot of Weight vs. Premium Price\", fontsize = 15)\n",
    "plt.ylabel(\"Premium Price in $\", fontsize = 8)\n",
    "plt.xlabel(f'Weight', fontsize = 8)\n",
    "plt.show()"
   ]
  },
  {
   "cell_type": "markdown",
   "id": "32806992",
   "metadata": {},
   "source": [
    "- ***Write a short overview/conclusion of the insights gained from your graphical analysis.***"
   ]
  },
  {
   "cell_type": "markdown",
   "id": "29c144e0",
   "metadata": {},
   "source": [
    "In conclusion, the histograms showed us which classes are balanced and which are imbalanced. They also showed us that outliers aren't an issue in this dataset. The correlation showed us that there are features which are promising in model creation to predict PremiumPrice. And The only scatterplot that had any sort of apparent correlation was the scatterplot of Age vs. Premium Price."
   ]
  },
  {
   "cell_type": "markdown",
   "id": "1dd2e5db",
   "metadata": {},
   "source": [
    "# Project Milestone 2: Data Preparation\n",
    "\n",
    "***Karlie Schwartzwald  \n",
    "DSC 550 Fall 2022  \n",
    "Bellevue University***"
   ]
  },
  {
   "cell_type": "markdown",
   "id": "2a7b0576",
   "metadata": {},
   "source": [
    "**Change Control Log:**  \n",
    "\n",
    "Change#: 1  \n",
    "Change(s) Made:  \n",
    "Date of Change:  \n",
    "Author: Karlie Schwartzwald  \n",
    "Change Approved by: Karlie Schwartzwald  \n",
    "Date Moved to Production: 10/23/2022  "
   ]
  },
  {
   "cell_type": "markdown",
   "id": "d7099006",
   "metadata": {},
   "source": [
    "***Now that you have created your idea, located data, and have started your graphical analysis, you will move on to the data preparation process of your project. After completing Milestone 2, your data should be ready for the model building/evaluation phase.***"
   ]
  },
  {
   "cell_type": "markdown",
   "id": "9bfdbbc2",
   "metadata": {},
   "source": [
    "***Explain your process at each step. You can use any methods/tools you think are most appropriate. Do what makes the most sense for your data/problem. This will vary greatly among different projects. Be careful to avoid data snooping in these steps.***"
   ]
  },
  {
   "cell_type": "code",
   "execution_count": 9,
   "id": "b997d933",
   "metadata": {},
   "outputs": [],
   "source": [
    "# Libraries\n",
    "import numpy as np\n",
    "from sklearn.preprocessing import StandardScaler\n",
    "from sklearn.model_selection import train_test_split"
   ]
  },
  {
   "cell_type": "markdown",
   "id": "08a98420",
   "metadata": {},
   "source": [
    "***Engineer new useful features.***"
   ]
  },
  {
   "cell_type": "code",
   "execution_count": 10,
   "id": "df7e2e03",
   "metadata": {},
   "outputs": [],
   "source": [
    "# BMI would be useful to calculate where BMI = weight (lb) / [height (in)]2 x 703\n",
    "df['BMI'] = df['Weight']/(df['Height'])**2*703"
   ]
  },
  {
   "cell_type": "code",
   "execution_count": 11,
   "id": "0eb735fd",
   "metadata": {},
   "outputs": [
    {
     "data": {
      "text/html": [
       "<div>\n",
       "<style scoped>\n",
       "    .dataframe tbody tr th:only-of-type {\n",
       "        vertical-align: middle;\n",
       "    }\n",
       "\n",
       "    .dataframe tbody tr th {\n",
       "        vertical-align: top;\n",
       "    }\n",
       "\n",
       "    .dataframe thead th {\n",
       "        text-align: right;\n",
       "    }\n",
       "</style>\n",
       "<table border=\"1\" class=\"dataframe\">\n",
       "  <thead>\n",
       "    <tr style=\"text-align: right;\">\n",
       "      <th></th>\n",
       "      <th>Age</th>\n",
       "      <th>Diabetes</th>\n",
       "      <th>BloodPressureProblems</th>\n",
       "      <th>AnyTransplants</th>\n",
       "      <th>AnyChronicDiseases</th>\n",
       "      <th>Height</th>\n",
       "      <th>Weight</th>\n",
       "      <th>KnownAllergies</th>\n",
       "      <th>HistoryOfCancerInFamily</th>\n",
       "      <th>NumberOfMajorSurgeries</th>\n",
       "      <th>PremiumPrice</th>\n",
       "      <th>BMI</th>\n",
       "    </tr>\n",
       "  </thead>\n",
       "  <tbody>\n",
       "    <tr>\n",
       "      <th>0</th>\n",
       "      <td>45</td>\n",
       "      <td>0</td>\n",
       "      <td>0</td>\n",
       "      <td>0</td>\n",
       "      <td>0</td>\n",
       "      <td>155</td>\n",
       "      <td>57</td>\n",
       "      <td>0</td>\n",
       "      <td>0</td>\n",
       "      <td>0</td>\n",
       "      <td>25000</td>\n",
       "      <td>1.667888</td>\n",
       "    </tr>\n",
       "    <tr>\n",
       "      <th>1</th>\n",
       "      <td>60</td>\n",
       "      <td>1</td>\n",
       "      <td>0</td>\n",
       "      <td>0</td>\n",
       "      <td>0</td>\n",
       "      <td>180</td>\n",
       "      <td>73</td>\n",
       "      <td>0</td>\n",
       "      <td>0</td>\n",
       "      <td>0</td>\n",
       "      <td>29000</td>\n",
       "      <td>1.583920</td>\n",
       "    </tr>\n",
       "    <tr>\n",
       "      <th>2</th>\n",
       "      <td>36</td>\n",
       "      <td>1</td>\n",
       "      <td>1</td>\n",
       "      <td>0</td>\n",
       "      <td>0</td>\n",
       "      <td>158</td>\n",
       "      <td>59</td>\n",
       "      <td>0</td>\n",
       "      <td>0</td>\n",
       "      <td>1</td>\n",
       "      <td>23000</td>\n",
       "      <td>1.661473</td>\n",
       "    </tr>\n",
       "    <tr>\n",
       "      <th>3</th>\n",
       "      <td>52</td>\n",
       "      <td>1</td>\n",
       "      <td>1</td>\n",
       "      <td>0</td>\n",
       "      <td>1</td>\n",
       "      <td>183</td>\n",
       "      <td>93</td>\n",
       "      <td>0</td>\n",
       "      <td>0</td>\n",
       "      <td>2</td>\n",
       "      <td>28000</td>\n",
       "      <td>1.952253</td>\n",
       "    </tr>\n",
       "    <tr>\n",
       "      <th>4</th>\n",
       "      <td>38</td>\n",
       "      <td>0</td>\n",
       "      <td>0</td>\n",
       "      <td>0</td>\n",
       "      <td>1</td>\n",
       "      <td>166</td>\n",
       "      <td>88</td>\n",
       "      <td>0</td>\n",
       "      <td>0</td>\n",
       "      <td>1</td>\n",
       "      <td>23000</td>\n",
       "      <td>2.245028</td>\n",
       "    </tr>\n",
       "  </tbody>\n",
       "</table>\n",
       "</div>"
      ],
      "text/plain": [
       "   Age  Diabetes  BloodPressureProblems  AnyTransplants  AnyChronicDiseases  \\\n",
       "0   45         0                      0               0                   0   \n",
       "1   60         1                      0               0                   0   \n",
       "2   36         1                      1               0                   0   \n",
       "3   52         1                      1               0                   1   \n",
       "4   38         0                      0               0                   1   \n",
       "\n",
       "   Height  Weight  KnownAllergies  HistoryOfCancerInFamily  \\\n",
       "0     155      57               0                        0   \n",
       "1     180      73               0                        0   \n",
       "2     158      59               0                        0   \n",
       "3     183      93               0                        0   \n",
       "4     166      88               0                        0   \n",
       "\n",
       "   NumberOfMajorSurgeries  PremiumPrice       BMI  \n",
       "0                       0         25000  1.667888  \n",
       "1                       0         29000  1.583920  \n",
       "2                       1         23000  1.661473  \n",
       "3                       2         28000  1.952253  \n",
       "4                       1         23000  2.245028  "
      ]
     },
     "execution_count": 11,
     "metadata": {},
     "output_type": "execute_result"
    }
   ],
   "source": [
    "df.head()"
   ]
  },
  {
   "cell_type": "markdown",
   "id": "41a8b28e",
   "metadata": {},
   "source": [
    "***Deal with missing data (do not just drop rows or columns without justifying this).***"
   ]
  },
  {
   "cell_type": "code",
   "execution_count": 12,
   "id": "fe71beea",
   "metadata": {},
   "outputs": [
    {
     "data": {
      "text/plain": [
       "Age                        0\n",
       "Diabetes                   0\n",
       "BloodPressureProblems      0\n",
       "AnyTransplants             0\n",
       "AnyChronicDiseases         0\n",
       "Height                     0\n",
       "Weight                     0\n",
       "KnownAllergies             0\n",
       "HistoryOfCancerInFamily    0\n",
       "NumberOfMajorSurgeries     0\n",
       "PremiumPrice               0\n",
       "BMI                        0\n",
       "dtype: int64"
      ]
     },
     "execution_count": 12,
     "metadata": {},
     "output_type": "execute_result"
    }
   ],
   "source": [
    "df.isna().sum()\n",
    "# There is no missing data, yay!"
   ]
  },
  {
   "cell_type": "markdown",
   "id": "0987795b",
   "metadata": {},
   "source": [
    "***Create dummy variables if necessary.***"
   ]
  },
  {
   "cell_type": "markdown",
   "id": "e9a428f5",
   "metadata": {},
   "source": [
    "I was going to make dummy variables for each of the binary categorical variables in my dataset. But I realized that this is mathematically eequivalent to just keeping the binary columns the way they are, with half as many variables than we would have if we made redundant dummy variables."
   ]
  },
  {
   "cell_type": "markdown",
   "id": "1bb8fef9",
   "metadata": {},
   "source": [
    "***Perform any data extraction/selection steps.***"
   ]
  },
  {
   "cell_type": "code",
   "execution_count": 13,
   "id": "620f919c",
   "metadata": {},
   "outputs": [],
   "source": [
    "# Seperate target feature and training features\n",
    "x = df.drop('PremiumPrice', axis = 1)\n",
    "y = df['PremiumPrice']"
   ]
  },
  {
   "cell_type": "code",
   "execution_count": 14,
   "id": "d261e98e",
   "metadata": {},
   "outputs": [],
   "source": [
    "# Training and testing Split\n",
    "x_train, x_test, y_train, y_test = train_test_split(x,y)"
   ]
  },
  {
   "cell_type": "markdown",
   "id": "3a86cd63",
   "metadata": {},
   "source": [
    "***Transform features if necessary.***"
   ]
  },
  {
   "cell_type": "code",
   "execution_count": 15,
   "id": "a65e2cc2",
   "metadata": {},
   "outputs": [],
   "source": [
    "# Standardize feature matrix\n",
    "scaler = StandardScaler()\n",
    "features = scaler.fit_transform(x_train, y_train)\n",
    "test_features = scaler.transform(x_test)"
   ]
  },
  {
   "cell_type": "markdown",
   "id": "2b46737b",
   "metadata": {},
   "source": [
    "***Drop any features that are not useful for your model building and explain why they are not useful.***"
   ]
  },
  {
   "cell_type": "markdown",
   "id": "a4423f1e",
   "metadata": {},
   "source": [
    "We won't be dropping any features for this model building exercise because the Random Forest Regressor has intrinsic feature selection. Feature selection can be further narrowed down after a model has been built and evaluated using SelectFromModel(RandomForest)"
   ]
  },
  {
   "cell_type": "markdown",
   "id": "0280e78e",
   "metadata": {},
   "source": [
    "# Project Milestone 3: Model Building and Evaluation\n",
    "\n",
    "***Karlie Schwartzwald  \n",
    "DSC 550 Fall 2022  \n",
    "Bellevue University***"
   ]
  },
  {
   "cell_type": "markdown",
   "id": "538a1b55",
   "metadata": {},
   "source": [
    "**Change Control Log:**  \n",
    "\n",
    "Change#: 1  \n",
    "Change(s) Made:  Started Model Building.  \n",
    "Date of Change:  11/5/2022  \n",
    "Author: Karlie Schwartzwald  \n",
    "Change Approved by: Karlie Schwartzwald  \n",
    "Date Moved to Production: 11/6/2022  "
   ]
  },
  {
   "cell_type": "markdown",
   "id": "bd432d83",
   "metadata": {},
   "source": [
    "### Hyperparameter Tuning\n",
    "\n",
    "Here we will find the max_features and n_estimators in order to optimize our random forest regressor."
   ]
  },
  {
   "cell_type": "code",
   "execution_count": 16,
   "id": "a11664a9",
   "metadata": {},
   "outputs": [],
   "source": [
    "# Libraries \n",
    "from sklearn.pipeline import Pipeline\n",
    "from sklearn.ensemble import RandomForestRegressor\n",
    "from sklearn.ensemble import RandomForestClassifier\n",
    "from sklearn.model_selection import GridSearchCV\n",
    "import sklearn.metrics as metrics"
   ]
  },
  {
   "cell_type": "code",
   "execution_count": 17,
   "id": "46c59992",
   "metadata": {},
   "outputs": [],
   "source": [
    "# Create a pipeline to use in searching for optimal model\n",
    "pipe = Pipeline([(\"classifier\", RandomForestClassifier())])"
   ]
  },
  {
   "cell_type": "code",
   "execution_count": 18,
   "id": "1ae881f4",
   "metadata": {},
   "outputs": [],
   "source": [
    "# Create dictionary with candidate learning algorithm and their hyperparameters\n",
    "search_space = [\n",
    " {\"classifier\": [RandomForestRegressor()],\n",
    " \"classifier__n_estimators\": [10, 100, 1000],\n",
    " \"classifier__max_features\": [1, 2, 3, 4, 5]}]"
   ]
  },
  {
   "cell_type": "code",
   "execution_count": 19,
   "id": "dd66f62d",
   "metadata": {},
   "outputs": [],
   "source": [
    "# Create grid search\n",
    "gridsearch = GridSearchCV(pipe, search_space, cv=5, verbose=0)"
   ]
  },
  {
   "cell_type": "code",
   "execution_count": 20,
   "id": "baa7a7dd",
   "metadata": {},
   "outputs": [
    {
     "name": "stderr",
     "output_type": "stream",
     "text": [
      "C:\\ProgramData\\Anaconda3\\lib\\site-packages\\sklearn\\model_selection\\_split.py:666: UserWarning: The least populated class in y has only 1 members, which is less than n_splits=5.\n",
      "  warnings.warn((\"The least populated class in y has only %d\"\n"
     ]
    }
   ],
   "source": [
    "best_model = gridsearch.fit(features,y_train)"
   ]
  },
  {
   "cell_type": "code",
   "execution_count": 21,
   "id": "30047e29",
   "metadata": {},
   "outputs": [
    {
     "data": {
      "text/plain": [
       "RandomForestRegressor(max_features=5, n_estimators=1000)"
      ]
     },
     "execution_count": 21,
     "metadata": {},
     "output_type": "execute_result"
    }
   ],
   "source": [
    "# View best model\n",
    "model = best_model.best_estimator_.get_params()[\"classifier\"]\n",
    "model"
   ]
  },
  {
   "cell_type": "markdown",
   "id": "79b81e8e",
   "metadata": {},
   "source": [
    "It appears that our best random forest regression model will have max_features = 5 and n_estimators = 1000."
   ]
  },
  {
   "cell_type": "markdown",
   "id": "c74a66b9",
   "metadata": {},
   "source": [
    "### Model Building\n",
    "\n",
    "Now that we have our hyperparameters tuned, we will build a random forest regressor model."
   ]
  },
  {
   "cell_type": "code",
   "execution_count": 22,
   "id": "73902002",
   "metadata": {},
   "outputs": [],
   "source": [
    "# create regressor object\n",
    "regressor = RandomForestRegressor(max_features=5, n_estimators=1000, oob_score=True)"
   ]
  },
  {
   "cell_type": "code",
   "execution_count": 23,
   "id": "4be94c6c",
   "metadata": {},
   "outputs": [
    {
     "data": {
      "text/plain": [
       "RandomForestRegressor(max_features=5, n_estimators=1000, oob_score=True)"
      ]
     },
     "execution_count": 23,
     "metadata": {},
     "output_type": "execute_result"
    }
   ],
   "source": [
    "# Fit the regressor\n",
    "regressor.fit(features, y_train)"
   ]
  },
  {
   "cell_type": "code",
   "execution_count": 24,
   "id": "852f4032",
   "metadata": {},
   "outputs": [],
   "source": [
    "# Make predictions on test data\n",
    "y_pred = regressor.predict(test_features)"
   ]
  },
  {
   "cell_type": "markdown",
   "id": "24aad7ee",
   "metadata": {},
   "source": [
    "### Evaluate Model"
   ]
  },
  {
   "cell_type": "code",
   "execution_count": 25,
   "id": "574a2a99",
   "metadata": {},
   "outputs": [
    {
     "data": {
      "text/plain": [
       "0.7942981340348321"
      ]
     },
     "execution_count": 25,
     "metadata": {},
     "output_type": "execute_result"
    }
   ],
   "source": [
    "# Out of bag score:\n",
    "regressor.oob_score_"
   ]
  },
  {
   "cell_type": "code",
   "execution_count": 26,
   "id": "2e084849",
   "metadata": {},
   "outputs": [],
   "source": [
    "from sklearn import metrics"
   ]
  },
  {
   "cell_type": "code",
   "execution_count": 27,
   "id": "77029805",
   "metadata": {},
   "outputs": [],
   "source": [
    "mae = metrics.mean_absolute_error(y_test, y_pred)\n",
    "mse = metrics.mean_squared_error(y_test, y_pred)\n",
    "rmse = np.sqrt(mse)"
   ]
  },
  {
   "cell_type": "code",
   "execution_count": 28,
   "id": "e4305c09",
   "metadata": {
    "scrolled": true
   },
   "outputs": [
    {
     "name": "stdout",
     "output_type": "stream",
     "text": [
      "The MAE value is: 1393.7246963562752.\n",
      "\n",
      "The MSE value is: 8004740.016194332.\n",
      "\n",
      "The RMSE value is: 2829.2649250634577.\n",
      "\n"
     ]
    }
   ],
   "source": [
    "print(f'The MAE value is: {mae}.\\n')\n",
    "print(f'The MSE value is: {mse}.\\n')\n",
    "print(f'The RMSE value is: {rmse}.\\n')"
   ]
  },
  {
   "cell_type": "markdown",
   "id": "282b2e5d",
   "metadata": {},
   "source": [
    "I used a grid search with a random forest classifier to perform hyperparameter tuning of my model. That hyperparamter tuning yeilded results, (specifically max_features = 5 and n_estimators=1000, ) which allowed me to optimally fit a radnom forest regressor model onto the data. I chose a random forest regressor because I needed to use a regression model, since I am predicting values not classifying. And random forest regressors are the types of regressors I have the least knowledge of any type of regression we have seen so far. For evaluating the model, I inluded out-of-bag errors as well as MAE, MSE, and RMSE scores. I provided all of these metrics because they are all available to regression models. I did not include R2 because this is not a linear regression. I do think that OOB errors is the best way to evaluate this model, and the model seems to have an OOB score of approximately 80%."
   ]
  },
  {
   "cell_type": "code",
   "execution_count": null,
   "id": "bea7f3d9",
   "metadata": {},
   "outputs": [],
   "source": []
  }
 ],
 "metadata": {
  "kernelspec": {
   "display_name": "Python 3 (ipykernel)",
   "language": "python",
   "name": "python3"
  },
  "language_info": {
   "codemirror_mode": {
    "name": "ipython",
    "version": 3
   },
   "file_extension": ".py",
   "mimetype": "text/x-python",
   "name": "python",
   "nbconvert_exporter": "python",
   "pygments_lexer": "ipython3",
   "version": "3.9.12"
  }
 },
 "nbformat": 4,
 "nbformat_minor": 5
}
