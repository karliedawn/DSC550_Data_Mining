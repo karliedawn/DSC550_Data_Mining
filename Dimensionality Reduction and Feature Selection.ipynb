{
 "cells": [
  {
   "cell_type": "markdown",
   "id": "66e765a3",
   "metadata": {},
   "source": [
    "# Week 7 Exercises  \n",
    "\n",
    "***Karlie Schwartzwald  \n",
    "DSC 550 Fall 2022  \n",
    "Bellevue University***"
   ]
  },
  {
   "cell_type": "markdown",
   "id": "ff92952a",
   "metadata": {},
   "source": [
    "**Change Control Log:**  \n",
    "\n",
    "Change#: 1  \n",
    "Change(s) Made:  Completed through Part 1 Step 6  \n",
    "Date of Change:  10/13/2022  \n",
    "Author: Karlie Schwartzwald  \n",
    "Change Approved by: Karlie Schwartzwald  \n",
    "Date Moved to Production: 10/16/2022  \n",
    "\n",
    "Change#: 2  \n",
    "Change(s) Made:  Completed Part 1 Step 7 through step 16 and Part 2.      \n",
    "Date of Change:  10/14/2022  \n",
    "Author: Karlie Schwartzwald  \n",
    "Change Approved by: Karlie Schwartzwald  \n",
    "Date Moved to Production: 10/16/2022  "
   ]
  },
  {
   "cell_type": "code",
   "execution_count": 1,
   "id": "ae4281c1",
   "metadata": {},
   "outputs": [],
   "source": [
    "# Libraries\n",
    "import pandas as pd\n",
    "import numpy as np\n",
    "import matplotlib.pyplot as plt\n",
    "from sklearn import datasets, linear_model, metrics"
   ]
  },
  {
   "cell_type": "markdown",
   "id": "aadf19f1",
   "metadata": {},
   "source": [
    "## Part 1: PCA and Variance Threshold in a Linear Regression"
   ]
  },
  {
   "cell_type": "markdown",
   "id": "d8023dae",
   "metadata": {},
   "source": [
    "1. Import the housing data as a data frame and ensure that the data is loaded properly."
   ]
  },
  {
   "cell_type": "code",
   "execution_count": 2,
   "id": "ce380aa6",
   "metadata": {},
   "outputs": [],
   "source": [
    "# import dataset\n",
    "housing_df = pd.read_csv(\"train.csv\")"
   ]
  },
  {
   "cell_type": "code",
   "execution_count": 3,
   "id": "3b95e1fb",
   "metadata": {},
   "outputs": [
    {
     "data": {
      "text/html": [
       "<div>\n",
       "<style scoped>\n",
       "    .dataframe tbody tr th:only-of-type {\n",
       "        vertical-align: middle;\n",
       "    }\n",
       "\n",
       "    .dataframe tbody tr th {\n",
       "        vertical-align: top;\n",
       "    }\n",
       "\n",
       "    .dataframe thead th {\n",
       "        text-align: right;\n",
       "    }\n",
       "</style>\n",
       "<table border=\"1\" class=\"dataframe\">\n",
       "  <thead>\n",
       "    <tr style=\"text-align: right;\">\n",
       "      <th></th>\n",
       "      <th>Id</th>\n",
       "      <th>MSSubClass</th>\n",
       "      <th>MSZoning</th>\n",
       "      <th>LotFrontage</th>\n",
       "      <th>LotArea</th>\n",
       "      <th>Street</th>\n",
       "      <th>Alley</th>\n",
       "      <th>LotShape</th>\n",
       "      <th>LandContour</th>\n",
       "      <th>Utilities</th>\n",
       "      <th>...</th>\n",
       "      <th>PoolArea</th>\n",
       "      <th>PoolQC</th>\n",
       "      <th>Fence</th>\n",
       "      <th>MiscFeature</th>\n",
       "      <th>MiscVal</th>\n",
       "      <th>MoSold</th>\n",
       "      <th>YrSold</th>\n",
       "      <th>SaleType</th>\n",
       "      <th>SaleCondition</th>\n",
       "      <th>SalePrice</th>\n",
       "    </tr>\n",
       "  </thead>\n",
       "  <tbody>\n",
       "    <tr>\n",
       "      <th>0</th>\n",
       "      <td>1</td>\n",
       "      <td>60</td>\n",
       "      <td>RL</td>\n",
       "      <td>65.0</td>\n",
       "      <td>8450</td>\n",
       "      <td>Pave</td>\n",
       "      <td>NaN</td>\n",
       "      <td>Reg</td>\n",
       "      <td>Lvl</td>\n",
       "      <td>AllPub</td>\n",
       "      <td>...</td>\n",
       "      <td>0</td>\n",
       "      <td>NaN</td>\n",
       "      <td>NaN</td>\n",
       "      <td>NaN</td>\n",
       "      <td>0</td>\n",
       "      <td>2</td>\n",
       "      <td>2008</td>\n",
       "      <td>WD</td>\n",
       "      <td>Normal</td>\n",
       "      <td>208500</td>\n",
       "    </tr>\n",
       "    <tr>\n",
       "      <th>1</th>\n",
       "      <td>2</td>\n",
       "      <td>20</td>\n",
       "      <td>RL</td>\n",
       "      <td>80.0</td>\n",
       "      <td>9600</td>\n",
       "      <td>Pave</td>\n",
       "      <td>NaN</td>\n",
       "      <td>Reg</td>\n",
       "      <td>Lvl</td>\n",
       "      <td>AllPub</td>\n",
       "      <td>...</td>\n",
       "      <td>0</td>\n",
       "      <td>NaN</td>\n",
       "      <td>NaN</td>\n",
       "      <td>NaN</td>\n",
       "      <td>0</td>\n",
       "      <td>5</td>\n",
       "      <td>2007</td>\n",
       "      <td>WD</td>\n",
       "      <td>Normal</td>\n",
       "      <td>181500</td>\n",
       "    </tr>\n",
       "    <tr>\n",
       "      <th>2</th>\n",
       "      <td>3</td>\n",
       "      <td>60</td>\n",
       "      <td>RL</td>\n",
       "      <td>68.0</td>\n",
       "      <td>11250</td>\n",
       "      <td>Pave</td>\n",
       "      <td>NaN</td>\n",
       "      <td>IR1</td>\n",
       "      <td>Lvl</td>\n",
       "      <td>AllPub</td>\n",
       "      <td>...</td>\n",
       "      <td>0</td>\n",
       "      <td>NaN</td>\n",
       "      <td>NaN</td>\n",
       "      <td>NaN</td>\n",
       "      <td>0</td>\n",
       "      <td>9</td>\n",
       "      <td>2008</td>\n",
       "      <td>WD</td>\n",
       "      <td>Normal</td>\n",
       "      <td>223500</td>\n",
       "    </tr>\n",
       "    <tr>\n",
       "      <th>3</th>\n",
       "      <td>4</td>\n",
       "      <td>70</td>\n",
       "      <td>RL</td>\n",
       "      <td>60.0</td>\n",
       "      <td>9550</td>\n",
       "      <td>Pave</td>\n",
       "      <td>NaN</td>\n",
       "      <td>IR1</td>\n",
       "      <td>Lvl</td>\n",
       "      <td>AllPub</td>\n",
       "      <td>...</td>\n",
       "      <td>0</td>\n",
       "      <td>NaN</td>\n",
       "      <td>NaN</td>\n",
       "      <td>NaN</td>\n",
       "      <td>0</td>\n",
       "      <td>2</td>\n",
       "      <td>2006</td>\n",
       "      <td>WD</td>\n",
       "      <td>Abnorml</td>\n",
       "      <td>140000</td>\n",
       "    </tr>\n",
       "    <tr>\n",
       "      <th>4</th>\n",
       "      <td>5</td>\n",
       "      <td>60</td>\n",
       "      <td>RL</td>\n",
       "      <td>84.0</td>\n",
       "      <td>14260</td>\n",
       "      <td>Pave</td>\n",
       "      <td>NaN</td>\n",
       "      <td>IR1</td>\n",
       "      <td>Lvl</td>\n",
       "      <td>AllPub</td>\n",
       "      <td>...</td>\n",
       "      <td>0</td>\n",
       "      <td>NaN</td>\n",
       "      <td>NaN</td>\n",
       "      <td>NaN</td>\n",
       "      <td>0</td>\n",
       "      <td>12</td>\n",
       "      <td>2008</td>\n",
       "      <td>WD</td>\n",
       "      <td>Normal</td>\n",
       "      <td>250000</td>\n",
       "    </tr>\n",
       "  </tbody>\n",
       "</table>\n",
       "<p>5 rows × 81 columns</p>\n",
       "</div>"
      ],
      "text/plain": [
       "   Id  MSSubClass MSZoning  LotFrontage  LotArea Street Alley LotShape  \\\n",
       "0   1          60       RL         65.0     8450   Pave   NaN      Reg   \n",
       "1   2          20       RL         80.0     9600   Pave   NaN      Reg   \n",
       "2   3          60       RL         68.0    11250   Pave   NaN      IR1   \n",
       "3   4          70       RL         60.0     9550   Pave   NaN      IR1   \n",
       "4   5          60       RL         84.0    14260   Pave   NaN      IR1   \n",
       "\n",
       "  LandContour Utilities  ... PoolArea PoolQC Fence MiscFeature MiscVal MoSold  \\\n",
       "0         Lvl    AllPub  ...        0    NaN   NaN         NaN       0      2   \n",
       "1         Lvl    AllPub  ...        0    NaN   NaN         NaN       0      5   \n",
       "2         Lvl    AllPub  ...        0    NaN   NaN         NaN       0      9   \n",
       "3         Lvl    AllPub  ...        0    NaN   NaN         NaN       0      2   \n",
       "4         Lvl    AllPub  ...        0    NaN   NaN         NaN       0     12   \n",
       "\n",
       "  YrSold  SaleType  SaleCondition  SalePrice  \n",
       "0   2008        WD         Normal     208500  \n",
       "1   2007        WD         Normal     181500  \n",
       "2   2008        WD         Normal     223500  \n",
       "3   2006        WD        Abnorml     140000  \n",
       "4   2008        WD         Normal     250000  \n",
       "\n",
       "[5 rows x 81 columns]"
      ]
     },
     "execution_count": 3,
     "metadata": {},
     "output_type": "execute_result"
    }
   ],
   "source": [
    "housing_df.head()"
   ]
  },
  {
   "cell_type": "markdown",
   "id": "66ee4dee",
   "metadata": {},
   "source": [
    "2. Drop the \"Id\" column and any features that are missing more than 40% of their values."
   ]
  },
  {
   "cell_type": "code",
   "execution_count": 4,
   "id": "707f5846",
   "metadata": {
    "scrolled": true
   },
   "outputs": [],
   "source": [
    "# Drop \"Id\" column\n",
    "housing_df.drop(['Id'], axis=1, inplace=True)"
   ]
  },
  {
   "cell_type": "code",
   "execution_count": 5,
   "id": "e28925a1",
   "metadata": {},
   "outputs": [],
   "source": [
    "# Count NaN values under each housing DataFrame column\n",
    "\n",
    "# create an Empty DataFrame object\n",
    "nan_df = pd.DataFrame(columns = ['Feature', 'Count NaN', 'Percent NaN'])\n",
    "\n",
    "# iterate through columns, counting NaNs, add new info to nan_df\n",
    "for column in housing_df.columns:\n",
    "    count_nan = housing_df[column].isna().sum()\n",
    "    percent_nan = count_nan/1460\n",
    "    nan_df = nan_df.append({'Feature' : column, 'Count NaN' : count_nan, 'Percent NaN' : percent_nan}, ignore_index = True)"
   ]
  },
  {
   "cell_type": "code",
   "execution_count": 6,
   "id": "0d02d149",
   "metadata": {},
   "outputs": [
    {
     "data": {
      "text/html": [
       "<div>\n",
       "<style scoped>\n",
       "    .dataframe tbody tr th:only-of-type {\n",
       "        vertical-align: middle;\n",
       "    }\n",
       "\n",
       "    .dataframe tbody tr th {\n",
       "        vertical-align: top;\n",
       "    }\n",
       "\n",
       "    .dataframe thead th {\n",
       "        text-align: right;\n",
       "    }\n",
       "</style>\n",
       "<table border=\"1\" class=\"dataframe\">\n",
       "  <thead>\n",
       "    <tr style=\"text-align: right;\">\n",
       "      <th></th>\n",
       "      <th>Feature</th>\n",
       "      <th>Count NaN</th>\n",
       "      <th>Percent NaN</th>\n",
       "    </tr>\n",
       "  </thead>\n",
       "  <tbody>\n",
       "    <tr>\n",
       "      <th>5</th>\n",
       "      <td>Alley</td>\n",
       "      <td>1369</td>\n",
       "      <td>0.937671</td>\n",
       "    </tr>\n",
       "    <tr>\n",
       "      <th>56</th>\n",
       "      <td>FireplaceQu</td>\n",
       "      <td>690</td>\n",
       "      <td>0.472603</td>\n",
       "    </tr>\n",
       "    <tr>\n",
       "      <th>71</th>\n",
       "      <td>PoolQC</td>\n",
       "      <td>1453</td>\n",
       "      <td>0.995205</td>\n",
       "    </tr>\n",
       "    <tr>\n",
       "      <th>72</th>\n",
       "      <td>Fence</td>\n",
       "      <td>1179</td>\n",
       "      <td>0.807534</td>\n",
       "    </tr>\n",
       "    <tr>\n",
       "      <th>73</th>\n",
       "      <td>MiscFeature</td>\n",
       "      <td>1406</td>\n",
       "      <td>0.963014</td>\n",
       "    </tr>\n",
       "  </tbody>\n",
       "</table>\n",
       "</div>"
      ],
      "text/plain": [
       "        Feature Count NaN  Percent NaN\n",
       "5         Alley      1369     0.937671\n",
       "56  FireplaceQu       690     0.472603\n",
       "71       PoolQC      1453     0.995205\n",
       "72        Fence      1179     0.807534\n",
       "73  MiscFeature      1406     0.963014"
      ]
     },
     "execution_count": 6,
     "metadata": {},
     "output_type": "execute_result"
    }
   ],
   "source": [
    "# Features with more than 40% NaN values\n",
    "nan_df[nan_df['Percent NaN'] >= 0.4]"
   ]
  },
  {
   "cell_type": "code",
   "execution_count": 7,
   "id": "071280d1",
   "metadata": {},
   "outputs": [],
   "source": [
    "# drop columns\n",
    "housing_df.drop(['Alley', 'FireplaceQu', 'PoolQC', 'Fence', 'MiscFeature'], axis=1, inplace=True)"
   ]
  },
  {
   "cell_type": "markdown",
   "id": "de0e1ea6",
   "metadata": {},
   "source": [
    "3. For numerical columns, fill in any missing data with the median value."
   ]
  },
  {
   "cell_type": "code",
   "execution_count": 8,
   "id": "4f8cb553",
   "metadata": {
    "scrolled": true
   },
   "outputs": [],
   "source": [
    "# Find numerical columns with missing data\n",
    "check_numerical_df = nan_df[(nan_df['Percent NaN'] < 0.4) & (nan_df['Percent NaN'] > 0)]"
   ]
  },
  {
   "cell_type": "code",
   "execution_count": 9,
   "id": "d55e221b",
   "metadata": {
    "scrolled": false
   },
   "outputs": [],
   "source": [
    "# Replace NaN with median value\n",
    "for feature in check_numerical_df['Feature']:\n",
    "    if housing_df[feature].dtypes == 'float64':\n",
    "        housing_df[feature] = housing_df[feature].fillna(housing_df[feature].median())"
   ]
  },
  {
   "cell_type": "markdown",
   "id": "3df5500b",
   "metadata": {},
   "source": [
    "4. For categorical columns, fill in any missing data with the most common value (mode)."
   ]
  },
  {
   "cell_type": "code",
   "execution_count": 10,
   "id": "40490674",
   "metadata": {},
   "outputs": [],
   "source": [
    "# Find categorical columns and replace with mode of column\n",
    "for column in housing_df.columns:\n",
    "    if housing_df[column].dtypes == 'object':\n",
    "        housing_df[column].fillna(housing_df[column].mode()[0], inplace=True)"
   ]
  },
  {
   "cell_type": "markdown",
   "id": "734cb845",
   "metadata": {},
   "source": [
    "5. Convert the categorical columns to dummy variables."
   ]
  },
  {
   "cell_type": "code",
   "execution_count": 11,
   "id": "c66c6e0f",
   "metadata": {
    "scrolled": true
   },
   "outputs": [],
   "source": [
    "# The following numerical columns are categorical: MSSubClass\n",
    "# Create dummy variables for MSSubClass\n",
    "MSSubClass_dummie_df = pd.get_dummies(housing_df['MSSubClass'], prefix = 'MSSubClass')"
   ]
  },
  {
   "cell_type": "code",
   "execution_count": 12,
   "id": "ed78bcc5",
   "metadata": {},
   "outputs": [],
   "source": [
    "# Change 'Object' type columns into dummy variables\n",
    "dummie_df = pd.get_dummies(housing_df)\n",
    "# Drop MSSubClass column\n",
    "dummie_df.drop('MSSubClass', axis=1, inplace=True)"
   ]
  },
  {
   "cell_type": "code",
   "execution_count": 13,
   "id": "95cbef8f",
   "metadata": {},
   "outputs": [
    {
     "data": {
      "text/html": [
       "<div>\n",
       "<style scoped>\n",
       "    .dataframe tbody tr th:only-of-type {\n",
       "        vertical-align: middle;\n",
       "    }\n",
       "\n",
       "    .dataframe tbody tr th {\n",
       "        vertical-align: top;\n",
       "    }\n",
       "\n",
       "    .dataframe thead th {\n",
       "        text-align: right;\n",
       "    }\n",
       "</style>\n",
       "<table border=\"1\" class=\"dataframe\">\n",
       "  <thead>\n",
       "    <tr style=\"text-align: right;\">\n",
       "      <th></th>\n",
       "      <th>LotFrontage</th>\n",
       "      <th>LotArea</th>\n",
       "      <th>OverallQual</th>\n",
       "      <th>OverallCond</th>\n",
       "      <th>YearBuilt</th>\n",
       "      <th>YearRemodAdd</th>\n",
       "      <th>MasVnrArea</th>\n",
       "      <th>BsmtFinSF1</th>\n",
       "      <th>BsmtFinSF2</th>\n",
       "      <th>BsmtUnfSF</th>\n",
       "      <th>...</th>\n",
       "      <th>MSSubClass_60</th>\n",
       "      <th>MSSubClass_70</th>\n",
       "      <th>MSSubClass_75</th>\n",
       "      <th>MSSubClass_80</th>\n",
       "      <th>MSSubClass_85</th>\n",
       "      <th>MSSubClass_90</th>\n",
       "      <th>MSSubClass_120</th>\n",
       "      <th>MSSubClass_160</th>\n",
       "      <th>MSSubClass_180</th>\n",
       "      <th>MSSubClass_190</th>\n",
       "    </tr>\n",
       "  </thead>\n",
       "  <tbody>\n",
       "    <tr>\n",
       "      <th>0</th>\n",
       "      <td>65.0</td>\n",
       "      <td>8450</td>\n",
       "      <td>7</td>\n",
       "      <td>5</td>\n",
       "      <td>2003</td>\n",
       "      <td>2003</td>\n",
       "      <td>196.0</td>\n",
       "      <td>706</td>\n",
       "      <td>0</td>\n",
       "      <td>150</td>\n",
       "      <td>...</td>\n",
       "      <td>1</td>\n",
       "      <td>0</td>\n",
       "      <td>0</td>\n",
       "      <td>0</td>\n",
       "      <td>0</td>\n",
       "      <td>0</td>\n",
       "      <td>0</td>\n",
       "      <td>0</td>\n",
       "      <td>0</td>\n",
       "      <td>0</td>\n",
       "    </tr>\n",
       "    <tr>\n",
       "      <th>1</th>\n",
       "      <td>80.0</td>\n",
       "      <td>9600</td>\n",
       "      <td>6</td>\n",
       "      <td>8</td>\n",
       "      <td>1976</td>\n",
       "      <td>1976</td>\n",
       "      <td>0.0</td>\n",
       "      <td>978</td>\n",
       "      <td>0</td>\n",
       "      <td>284</td>\n",
       "      <td>...</td>\n",
       "      <td>0</td>\n",
       "      <td>0</td>\n",
       "      <td>0</td>\n",
       "      <td>0</td>\n",
       "      <td>0</td>\n",
       "      <td>0</td>\n",
       "      <td>0</td>\n",
       "      <td>0</td>\n",
       "      <td>0</td>\n",
       "      <td>0</td>\n",
       "    </tr>\n",
       "    <tr>\n",
       "      <th>2</th>\n",
       "      <td>68.0</td>\n",
       "      <td>11250</td>\n",
       "      <td>7</td>\n",
       "      <td>5</td>\n",
       "      <td>2001</td>\n",
       "      <td>2002</td>\n",
       "      <td>162.0</td>\n",
       "      <td>486</td>\n",
       "      <td>0</td>\n",
       "      <td>434</td>\n",
       "      <td>...</td>\n",
       "      <td>1</td>\n",
       "      <td>0</td>\n",
       "      <td>0</td>\n",
       "      <td>0</td>\n",
       "      <td>0</td>\n",
       "      <td>0</td>\n",
       "      <td>0</td>\n",
       "      <td>0</td>\n",
       "      <td>0</td>\n",
       "      <td>0</td>\n",
       "    </tr>\n",
       "    <tr>\n",
       "      <th>3</th>\n",
       "      <td>60.0</td>\n",
       "      <td>9550</td>\n",
       "      <td>7</td>\n",
       "      <td>5</td>\n",
       "      <td>1915</td>\n",
       "      <td>1970</td>\n",
       "      <td>0.0</td>\n",
       "      <td>216</td>\n",
       "      <td>0</td>\n",
       "      <td>540</td>\n",
       "      <td>...</td>\n",
       "      <td>0</td>\n",
       "      <td>1</td>\n",
       "      <td>0</td>\n",
       "      <td>0</td>\n",
       "      <td>0</td>\n",
       "      <td>0</td>\n",
       "      <td>0</td>\n",
       "      <td>0</td>\n",
       "      <td>0</td>\n",
       "      <td>0</td>\n",
       "    </tr>\n",
       "    <tr>\n",
       "      <th>4</th>\n",
       "      <td>84.0</td>\n",
       "      <td>14260</td>\n",
       "      <td>8</td>\n",
       "      <td>5</td>\n",
       "      <td>2000</td>\n",
       "      <td>2000</td>\n",
       "      <td>350.0</td>\n",
       "      <td>655</td>\n",
       "      <td>0</td>\n",
       "      <td>490</td>\n",
       "      <td>...</td>\n",
       "      <td>1</td>\n",
       "      <td>0</td>\n",
       "      <td>0</td>\n",
       "      <td>0</td>\n",
       "      <td>0</td>\n",
       "      <td>0</td>\n",
       "      <td>0</td>\n",
       "      <td>0</td>\n",
       "      <td>0</td>\n",
       "      <td>0</td>\n",
       "    </tr>\n",
       "    <tr>\n",
       "      <th>...</th>\n",
       "      <td>...</td>\n",
       "      <td>...</td>\n",
       "      <td>...</td>\n",
       "      <td>...</td>\n",
       "      <td>...</td>\n",
       "      <td>...</td>\n",
       "      <td>...</td>\n",
       "      <td>...</td>\n",
       "      <td>...</td>\n",
       "      <td>...</td>\n",
       "      <td>...</td>\n",
       "      <td>...</td>\n",
       "      <td>...</td>\n",
       "      <td>...</td>\n",
       "      <td>...</td>\n",
       "      <td>...</td>\n",
       "      <td>...</td>\n",
       "      <td>...</td>\n",
       "      <td>...</td>\n",
       "      <td>...</td>\n",
       "      <td>...</td>\n",
       "    </tr>\n",
       "    <tr>\n",
       "      <th>1455</th>\n",
       "      <td>62.0</td>\n",
       "      <td>7917</td>\n",
       "      <td>6</td>\n",
       "      <td>5</td>\n",
       "      <td>1999</td>\n",
       "      <td>2000</td>\n",
       "      <td>0.0</td>\n",
       "      <td>0</td>\n",
       "      <td>0</td>\n",
       "      <td>953</td>\n",
       "      <td>...</td>\n",
       "      <td>1</td>\n",
       "      <td>0</td>\n",
       "      <td>0</td>\n",
       "      <td>0</td>\n",
       "      <td>0</td>\n",
       "      <td>0</td>\n",
       "      <td>0</td>\n",
       "      <td>0</td>\n",
       "      <td>0</td>\n",
       "      <td>0</td>\n",
       "    </tr>\n",
       "    <tr>\n",
       "      <th>1456</th>\n",
       "      <td>85.0</td>\n",
       "      <td>13175</td>\n",
       "      <td>6</td>\n",
       "      <td>6</td>\n",
       "      <td>1978</td>\n",
       "      <td>1988</td>\n",
       "      <td>119.0</td>\n",
       "      <td>790</td>\n",
       "      <td>163</td>\n",
       "      <td>589</td>\n",
       "      <td>...</td>\n",
       "      <td>0</td>\n",
       "      <td>0</td>\n",
       "      <td>0</td>\n",
       "      <td>0</td>\n",
       "      <td>0</td>\n",
       "      <td>0</td>\n",
       "      <td>0</td>\n",
       "      <td>0</td>\n",
       "      <td>0</td>\n",
       "      <td>0</td>\n",
       "    </tr>\n",
       "    <tr>\n",
       "      <th>1457</th>\n",
       "      <td>66.0</td>\n",
       "      <td>9042</td>\n",
       "      <td>7</td>\n",
       "      <td>9</td>\n",
       "      <td>1941</td>\n",
       "      <td>2006</td>\n",
       "      <td>0.0</td>\n",
       "      <td>275</td>\n",
       "      <td>0</td>\n",
       "      <td>877</td>\n",
       "      <td>...</td>\n",
       "      <td>0</td>\n",
       "      <td>1</td>\n",
       "      <td>0</td>\n",
       "      <td>0</td>\n",
       "      <td>0</td>\n",
       "      <td>0</td>\n",
       "      <td>0</td>\n",
       "      <td>0</td>\n",
       "      <td>0</td>\n",
       "      <td>0</td>\n",
       "    </tr>\n",
       "    <tr>\n",
       "      <th>1458</th>\n",
       "      <td>68.0</td>\n",
       "      <td>9717</td>\n",
       "      <td>5</td>\n",
       "      <td>6</td>\n",
       "      <td>1950</td>\n",
       "      <td>1996</td>\n",
       "      <td>0.0</td>\n",
       "      <td>49</td>\n",
       "      <td>1029</td>\n",
       "      <td>0</td>\n",
       "      <td>...</td>\n",
       "      <td>0</td>\n",
       "      <td>0</td>\n",
       "      <td>0</td>\n",
       "      <td>0</td>\n",
       "      <td>0</td>\n",
       "      <td>0</td>\n",
       "      <td>0</td>\n",
       "      <td>0</td>\n",
       "      <td>0</td>\n",
       "      <td>0</td>\n",
       "    </tr>\n",
       "    <tr>\n",
       "      <th>1459</th>\n",
       "      <td>75.0</td>\n",
       "      <td>9937</td>\n",
       "      <td>5</td>\n",
       "      <td>6</td>\n",
       "      <td>1965</td>\n",
       "      <td>1965</td>\n",
       "      <td>0.0</td>\n",
       "      <td>830</td>\n",
       "      <td>290</td>\n",
       "      <td>136</td>\n",
       "      <td>...</td>\n",
       "      <td>0</td>\n",
       "      <td>0</td>\n",
       "      <td>0</td>\n",
       "      <td>0</td>\n",
       "      <td>0</td>\n",
       "      <td>0</td>\n",
       "      <td>0</td>\n",
       "      <td>0</td>\n",
       "      <td>0</td>\n",
       "      <td>0</td>\n",
       "    </tr>\n",
       "  </tbody>\n",
       "</table>\n",
       "<p>1460 rows × 285 columns</p>\n",
       "</div>"
      ],
      "text/plain": [
       "      LotFrontage  LotArea  OverallQual  OverallCond  YearBuilt  YearRemodAdd  \\\n",
       "0            65.0     8450            7            5       2003          2003   \n",
       "1            80.0     9600            6            8       1976          1976   \n",
       "2            68.0    11250            7            5       2001          2002   \n",
       "3            60.0     9550            7            5       1915          1970   \n",
       "4            84.0    14260            8            5       2000          2000   \n",
       "...           ...      ...          ...          ...        ...           ...   \n",
       "1455         62.0     7917            6            5       1999          2000   \n",
       "1456         85.0    13175            6            6       1978          1988   \n",
       "1457         66.0     9042            7            9       1941          2006   \n",
       "1458         68.0     9717            5            6       1950          1996   \n",
       "1459         75.0     9937            5            6       1965          1965   \n",
       "\n",
       "      MasVnrArea  BsmtFinSF1  BsmtFinSF2  BsmtUnfSF  ...  MSSubClass_60  \\\n",
       "0          196.0         706           0        150  ...              1   \n",
       "1            0.0         978           0        284  ...              0   \n",
       "2          162.0         486           0        434  ...              1   \n",
       "3            0.0         216           0        540  ...              0   \n",
       "4          350.0         655           0        490  ...              1   \n",
       "...          ...         ...         ...        ...  ...            ...   \n",
       "1455         0.0           0           0        953  ...              1   \n",
       "1456       119.0         790         163        589  ...              0   \n",
       "1457         0.0         275           0        877  ...              0   \n",
       "1458         0.0          49        1029          0  ...              0   \n",
       "1459         0.0         830         290        136  ...              0   \n",
       "\n",
       "      MSSubClass_70  MSSubClass_75  MSSubClass_80  MSSubClass_85  \\\n",
       "0                 0              0              0              0   \n",
       "1                 0              0              0              0   \n",
       "2                 0              0              0              0   \n",
       "3                 1              0              0              0   \n",
       "4                 0              0              0              0   \n",
       "...             ...            ...            ...            ...   \n",
       "1455              0              0              0              0   \n",
       "1456              0              0              0              0   \n",
       "1457              1              0              0              0   \n",
       "1458              0              0              0              0   \n",
       "1459              0              0              0              0   \n",
       "\n",
       "      MSSubClass_90  MSSubClass_120  MSSubClass_160  MSSubClass_180  \\\n",
       "0                 0               0               0               0   \n",
       "1                 0               0               0               0   \n",
       "2                 0               0               0               0   \n",
       "3                 0               0               0               0   \n",
       "4                 0               0               0               0   \n",
       "...             ...             ...             ...             ...   \n",
       "1455              0               0               0               0   \n",
       "1456              0               0               0               0   \n",
       "1457              0               0               0               0   \n",
       "1458              0               0               0               0   \n",
       "1459              0               0               0               0   \n",
       "\n",
       "      MSSubClass_190  \n",
       "0                  0  \n",
       "1                  0  \n",
       "2                  0  \n",
       "3                  0  \n",
       "4                  0  \n",
       "...              ...  \n",
       "1455               0  \n",
       "1456               0  \n",
       "1457               0  \n",
       "1458               0  \n",
       "1459               0  \n",
       "\n",
       "[1460 rows x 285 columns]"
      ]
     },
     "execution_count": 13,
     "metadata": {},
     "output_type": "execute_result"
    }
   ],
   "source": [
    "# Concatenate all dummy variables into same dataframe\n",
    "merged_df = pd.concat([dummie_df,MSSubClass_dummie_df], axis=1)\n",
    "merged_df"
   ]
  },
  {
   "cell_type": "markdown",
   "id": "c1abb9c5",
   "metadata": {},
   "source": [
    "6. Split the data into a training and test set, where the SalePrice column is the target."
   ]
  },
  {
   "cell_type": "code",
   "execution_count": 14,
   "id": "c7e3ea2f",
   "metadata": {},
   "outputs": [],
   "source": [
    "x = merged_df.drop('SalePrice', axis=1)\n",
    "y = merged_df['SalePrice']"
   ]
  },
  {
   "cell_type": "code",
   "execution_count": 15,
   "id": "93505f28",
   "metadata": {},
   "outputs": [],
   "source": [
    "from sklearn.model_selection import train_test_split"
   ]
  },
  {
   "cell_type": "code",
   "execution_count": 16,
   "id": "86df48ee",
   "metadata": {},
   "outputs": [],
   "source": [
    "x_train, x_test, y_train, y_test = train_test_split(x, y)"
   ]
  },
  {
   "cell_type": "markdown",
   "id": "8186a492",
   "metadata": {},
   "source": [
    "7. Run a linear regression and report the R2-value and RMSE on the test set."
   ]
  },
  {
   "cell_type": "code",
   "execution_count": 17,
   "id": "3d1798be",
   "metadata": {},
   "outputs": [],
   "source": [
    "# Scale Features\n",
    "from sklearn.preprocessing import StandardScaler"
   ]
  },
  {
   "cell_type": "code",
   "execution_count": 18,
   "id": "168d1a13",
   "metadata": {},
   "outputs": [],
   "source": [
    "scaler1 = StandardScaler()\n",
    "x_train = scaler1.fit_transform(x_train)\n",
    "x_test = scaler1.transform(x_test)"
   ]
  },
  {
   "cell_type": "code",
   "execution_count": 19,
   "id": "96556a54",
   "metadata": {},
   "outputs": [],
   "source": [
    "# libraries\n",
    "from sklearn.linear_model import LinearRegression"
   ]
  },
  {
   "cell_type": "code",
   "execution_count": 20,
   "id": "13686731",
   "metadata": {},
   "outputs": [],
   "source": [
    "model = LinearRegression()"
   ]
  },
  {
   "cell_type": "code",
   "execution_count": 21,
   "id": "d2f98b67",
   "metadata": {},
   "outputs": [
    {
     "data": {
      "text/plain": [
       "LinearRegression()"
      ]
     },
     "execution_count": 21,
     "metadata": {},
     "output_type": "execute_result"
    }
   ],
   "source": [
    "model.fit(x_train, y_train)"
   ]
  },
  {
   "cell_type": "code",
   "execution_count": 22,
   "id": "b0c5bdcc",
   "metadata": {},
   "outputs": [],
   "source": [
    "predict_y_train = model.predict(x_train)\n",
    "predict_y_test = model.predict(x_test)"
   ]
  },
  {
   "cell_type": "code",
   "execution_count": 23,
   "id": "50b034da",
   "metadata": {},
   "outputs": [],
   "source": [
    "import sklearn.metrics as metrics"
   ]
  },
  {
   "cell_type": "code",
   "execution_count": 24,
   "id": "218ce5db",
   "metadata": {},
   "outputs": [],
   "source": [
    "train_mae = metrics.mean_absolute_error(y_train, predict_y_train)\n",
    "train_mse = metrics.mean_squared_error(y_train, predict_y_train)\n",
    "train_rmse = np.sqrt(train_mse) \n",
    "train_r2 = metrics.r2_score(y_train, predict_y_train)"
   ]
  },
  {
   "cell_type": "code",
   "execution_count": 25,
   "id": "93121e3a",
   "metadata": {},
   "outputs": [],
   "source": [
    "test_mae = metrics.mean_absolute_error(y_test, predict_y_test)\n",
    "test_mse = metrics.mean_squared_error(y_test, predict_y_test)\n",
    "test_rmse = np.sqrt(test_mse) \n",
    "test_r2 = metrics.r2_score(y_test,predict_y_test)"
   ]
  },
  {
   "cell_type": "code",
   "execution_count": 26,
   "id": "2367e263",
   "metadata": {
    "scrolled": true
   },
   "outputs": [
    {
     "name": "stdout",
     "output_type": "stream",
     "text": [
      " The R2 value for the train data is 0.9313021579389946.\n",
      "\n",
      " The RMSE value for the train data is 21545.41524929483.\n",
      "\n",
      " The MAE value for the train data is 13813.088516306905.\n",
      "\n",
      "\n",
      " The R2 value for the test data is -2.8007703961997356e+23.\n",
      "\n",
      " The RMSE value for the test data is 3.724353829593974e+16.\n",
      "\n",
      " The MAE value for the test data is 4222436046693092.5.\n"
     ]
    }
   ],
   "source": [
    "print(f' The R2 value for the train data is {train_r2}.')\n",
    "print(f'\\n The RMSE value for the train data is {train_rmse}.')\n",
    "print(f'\\n The MAE value for the train data is {train_mae}.')\n",
    "print(f'\\n\\n The R2 value for the test data is {test_r2}.')\n",
    "print(f'\\n The RMSE value for the test data is {test_rmse}.')\n",
    "print(f'\\n The MAE value for the test data is {test_mae}.')"
   ]
  },
  {
   "cell_type": "markdown",
   "id": "b1bf1cd4",
   "metadata": {},
   "source": [
    "8. Fit and transform the training features with a PCA so that 90% of the variance is retained (see section 9.1 in the Machine Learning with Python Cookbook)."
   ]
  },
  {
   "cell_type": "code",
   "execution_count": 27,
   "id": "f797865a",
   "metadata": {},
   "outputs": [],
   "source": [
    "# Load libraries\n",
    "from sklearn.preprocessing import StandardScaler\n",
    "from sklearn.decomposition import PCA\n",
    "from sklearn import datasets"
   ]
  },
  {
   "cell_type": "code",
   "execution_count": 28,
   "id": "274a5b6b",
   "metadata": {},
   "outputs": [],
   "source": [
    "# Standardize the feature matrix\n",
    "scaler2 = StandardScaler()\n",
    "features = scaler2.fit_transform(x_train)"
   ]
  },
  {
   "cell_type": "code",
   "execution_count": 29,
   "id": "07d2ed62",
   "metadata": {},
   "outputs": [],
   "source": [
    "# Create a PCA that will retain 90% of variance\n",
    "pca = PCA(n_components=0.90)"
   ]
  },
  {
   "cell_type": "code",
   "execution_count": 30,
   "id": "1593f784",
   "metadata": {},
   "outputs": [],
   "source": [
    "# Conduct PCA\n",
    "features_pca = pca.fit_transform(features)"
   ]
  },
  {
   "cell_type": "markdown",
   "id": "1dab2d72",
   "metadata": {},
   "source": [
    " 9. How many features are in the PCA-transformed matrix?"
   ]
  },
  {
   "cell_type": "code",
   "execution_count": 31,
   "id": "c895aeb9",
   "metadata": {},
   "outputs": [
    {
     "name": "stdout",
     "output_type": "stream",
     "text": [
      "Original number of features: 284\n",
      "Reduced number of features: 139\n"
     ]
    }
   ],
   "source": [
    "# Show results\n",
    "print(\"Original number of features:\", features.shape[1])\n",
    "print(\"Reduced number of features:\", features_pca.shape[1])"
   ]
  },
  {
   "cell_type": "markdown",
   "id": "bef18b22",
   "metadata": {},
   "source": [
    "10. Transform but DO NOT fit the test features with the same PCA."
   ]
  },
  {
   "cell_type": "code",
   "execution_count": 32,
   "id": "c909b960",
   "metadata": {},
   "outputs": [],
   "source": [
    "test_features_pca = pca.transform(x_test)"
   ]
  },
  {
   "cell_type": "markdown",
   "id": "372f30b4",
   "metadata": {},
   "source": [
    "11. Repeat step 7 with your PCA transformed data."
   ]
  },
  {
   "cell_type": "code",
   "execution_count": 33,
   "id": "d6db51d1",
   "metadata": {},
   "outputs": [],
   "source": [
    "pca_model = LinearRegression()"
   ]
  },
  {
   "cell_type": "code",
   "execution_count": 34,
   "id": "1ccf2c57",
   "metadata": {},
   "outputs": [
    {
     "data": {
      "text/plain": [
       "LinearRegression()"
      ]
     },
     "execution_count": 34,
     "metadata": {},
     "output_type": "execute_result"
    }
   ],
   "source": [
    "pca_model.fit(features_pca, y_train)"
   ]
  },
  {
   "cell_type": "code",
   "execution_count": 35,
   "id": "514e2cca",
   "metadata": {},
   "outputs": [],
   "source": [
    "predict_y_train = pca_model.predict(features_pca)\n",
    "predict_y_test = pca_model.predict(test_features_pca)"
   ]
  },
  {
   "cell_type": "code",
   "execution_count": 36,
   "id": "856a14f0",
   "metadata": {},
   "outputs": [],
   "source": [
    "train_mae = metrics.mean_absolute_error(y_train, predict_y_train)\n",
    "train_mse = metrics.mean_squared_error(y_train, predict_y_train)\n",
    "train_rmse = np.sqrt(train_mse) \n",
    "train_r2 = metrics.r2_score(y_train, predict_y_train)"
   ]
  },
  {
   "cell_type": "code",
   "execution_count": 37,
   "id": "4818a224",
   "metadata": {},
   "outputs": [],
   "source": [
    "test_mae = metrics.mean_absolute_error(y_test, predict_y_test)\n",
    "test_mse = metrics.mean_squared_error(y_test, predict_y_test)\n",
    "test_rmse = np.sqrt(test_mse) \n",
    "test_r2 = metrics.r2_score(y_test,predict_y_test)"
   ]
  },
  {
   "cell_type": "code",
   "execution_count": 38,
   "id": "734f49a9",
   "metadata": {},
   "outputs": [
    {
     "name": "stdout",
     "output_type": "stream",
     "text": [
      " The R2 value for the train data is 0.8905767022064955.\n",
      "\n",
      " The RMSE value for the train data is 27191.816502031077.\n",
      "\n",
      " The MAE value for the train data is 17547.299854380457.\n",
      "\n",
      "\n",
      " The R2 value for the test data is 0.871484761038007.\n",
      "\n",
      " The RMSE value for the test data is 25228.38758636577.\n",
      "\n",
      " The MAE value for the test data is 18489.95429145841.\n"
     ]
    }
   ],
   "source": [
    "print(f' The R2 value for the train data is {train_r2}.')\n",
    "print(f'\\n The RMSE value for the train data is {train_rmse}.')\n",
    "print(f'\\n The MAE value for the train data is {train_mae}.')\n",
    "print(f'\\n\\n The R2 value for the test data is {test_r2}.')\n",
    "print(f'\\n The RMSE value for the test data is {test_rmse}.')\n",
    "print(f'\\n The MAE value for the test data is {test_mae}.')"
   ]
  },
  {
   "cell_type": "markdown",
   "id": "c2ad5d29",
   "metadata": {},
   "source": [
    "12. Take your original training features (from step 6) and apply a min-max scaler to them."
   ]
  },
  {
   "cell_type": "code",
   "execution_count": 39,
   "id": "4eb1dff1",
   "metadata": {},
   "outputs": [],
   "source": [
    "from sklearn.preprocessing import MinMaxScaler"
   ]
  },
  {
   "cell_type": "code",
   "execution_count": 40,
   "id": "6b776e6a",
   "metadata": {},
   "outputs": [],
   "source": [
    "minmaxscaler = MinMaxScaler()"
   ]
  },
  {
   "cell_type": "code",
   "execution_count": 41,
   "id": "285ae9e0",
   "metadata": {},
   "outputs": [],
   "source": [
    "features_mm = minmaxscaler.fit_transform(x_train, y_train)"
   ]
  },
  {
   "cell_type": "markdown",
   "id": "f68d8d50",
   "metadata": {},
   "source": [
    "13. Find the min-max scaled features in your training set that have a variance above 0.1 (see Section 10.1 in the Machine Learning with Python Cookbook)."
   ]
  },
  {
   "cell_type": "code",
   "execution_count": 42,
   "id": "12248d88",
   "metadata": {},
   "outputs": [],
   "source": [
    "# Load libraries\n",
    "from sklearn.feature_selection import VarianceThreshold"
   ]
  },
  {
   "cell_type": "code",
   "execution_count": 43,
   "id": "91d3557a",
   "metadata": {},
   "outputs": [],
   "source": [
    "# Create thresholder\n",
    "thresholder = VarianceThreshold(threshold=0.1)"
   ]
  },
  {
   "cell_type": "code",
   "execution_count": 44,
   "id": "f6886d01",
   "metadata": {},
   "outputs": [],
   "source": [
    "# Create high variance feature matrix\n",
    "features_high_variance = thresholder.fit_transform(features_mm)"
   ]
  },
  {
   "cell_type": "markdown",
   "id": "f04d2a66",
   "metadata": {},
   "source": [
    "14. Transform but DO NOT fit the test features with the same steps applied in steps 11 and 12."
   ]
  },
  {
   "cell_type": "code",
   "execution_count": 45,
   "id": "fa904e75",
   "metadata": {},
   "outputs": [],
   "source": [
    "test_features_mm = minmaxscaler.transform(x_test)\n",
    "test_features_high_variance = thresholder.transform(test_features_mm)"
   ]
  },
  {
   "cell_type": "markdown",
   "id": "f1098450",
   "metadata": {},
   "source": [
    "15. Repeat step 7 with the high variance data."
   ]
  },
  {
   "cell_type": "code",
   "execution_count": 46,
   "id": "31245c6f",
   "metadata": {},
   "outputs": [],
   "source": [
    "model3 = LinearRegression()"
   ]
  },
  {
   "cell_type": "code",
   "execution_count": 47,
   "id": "7537443d",
   "metadata": {},
   "outputs": [
    {
     "data": {
      "text/plain": [
       "LinearRegression()"
      ]
     },
     "execution_count": 47,
     "metadata": {},
     "output_type": "execute_result"
    }
   ],
   "source": [
    "model3.fit(features_high_variance, y_train)"
   ]
  },
  {
   "cell_type": "code",
   "execution_count": 48,
   "id": "5fce7d7c",
   "metadata": {},
   "outputs": [],
   "source": [
    "predict_y_train = model3.predict(features_high_variance)\n",
    "predict_y_test = model3.predict(test_features_high_variance)"
   ]
  },
  {
   "cell_type": "code",
   "execution_count": 49,
   "id": "d8e51616",
   "metadata": {},
   "outputs": [],
   "source": [
    "train_mae = metrics.mean_absolute_error(y_train, predict_y_train)\n",
    "train_mse = metrics.mean_squared_error(y_train, predict_y_train)\n",
    "train_rmse = np.sqrt(train_mse) \n",
    "train_r2 = metrics.r2_score(y_train, predict_y_train)"
   ]
  },
  {
   "cell_type": "code",
   "execution_count": 50,
   "id": "94963e4b",
   "metadata": {},
   "outputs": [],
   "source": [
    "test_mae = metrics.mean_absolute_error(y_test, predict_y_test)\n",
    "test_mse = metrics.mean_squared_error(y_test, predict_y_test)\n",
    "test_rmse = np.sqrt(test_mse) \n",
    "test_r2 = metrics.r2_score(y_test,predict_y_test)"
   ]
  },
  {
   "cell_type": "code",
   "execution_count": 51,
   "id": "4fbfad84",
   "metadata": {},
   "outputs": [
    {
     "name": "stdout",
     "output_type": "stream",
     "text": [
      " The R2 value for the train data is 0.6761544351996862.\n",
      "\n",
      " The RMSE value for the train data is 46779.146956541816.\n",
      "\n",
      " The MAE value for the train data is 31471.94703196347.\n",
      "\n",
      "\n",
      " The R2 value for the test data is 0.6418002663613961.\n",
      "\n",
      " The RMSE value for the test data is 42118.6856045159.\n",
      "\n",
      " The MAE value for the test data is 31538.750684931507.\n"
     ]
    }
   ],
   "source": [
    "print(f' The R2 value for the train data is {train_r2}.')\n",
    "print(f'\\n The RMSE value for the train data is {train_rmse}.')\n",
    "print(f'\\n The MAE value for the train data is {train_mae}.')\n",
    "print(f'\\n\\n The R2 value for the test data is {test_r2}.')\n",
    "print(f'\\n The RMSE value for the test data is {test_rmse}.')\n",
    "print(f'\\n The MAE value for the test data is {test_mae}.')"
   ]
  },
  {
   "cell_type": "markdown",
   "id": "c02d1a1e",
   "metadata": {},
   "source": [
    "16. Summarize your findings."
   ]
  },
  {
   "cell_type": "markdown",
   "id": "78ae7bd2",
   "metadata": {},
   "source": [
    "The error was insanely high when we had too many features. The error metrics vastly improved with the pca-transformed matrix. The transformation of removing low-variance data also was a huge improvement over the regular linear regression."
   ]
  },
  {
   "cell_type": "markdown",
   "id": "9c46cf2f",
   "metadata": {},
   "source": [
    "## Part 2: Categorical Feature Selection"
   ]
  },
  {
   "cell_type": "markdown",
   "id": "d3a7a460",
   "metadata": {},
   "source": [
    "Based on several categorical features, you will predict whether or not a mushroom is edible or poisonous."
   ]
  },
  {
   "cell_type": "markdown",
   "id": "151b1c5e",
   "metadata": {},
   "source": [
    "1. Import the mushroom data as a data frame and ensure it is loaded correctly."
   ]
  },
  {
   "cell_type": "code",
   "execution_count": 52,
   "id": "bf45f5ee",
   "metadata": {},
   "outputs": [],
   "source": [
    "# import dataset\n",
    "mushroom_df = pd.read_csv(\"mushrooms.csv\")"
   ]
  },
  {
   "cell_type": "code",
   "execution_count": 53,
   "id": "f884af7e",
   "metadata": {
    "scrolled": true
   },
   "outputs": [
    {
     "data": {
      "text/html": [
       "<div>\n",
       "<style scoped>\n",
       "    .dataframe tbody tr th:only-of-type {\n",
       "        vertical-align: middle;\n",
       "    }\n",
       "\n",
       "    .dataframe tbody tr th {\n",
       "        vertical-align: top;\n",
       "    }\n",
       "\n",
       "    .dataframe thead th {\n",
       "        text-align: right;\n",
       "    }\n",
       "</style>\n",
       "<table border=\"1\" class=\"dataframe\">\n",
       "  <thead>\n",
       "    <tr style=\"text-align: right;\">\n",
       "      <th></th>\n",
       "      <th>class</th>\n",
       "      <th>cap-shape</th>\n",
       "      <th>cap-surface</th>\n",
       "      <th>cap-color</th>\n",
       "      <th>bruises</th>\n",
       "      <th>odor</th>\n",
       "      <th>gill-attachment</th>\n",
       "      <th>gill-spacing</th>\n",
       "      <th>gill-size</th>\n",
       "      <th>gill-color</th>\n",
       "      <th>...</th>\n",
       "      <th>stalk-surface-below-ring</th>\n",
       "      <th>stalk-color-above-ring</th>\n",
       "      <th>stalk-color-below-ring</th>\n",
       "      <th>veil-type</th>\n",
       "      <th>veil-color</th>\n",
       "      <th>ring-number</th>\n",
       "      <th>ring-type</th>\n",
       "      <th>spore-print-color</th>\n",
       "      <th>population</th>\n",
       "      <th>habitat</th>\n",
       "    </tr>\n",
       "  </thead>\n",
       "  <tbody>\n",
       "    <tr>\n",
       "      <th>0</th>\n",
       "      <td>p</td>\n",
       "      <td>x</td>\n",
       "      <td>s</td>\n",
       "      <td>n</td>\n",
       "      <td>t</td>\n",
       "      <td>p</td>\n",
       "      <td>f</td>\n",
       "      <td>c</td>\n",
       "      <td>n</td>\n",
       "      <td>k</td>\n",
       "      <td>...</td>\n",
       "      <td>s</td>\n",
       "      <td>w</td>\n",
       "      <td>w</td>\n",
       "      <td>p</td>\n",
       "      <td>w</td>\n",
       "      <td>o</td>\n",
       "      <td>p</td>\n",
       "      <td>k</td>\n",
       "      <td>s</td>\n",
       "      <td>u</td>\n",
       "    </tr>\n",
       "    <tr>\n",
       "      <th>1</th>\n",
       "      <td>e</td>\n",
       "      <td>x</td>\n",
       "      <td>s</td>\n",
       "      <td>y</td>\n",
       "      <td>t</td>\n",
       "      <td>a</td>\n",
       "      <td>f</td>\n",
       "      <td>c</td>\n",
       "      <td>b</td>\n",
       "      <td>k</td>\n",
       "      <td>...</td>\n",
       "      <td>s</td>\n",
       "      <td>w</td>\n",
       "      <td>w</td>\n",
       "      <td>p</td>\n",
       "      <td>w</td>\n",
       "      <td>o</td>\n",
       "      <td>p</td>\n",
       "      <td>n</td>\n",
       "      <td>n</td>\n",
       "      <td>g</td>\n",
       "    </tr>\n",
       "    <tr>\n",
       "      <th>2</th>\n",
       "      <td>e</td>\n",
       "      <td>b</td>\n",
       "      <td>s</td>\n",
       "      <td>w</td>\n",
       "      <td>t</td>\n",
       "      <td>l</td>\n",
       "      <td>f</td>\n",
       "      <td>c</td>\n",
       "      <td>b</td>\n",
       "      <td>n</td>\n",
       "      <td>...</td>\n",
       "      <td>s</td>\n",
       "      <td>w</td>\n",
       "      <td>w</td>\n",
       "      <td>p</td>\n",
       "      <td>w</td>\n",
       "      <td>o</td>\n",
       "      <td>p</td>\n",
       "      <td>n</td>\n",
       "      <td>n</td>\n",
       "      <td>m</td>\n",
       "    </tr>\n",
       "    <tr>\n",
       "      <th>3</th>\n",
       "      <td>p</td>\n",
       "      <td>x</td>\n",
       "      <td>y</td>\n",
       "      <td>w</td>\n",
       "      <td>t</td>\n",
       "      <td>p</td>\n",
       "      <td>f</td>\n",
       "      <td>c</td>\n",
       "      <td>n</td>\n",
       "      <td>n</td>\n",
       "      <td>...</td>\n",
       "      <td>s</td>\n",
       "      <td>w</td>\n",
       "      <td>w</td>\n",
       "      <td>p</td>\n",
       "      <td>w</td>\n",
       "      <td>o</td>\n",
       "      <td>p</td>\n",
       "      <td>k</td>\n",
       "      <td>s</td>\n",
       "      <td>u</td>\n",
       "    </tr>\n",
       "    <tr>\n",
       "      <th>4</th>\n",
       "      <td>e</td>\n",
       "      <td>x</td>\n",
       "      <td>s</td>\n",
       "      <td>g</td>\n",
       "      <td>f</td>\n",
       "      <td>n</td>\n",
       "      <td>f</td>\n",
       "      <td>w</td>\n",
       "      <td>b</td>\n",
       "      <td>k</td>\n",
       "      <td>...</td>\n",
       "      <td>s</td>\n",
       "      <td>w</td>\n",
       "      <td>w</td>\n",
       "      <td>p</td>\n",
       "      <td>w</td>\n",
       "      <td>o</td>\n",
       "      <td>e</td>\n",
       "      <td>n</td>\n",
       "      <td>a</td>\n",
       "      <td>g</td>\n",
       "    </tr>\n",
       "  </tbody>\n",
       "</table>\n",
       "<p>5 rows × 23 columns</p>\n",
       "</div>"
      ],
      "text/plain": [
       "  class cap-shape cap-surface cap-color bruises odor gill-attachment  \\\n",
       "0     p         x           s         n       t    p               f   \n",
       "1     e         x           s         y       t    a               f   \n",
       "2     e         b           s         w       t    l               f   \n",
       "3     p         x           y         w       t    p               f   \n",
       "4     e         x           s         g       f    n               f   \n",
       "\n",
       "  gill-spacing gill-size gill-color  ... stalk-surface-below-ring  \\\n",
       "0            c         n          k  ...                        s   \n",
       "1            c         b          k  ...                        s   \n",
       "2            c         b          n  ...                        s   \n",
       "3            c         n          n  ...                        s   \n",
       "4            w         b          k  ...                        s   \n",
       "\n",
       "  stalk-color-above-ring stalk-color-below-ring veil-type veil-color  \\\n",
       "0                      w                      w         p          w   \n",
       "1                      w                      w         p          w   \n",
       "2                      w                      w         p          w   \n",
       "3                      w                      w         p          w   \n",
       "4                      w                      w         p          w   \n",
       "\n",
       "  ring-number ring-type spore-print-color population habitat  \n",
       "0           o         p                 k          s       u  \n",
       "1           o         p                 n          n       g  \n",
       "2           o         p                 n          n       m  \n",
       "3           o         p                 k          s       u  \n",
       "4           o         e                 n          a       g  \n",
       "\n",
       "[5 rows x 23 columns]"
      ]
     },
     "execution_count": 53,
     "metadata": {},
     "output_type": "execute_result"
    }
   ],
   "source": [
    "mushroom_df.head()"
   ]
  },
  {
   "cell_type": "code",
   "execution_count": 54,
   "id": "9134b92c",
   "metadata": {
    "scrolled": true
   },
   "outputs": [
    {
     "data": {
      "text/plain": [
       "class                       0\n",
       "cap-shape                   0\n",
       "cap-surface                 0\n",
       "cap-color                   0\n",
       "bruises                     0\n",
       "odor                        0\n",
       "gill-attachment             0\n",
       "gill-spacing                0\n",
       "gill-size                   0\n",
       "gill-color                  0\n",
       "stalk-shape                 0\n",
       "stalk-root                  0\n",
       "stalk-surface-above-ring    0\n",
       "stalk-surface-below-ring    0\n",
       "stalk-color-above-ring      0\n",
       "stalk-color-below-ring      0\n",
       "veil-type                   0\n",
       "veil-color                  0\n",
       "ring-number                 0\n",
       "ring-type                   0\n",
       "spore-print-color           0\n",
       "population                  0\n",
       "habitat                     0\n",
       "dtype: int64"
      ]
     },
     "execution_count": 54,
     "metadata": {},
     "output_type": "execute_result"
    }
   ],
   "source": [
    "mushroom_df.isna().sum()"
   ]
  },
  {
   "cell_type": "code",
   "execution_count": 55,
   "id": "43598543",
   "metadata": {},
   "outputs": [],
   "source": [
    "x = mushroom_df.drop('class', axis=1)\n",
    "y = mushroom_df['class']"
   ]
  },
  {
   "cell_type": "markdown",
   "id": "31265a69",
   "metadata": {},
   "source": [
    "2. Convert the categorical features (all of them) to dummy variables."
   ]
  },
  {
   "cell_type": "code",
   "execution_count": 56,
   "id": "db96fadd",
   "metadata": {},
   "outputs": [],
   "source": [
    "x = pd.get_dummies(x)"
   ]
  },
  {
   "cell_type": "markdown",
   "id": "cc98fff3",
   "metadata": {},
   "source": [
    "3. Split the data into a training and test set."
   ]
  },
  {
   "cell_type": "code",
   "execution_count": 57,
   "id": "1c4dde3b",
   "metadata": {},
   "outputs": [],
   "source": [
    "x_train, x_test, y_train, y_test = train_test_split(x, y)"
   ]
  },
  {
   "cell_type": "markdown",
   "id": "92448479",
   "metadata": {},
   "source": [
    "4. Fit a decision tree classifier on the training set."
   ]
  },
  {
   "cell_type": "code",
   "execution_count": 58,
   "id": "d35797d2",
   "metadata": {},
   "outputs": [],
   "source": [
    "from sklearn.tree import DecisionTreeClassifier"
   ]
  },
  {
   "cell_type": "code",
   "execution_count": 59,
   "id": "6e2d8a78",
   "metadata": {},
   "outputs": [],
   "source": [
    "# Create Decision Tree classifer object\n",
    "d_tree = DecisionTreeClassifier()"
   ]
  },
  {
   "cell_type": "code",
   "execution_count": 60,
   "id": "d5fcf6fc",
   "metadata": {},
   "outputs": [],
   "source": [
    "# Train Decision Tree Classifer\n",
    "d_tree = d_tree.fit(x_train, y_train)"
   ]
  },
  {
   "cell_type": "code",
   "execution_count": 61,
   "id": "bd5eea5b",
   "metadata": {},
   "outputs": [],
   "source": [
    "#Predict the response for test dataset\n",
    "y_test_predict = d_tree.predict(x_test)"
   ]
  },
  {
   "cell_type": "code",
   "execution_count": 62,
   "id": "fe33bbee",
   "metadata": {},
   "outputs": [
    {
     "data": {
      "text/plain": [
       "6842    p\n",
       "5447    p\n",
       "459     e\n",
       "712     e\n",
       "5223    e\n",
       "       ..\n",
       "8060    p\n",
       "3099    e\n",
       "366     e\n",
       "3507    e\n",
       "3787    p\n",
       "Name: class, Length: 2031, dtype: object"
      ]
     },
     "execution_count": 62,
     "metadata": {},
     "output_type": "execute_result"
    }
   ],
   "source": [
    "y_test"
   ]
  },
  {
   "cell_type": "markdown",
   "id": "f55e2da4",
   "metadata": {},
   "source": [
    "5. Report the accuracy and create a confusion matrix for the model prediction on the test set."
   ]
  },
  {
   "cell_type": "code",
   "execution_count": 63,
   "id": "549094b1",
   "metadata": {},
   "outputs": [],
   "source": [
    "accuracy_df = pd.DataFrame()\n",
    "accuracy_df['y_test'] = y_test\n",
    "accuracy_df['y_predict'] = y_test_predict\n",
    "accuracy_df['compare'] = np.where(accuracy_df['y_test'] == accuracy_df['y_predict'], 1, 0)"
   ]
  },
  {
   "cell_type": "code",
   "execution_count": 64,
   "id": "e493f156",
   "metadata": {},
   "outputs": [
    {
     "name": "stdout",
     "output_type": "stream",
     "text": [
      "The calculated accuracy of the model is 100.0%.\n"
     ]
    }
   ],
   "source": [
    "accuracy_score = (accuracy_df['compare'].sum())/2031*100\n",
    "print(f'The calculated accuracy of the model is {accuracy_score}%.')"
   ]
  },
  {
   "cell_type": "code",
   "execution_count": 65,
   "id": "d593604b",
   "metadata": {},
   "outputs": [
    {
     "name": "stdout",
     "output_type": "stream",
     "text": [
      "Accuracy: 1.0\n"
     ]
    }
   ],
   "source": [
    "# Model Accuracy, how often is the classifier correct?\n",
    "print(\"Accuracy:\", metrics.accuracy_score(y_test, y_test_predict))"
   ]
  },
  {
   "cell_type": "code",
   "execution_count": 66,
   "id": "b109b81a",
   "metadata": {},
   "outputs": [],
   "source": [
    "from sklearn.metrics import confusion_matrix\n",
    "import seaborn as sns"
   ]
  },
  {
   "cell_type": "code",
   "execution_count": 67,
   "id": "1ed733be",
   "metadata": {},
   "outputs": [],
   "source": [
    "# Create confusion matrix\n",
    "confus_matrix = confusion_matrix(y_test, y_test_predict)"
   ]
  },
  {
   "cell_type": "code",
   "execution_count": 68,
   "id": "57bd5d97",
   "metadata": {},
   "outputs": [],
   "source": [
    "# Create pandas dataframe\n",
    "dataframe = pd.DataFrame(confus_matrix)"
   ]
  },
  {
   "cell_type": "code",
   "execution_count": 69,
   "id": "bd449084",
   "metadata": {},
   "outputs": [
    {
     "data": {
      "image/png": "[encoded data removed]",
      "text/plain": [
       "<Figure size 432x288 with 1 Axes>"
      ]
     },
     "metadata": {
      "needs_background": "light"
     },
     "output_type": "display_data"
    }
   ],
   "source": [
    "# Create heatmap\n",
    "sns.heatmap(dataframe, annot=True, cbar=None, cmap=\"Blues\")\n",
    "plt.title(\"Confusion Matrix\"), plt.tight_layout()\n",
    "plt.ylabel(\"True Class\"), plt.xlabel(\"Predicted Class\")\n",
    "plt.show()"
   ]
  },
  {
   "cell_type": "markdown",
   "id": "1c860bb6",
   "metadata": {},
   "source": [
    "6. Create a visualization of the decision tree."
   ]
  },
  {
   "cell_type": "code",
   "execution_count": 70,
   "id": "d5293e7f",
   "metadata": {},
   "outputs": [],
   "source": [
    "from sklearn import tree"
   ]
  },
  {
   "cell_type": "code",
   "execution_count": 71,
   "id": "a3eadab9",
   "metadata": {},
   "outputs": [
    {
     "data": {
      "image/png": "[encoded data removed]",
      "text/plain": [
       "<Figure size 1800x1440 with 1 Axes>"
      ]
     },
     "metadata": {
      "needs_background": "light"
     },
     "output_type": "display_data"
    }
   ],
   "source": [
    "fig = plt.figure(figsize=(25,20))\n",
    "tree_plot = tree.plot_tree(d_tree, feature_names=x_train.columns, filled=True)"
   ]
  },
  {
   "cell_type": "markdown",
   "id": "cfb1ad4d",
   "metadata": {},
   "source": [
    "7. Use a χ2-statistic selector to pick the five best features for this data (see section 10.4 of the Machine Learning with Python Cookbook)."
   ]
  },
  {
   "cell_type": "code",
   "execution_count": 72,
   "id": "ddd5fd0d",
   "metadata": {},
   "outputs": [],
   "source": [
    "# Load libraries\n",
    "from sklearn.feature_selection import SelectKBest\n",
    "from sklearn.feature_selection import chi2, f_classif"
   ]
  },
  {
   "cell_type": "code",
   "execution_count": 73,
   "id": "47995471",
   "metadata": {},
   "outputs": [],
   "source": [
    "# Convert to categorical data by converting data to integers\n",
    "features = x_train.astype(int)\n",
    "test_features = x_test.astype(int)"
   ]
  },
  {
   "cell_type": "code",
   "execution_count": 74,
   "id": "27c4ab3d",
   "metadata": {},
   "outputs": [],
   "source": [
    "# Select two features with highest chi-squared statistics\n",
    "chi2_selector = SelectKBest(chi2, k=5)\n",
    "features_kbest = chi2_selector.fit_transform(features, y_train)"
   ]
  },
  {
   "cell_type": "code",
   "execution_count": 75,
   "id": "dcd991c2",
   "metadata": {},
   "outputs": [
    {
     "name": "stdout",
     "output_type": "stream",
     "text": [
      "Original number of features: 117\n",
      "Reduced number of features: 5\n"
     ]
    }
   ],
   "source": [
    "# Show results\n",
    "print(\"Original number of features:\", features.shape[1])\n",
    "print(\"Reduced number of features:\", features_kbest.shape[1])"
   ]
  },
  {
   "cell_type": "markdown",
   "id": "60835105",
   "metadata": {},
   "source": [
    "8. Which five features were selected in step 7? Hint: Use the get_support function."
   ]
  },
  {
   "cell_type": "code",
   "execution_count": 76,
   "id": "8edfe627",
   "metadata": {},
   "outputs": [
    {
     "data": {
      "text/plain": [
       "['odor_f',\n",
       " 'odor_n',\n",
       " 'gill-color_b',\n",
       " 'stalk-surface-above-ring_k',\n",
       " 'stalk-surface-below-ring_k']"
      ]
     },
     "execution_count": 76,
     "metadata": {},
     "output_type": "execute_result"
    }
   ],
   "source": [
    "# Get columns to keep and create new dataframe with those only\n",
    "cols = chi2_selector.get_support(indices=True)\n",
    "features_df_new = features.iloc[:,cols]\n",
    "test_features_df_new = test_features.iloc[:,cols]\n",
    "list(features_df_new.columns)"
   ]
  },
  {
   "cell_type": "markdown",
   "id": "ea14c9ac",
   "metadata": {},
   "source": [
    "9. Repeat steps 4 and 5 with the five best features selected in step 7."
   ]
  },
  {
   "cell_type": "code",
   "execution_count": 77,
   "id": "0dc2282d",
   "metadata": {},
   "outputs": [],
   "source": [
    "# Create Decision Tree classifer object\n",
    "d_tree2 = DecisionTreeClassifier()"
   ]
  },
  {
   "cell_type": "code",
   "execution_count": 78,
   "id": "45695388",
   "metadata": {},
   "outputs": [],
   "source": [
    "# Train Decision Tree Classifer\n",
    "d_tree2 = d_tree2.fit(features_df_new, y_train)"
   ]
  },
  {
   "cell_type": "code",
   "execution_count": 79,
   "id": "ba751288",
   "metadata": {},
   "outputs": [],
   "source": [
    "#Predict the response for test dataset\n",
    "y_test_predict = d_tree2.predict(test_features_df_new)"
   ]
  },
  {
   "cell_type": "code",
   "execution_count": 80,
   "id": "30b12933",
   "metadata": {},
   "outputs": [
    {
     "name": "stdout",
     "output_type": "stream",
     "text": [
      "Accuracy: 0.9364844903988183\n"
     ]
    }
   ],
   "source": [
    "# Model Accuracy, how often is the classifier correct?\n",
    "print(\"Accuracy:\", metrics.accuracy_score(y_test, y_test_predict))"
   ]
  },
  {
   "cell_type": "code",
   "execution_count": 81,
   "id": "b22e123a",
   "metadata": {},
   "outputs": [],
   "source": [
    "# Create confusion matrix\n",
    "confus_matrix = confusion_matrix(y_test, y_test_predict)"
   ]
  },
  {
   "cell_type": "code",
   "execution_count": 82,
   "id": "cad3fa99",
   "metadata": {},
   "outputs": [],
   "source": [
    "# Create pandas dataframe\n",
    "dataframe = pd.DataFrame(confus_matrix)"
   ]
  },
  {
   "cell_type": "code",
   "execution_count": 83,
   "id": "603db97c",
   "metadata": {},
   "outputs": [
    {
     "data": {
      "image/png": "[encoded data removed]",
      "text/plain": [
       "<Figure size 432x288 with 1 Axes>"
      ]
     },
     "metadata": {
      "needs_background": "light"
     },
     "output_type": "display_data"
    }
   ],
   "source": [
    "# Create heatmap\n",
    "sns.heatmap(dataframe, annot=True, cbar=None, cmap=\"Blues\")\n",
    "plt.title(\"Confusion Matrix\"), plt.tight_layout()\n",
    "plt.ylabel(\"True Class\"), plt.xlabel(\"Predicted Class\")\n",
    "plt.show()"
   ]
  },
  {
   "cell_type": "markdown",
   "id": "20f04761",
   "metadata": {},
   "source": [
    "10. Summarize your findings."
   ]
  },
  {
   "cell_type": "markdown",
   "id": "1745c2c7",
   "metadata": {},
   "source": [
    "We dropped 112 features and only lost 7% accuracy. Given that modeling with 117 features is computationally expensive, this seems like a huge improvement for not that much loss of accuracy with our model predictions."
   ]
  }
 ],
 "metadata": {
  "kernelspec": {
   "display_name": "Python 3 (ipykernel)",
   "language": "python",
   "name": "python3"
  },
  "language_info": {
   "codemirror_mode": {
    "name": "ipython",
    "version": 3
   },
   "file_extension": ".py",
   "mimetype": "text/x-python",
   "name": "python",
   "nbconvert_exporter": "python",
   "pygments_lexer": "ipython3",
   "version": "3.9.12"
  }
 },
 "nbformat": 4,
 "nbformat_minor": 5
}
