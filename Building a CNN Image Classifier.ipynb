{
 "cells": [
  {
   "cell_type": "markdown",
   "id": "30d1057c",
   "metadata": {},
   "source": [
    "# Week 11 Exercise: Building a CNN Image Classifier\n",
    "\n",
    "***Karlie Schwartzwald  \n",
    "DSC 550 Fall 2022  \n",
    "Bellevue University***"
   ]
  },
  {
   "cell_type": "markdown",
   "id": "c079c3da",
   "metadata": {},
   "source": [
    "**Change Control Log:**  \n",
    "\n",
    "Change#: 1  \n",
    "Change(s) Made:  Assignment started and completed.  \n",
    "Date of Change:  11/13/2022\n",
    "Author: Karlie Schwartzwald  \n",
    "Change Approved by: Karlie Schwartzwald  \n",
    "Date Moved to Production: 11/13/2022  "
   ]
  },
  {
   "cell_type": "markdown",
   "id": "f6eb2b72",
   "metadata": {},
   "source": [
    "1. Load the MNIST data set."
   ]
  },
  {
   "cell_type": "code",
   "execution_count": 1,
   "id": "434bcb1a",
   "metadata": {},
   "outputs": [],
   "source": [
    "# Libraries and Datasets\n",
    "import numpy as np\n",
    "import pandas as pd\n",
    "import seaborn as sns\n",
    "import cv2\n",
    "import matplotlib.pyplot as plt\n",
    "import keras\n",
    "from keras.datasets import mnist\n",
    "from keras.models import Model\n",
    "from keras.layers import Dense, Input\n",
    "from keras.layers import Conv2D, MaxPooling2D, Dropout, Flatten\n",
    "from keras import backend as k\n",
    "from sklearn.svm import SVC\n",
    "from sklearn.metrics import confusion_matrix\n",
    "from sklearn import metrics"
   ]
  },
  {
   "cell_type": "code",
   "execution_count": 2,
   "id": "ef37f517",
   "metadata": {
    "scrolled": true
   },
   "outputs": [],
   "source": [
    "# Load data and target from MNIST data\n",
    "(x_train, y_train), (x_test, y_test) = mnist.load_data()"
   ]
  },
  {
   "cell_type": "markdown",
   "id": "972f4e73",
   "metadata": {},
   "source": [
    "2. Display the first five images in the training data set (see section 8.1 in the Machine Learning with Python Cookbook). Compare these to the first five training labels."
   ]
  },
  {
   "cell_type": "code",
   "execution_count": 3,
   "id": "09e9fbc6",
   "metadata": {},
   "outputs": [
    {
     "data": {
      "image/png": "[encoded data removed]",
      "text/plain": [
       "<Figure size 432x288 with 1 Axes>"
      ]
     },
     "metadata": {
      "needs_background": "light"
     },
     "output_type": "display_data"
    },
    {
     "data": {
      "image/png": "[encoded data removed]",
      "text/plain": [
       "<Figure size 432x288 with 1 Axes>"
      ]
     },
     "metadata": {
      "needs_background": "light"
     },
     "output_type": "display_data"
    },
    {
     "data": {
      "image/png": "[encoded data removed]",
      "text/plain": [
       "<Figure size 432x288 with 1 Axes>"
      ]
     },
     "metadata": {
      "needs_background": "light"
     },
     "output_type": "display_data"
    },
    {
     "data": {
      "image/png": "[encoded data removed]",
      "text/plain": [
       "<Figure size 432x288 with 1 Axes>"
      ]
     },
     "metadata": {
      "needs_background": "light"
     },
     "output_type": "display_data"
    },
    {
     "data": {
      "image/png": "[encoded data removed]",
      "text/plain": [
       "<Figure size 432x288 with 1 Axes>"
      ]
     },
     "metadata": {
      "needs_background": "light"
     },
     "output_type": "display_data"
    }
   ],
   "source": [
    "for i in range(5):\n",
    "    plt.imshow(x_train[i]), plt.axis(\"off\")\n",
    "    plt.show()"
   ]
  },
  {
   "cell_type": "markdown",
   "id": "ea212bb5",
   "metadata": {},
   "source": [
    "3. Build and train a Keras CNN classifier on the MNIST training set."
   ]
  },
  {
   "cell_type": "code",
   "execution_count": 4,
   "id": "22e1ba90",
   "metadata": {},
   "outputs": [],
   "source": [
    "# image dimensions are 28x28\n",
    "img_rows, img_cols=28, 28"
   ]
  },
  {
   "cell_type": "code",
   "execution_count": 5,
   "id": "4694702b",
   "metadata": {},
   "outputs": [],
   "source": [
    "if k.image_data_format() == 'channels_first':\n",
    "    x_train = x_train.reshape(x_train.shape[0], 1, img_rows, img_cols)\n",
    "    x_test = x_test.reshape(x_test.shape[0], 1, img_rows, img_cols)\n",
    "    inpx = (1, img_rows, img_cols)\n",
    "else:\n",
    "    x_train = x_train.reshape(x_train.shape[0], img_rows, img_cols, 1)\n",
    "    x_test = x_test.reshape(x_test.shape[0], img_rows, img_cols, 1)\n",
    "    inpx = (img_rows, img_cols, 1)"
   ]
  },
  {
   "cell_type": "code",
   "execution_count": 6,
   "id": "4d742e8f",
   "metadata": {},
   "outputs": [],
   "source": [
    "# normalize\n",
    "x_train = x_train.astype('float32')\n",
    "x_test = x_test.astype('float32')\n",
    "x_train /= 255\n",
    "x_test /= 255"
   ]
  },
  {
   "cell_type": "code",
   "execution_count": 7,
   "id": "291ab98c",
   "metadata": {},
   "outputs": [],
   "source": [
    "# make 10 output classes\n",
    "y_train = keras.utils.to_categorical(y_train)\n",
    "y_test = keras.utils.to_categorical(y_test)"
   ]
  },
  {
   "cell_type": "code",
   "execution_count": 8,
   "id": "d4797d66",
   "metadata": {},
   "outputs": [],
   "source": [
    "# CNN\n",
    "inpx = Input(shape=inpx)\n",
    "layer1 = Conv2D(32, kernel_size=(3, 3), activation='relu')(inpx)\n",
    "layer2 = Conv2D(64, (3, 3), activation='relu')(layer1)\n",
    "layer3 = MaxPooling2D(pool_size=(3, 3))(layer2)\n",
    "layer4 = Dropout(0.5)(layer3)\n",
    "layer5 = Flatten()(layer4)\n",
    "layer6 = Dense(250, activation='sigmoid')(layer5)\n",
    "layer7 = Dense(10, activation='softmax')(layer6)"
   ]
  },
  {
   "cell_type": "code",
   "execution_count": 9,
   "id": "db71abd3",
   "metadata": {},
   "outputs": [],
   "source": [
    "# Compile\n",
    "model = Model([inpx], layer7)\n",
    "model.compile(optimizer=keras.optimizers.Adadelta(),\n",
    "              loss=keras.losses.categorical_crossentropy,\n",
    "              metrics=['accuracy'])"
   ]
  },
  {
   "cell_type": "code",
   "execution_count": 10,
   "id": "20bd254f",
   "metadata": {},
   "outputs": [
    {
     "name": "stdout",
     "output_type": "stream",
     "text": [
      "Epoch 1/12\n",
      "120/120 [==============================] - 36s 294ms/step - loss: 2.4983 - accuracy: 0.1116\n",
      "Epoch 2/12\n",
      "120/120 [==============================] - 39s 325ms/step - loss: 2.4803 - accuracy: 0.1126\n",
      "Epoch 3/12\n",
      "120/120 [==============================] - 40s 330ms/step - loss: 2.4624 - accuracy: 0.1149\n",
      "Epoch 4/12\n",
      "120/120 [==============================] - 40s 334ms/step - loss: 2.4449 - accuracy: 0.1169\n",
      "Epoch 5/12\n",
      "120/120 [==============================] - 40s 329ms/step - loss: 2.4281 - accuracy: 0.1199\n",
      "Epoch 6/12\n",
      "120/120 [==============================] - 40s 330ms/step - loss: 2.4120 - accuracy: 0.1231\n",
      "Epoch 7/12\n",
      "120/120 [==============================] - 40s 333ms/step - loss: 2.3966 - accuracy: 0.1270\n",
      "Epoch 8/12\n",
      "120/120 [==============================] - 41s 339ms/step - loss: 2.3823 - accuracy: 0.1295\n",
      "Epoch 9/12\n",
      "120/120 [==============================] - 41s 338ms/step - loss: 2.3686 - accuracy: 0.1330\n",
      "Epoch 10/12\n",
      "120/120 [==============================] - 43s 354ms/step - loss: 2.3556 - accuracy: 0.1380\n",
      "Epoch 11/12\n",
      "120/120 [==============================] - 40s 331ms/step - loss: 2.3440 - accuracy: 0.1403\n",
      "Epoch 12/12\n",
      "120/120 [==============================] - 41s 341ms/step - loss: 2.3322 - accuracy: 0.1454\n"
     ]
    },
    {
     "data": {
      "text/plain": [
       "<keras.callbacks.History at 0x27bd2fe95e0>"
      ]
     },
     "execution_count": 10,
     "metadata": {},
     "output_type": "execute_result"
    }
   ],
   "source": [
    "# Fit\n",
    "model.fit(x_train, y_train, epochs=12, batch_size=500)"
   ]
  },
  {
   "cell_type": "markdown",
   "id": "f219d2e1",
   "metadata": {},
   "source": [
    "4. Report the test accuracy of your model."
   ]
  },
  {
   "cell_type": "code",
   "execution_count": 11,
   "id": "dbd6e6b2",
   "metadata": {},
   "outputs": [
    {
     "name": "stdout",
     "output_type": "stream",
     "text": [
      "loss= 2.3264052867889404\n",
      "accuracy= 0.18170000612735748\n"
     ]
    }
   ],
   "source": [
    "score = model.evaluate(x_test, y_test, verbose=0)\n",
    "print('loss=', score[0])\n",
    "print('accuracy=', score[1])"
   ]
  },
  {
   "cell_type": "markdown",
   "id": "72eb5c3f",
   "metadata": {},
   "source": [
    "5. Display a confusion matrix on the test set classifications."
   ]
  },
  {
   "cell_type": "code",
   "execution_count": 12,
   "id": "e0c86af6",
   "metadata": {},
   "outputs": [
    {
     "name": "stdout",
     "output_type": "stream",
     "text": [
      "313/313 [==============================] - 2s 8ms/step\n"
     ]
    }
   ],
   "source": [
    "# Use model to make predictions\n",
    "y_pred = model.predict(x_test)"
   ]
  },
  {
   "cell_type": "code",
   "execution_count": 13,
   "id": "a45482d6",
   "metadata": {},
   "outputs": [],
   "source": [
    "# Creating  a confusion matrix,which compares the y_test and y_pred\n",
    "cm = confusion_matrix(y_test.argmax(axis=1), y_pred.argmax(axis=1))"
   ]
  },
  {
   "cell_type": "code",
   "execution_count": 14,
   "id": "b9e4b6d9",
   "metadata": {
    "scrolled": true
   },
   "outputs": [],
   "source": [
    "# Creating a dataframe for a array-formatted Confusion matrix,so it will be easy for plotting.\n",
    "cm_df = pd.DataFrame(cm)"
   ]
  },
  {
   "cell_type": "code",
   "execution_count": 15,
   "id": "14f4258f",
   "metadata": {},
   "outputs": [
    {
     "data": {
      "image/png": "[encoded data removed]",
      "text/plain": [
       "<Figure size 1440x1080 with 2 Axes>"
      ]
     },
     "metadata": {
      "needs_background": "light"
     },
     "output_type": "display_data"
    }
   ],
   "source": [
    "#Plotting the confusion matrix\n",
    "plt.figure(figsize=(20,15))\n",
    "sns.heatmap(cm_df, annot=True)\n",
    "plt.title('Confusion Matrix')\n",
    "plt.ylabel('Actal Values')\n",
    "plt.xlabel('Predicted Values')\n",
    "plt.show()"
   ]
  },
  {
   "cell_type": "markdown",
   "id": "74137f3c",
   "metadata": {},
   "source": [
    "6. Summarize your results."
   ]
  },
  {
   "cell_type": "markdown",
   "id": "6e93797c",
   "metadata": {},
   "source": [
    "In summary, our CNN was able to make predictions on handwritten letters that were accurate approximately 18% of the time. The most common prediction was the number 5 followed by 7, and no predictions were made for the numbers 0,1,2,3,4,5,8. This model is pretty bad at classifying."
   ]
  },
  {
   "cell_type": "code",
   "execution_count": null,
   "id": "4c87f134",
   "metadata": {},
   "outputs": [],
   "source": []
  }
 ],
 "metadata": {
  "kernelspec": {
   "display_name": "Python 3 (ipykernel)",
   "language": "python",
   "name": "python3"
  },
  "language_info": {
   "codemirror_mode": {
    "name": "ipython",
    "version": 3
   },
   "file_extension": ".py",
   "mimetype": "text/x-python",
   "name": "python",
   "nbconvert_exporter": "python",
   "pygments_lexer": "ipython3",
   "version": "3.9.12"
  }
 },
 "nbformat": 4,
 "nbformat_minor": 5
}
