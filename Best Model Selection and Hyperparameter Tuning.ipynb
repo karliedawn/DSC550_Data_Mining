{
 "cells": [
  {
   "cell_type": "markdown",
   "id": "152a9772",
   "metadata": {},
   "source": [
    "# Week 9 Exercises  \n",
    "\n",
    "***Karlie Schwartzwald  \n",
    "DSC 550 Fall 2022  \n",
    "Bellevue University***"
   ]
  },
  {
   "cell_type": "markdown",
   "id": "48cb6610",
   "metadata": {},
   "source": [
    "**Change Control Log:**  \n",
    "\n",
    "Change#: 1  \n",
    "Change(s) Made:  Assignment started and completed.  \n",
    "Date of Change:  10/29/2022  \n",
    "Author: Karlie Schwartzwald   \n",
    "Change Approved by: Karlie Schwartzwald  \n",
    "Date Moved to Production: 10/30/2022  "
   ]
  },
  {
   "cell_type": "markdown",
   "id": "ba7a42f5",
   "metadata": {},
   "source": [
    "### Best Model Selection and Hyperparameter Tuning"
   ]
  },
  {
   "cell_type": "markdown",
   "id": "68768135",
   "metadata": {},
   "source": [
    "In this exercise, you will work with the Loan_Train.csv dataset which can be downloaded from this link: [Loan Approval Data Set](https://www.kaggle.com/datasets/granjithkumar/loan-approval-data-set)"
   ]
  },
  {
   "cell_type": "code",
   "execution_count": 1,
   "id": "4e478720",
   "metadata": {},
   "outputs": [],
   "source": [
    "# Libraries\n",
    "import pandas as pd\n",
    "import numpy as np\n",
    "import matplotlib.pyplot as plt\n",
    "from sklearn.model_selection import train_test_split\n",
    "from sklearn.neighbors import KNeighborsClassifier\n",
    "from sklearn.preprocessing import MinMaxScaler\n",
    "from sklearn.pipeline import Pipeline, FeatureUnion\n",
    "from sklearn.model_selection import GridSearchCV\n",
    "from sklearn.linear_model import LogisticRegression\n",
    "from sklearn.ensemble import RandomForestClassifier\n",
    "from sklearn.model_selection import cross_val_score"
   ]
  },
  {
   "cell_type": "markdown",
   "id": "069403d1",
   "metadata": {},
   "source": [
    "1. Import the dataset and ensure that it loaded properly."
   ]
  },
  {
   "cell_type": "code",
   "execution_count": 2,
   "id": "eebb7ff9",
   "metadata": {},
   "outputs": [],
   "source": [
    "loan_df = pd.read_csv('Loan_Train.csv')"
   ]
  },
  {
   "cell_type": "code",
   "execution_count": 3,
   "id": "7dd0b877",
   "metadata": {
    "scrolled": true
   },
   "outputs": [
    {
     "data": {
      "text/html": [
       "<div>\n",
       "<style scoped>\n",
       "    .dataframe tbody tr th:only-of-type {\n",
       "        vertical-align: middle;\n",
       "    }\n",
       "\n",
       "    .dataframe tbody tr th {\n",
       "        vertical-align: top;\n",
       "    }\n",
       "\n",
       "    .dataframe thead th {\n",
       "        text-align: right;\n",
       "    }\n",
       "</style>\n",
       "<table border=\"1\" class=\"dataframe\">\n",
       "  <thead>\n",
       "    <tr style=\"text-align: right;\">\n",
       "      <th></th>\n",
       "      <th>Loan_ID</th>\n",
       "      <th>Gender</th>\n",
       "      <th>Married</th>\n",
       "      <th>Dependents</th>\n",
       "      <th>Education</th>\n",
       "      <th>Self_Employed</th>\n",
       "      <th>ApplicantIncome</th>\n",
       "      <th>CoapplicantIncome</th>\n",
       "      <th>LoanAmount</th>\n",
       "      <th>Loan_Amount_Term</th>\n",
       "      <th>Credit_History</th>\n",
       "      <th>Property_Area</th>\n",
       "      <th>Loan_Status</th>\n",
       "    </tr>\n",
       "  </thead>\n",
       "  <tbody>\n",
       "    <tr>\n",
       "      <th>0</th>\n",
       "      <td>LP001002</td>\n",
       "      <td>Male</td>\n",
       "      <td>No</td>\n",
       "      <td>0</td>\n",
       "      <td>Graduate</td>\n",
       "      <td>No</td>\n",
       "      <td>5849</td>\n",
       "      <td>0.0</td>\n",
       "      <td>NaN</td>\n",
       "      <td>360.0</td>\n",
       "      <td>1.0</td>\n",
       "      <td>Urban</td>\n",
       "      <td>Y</td>\n",
       "    </tr>\n",
       "    <tr>\n",
       "      <th>1</th>\n",
       "      <td>LP001003</td>\n",
       "      <td>Male</td>\n",
       "      <td>Yes</td>\n",
       "      <td>1</td>\n",
       "      <td>Graduate</td>\n",
       "      <td>No</td>\n",
       "      <td>4583</td>\n",
       "      <td>1508.0</td>\n",
       "      <td>128.0</td>\n",
       "      <td>360.0</td>\n",
       "      <td>1.0</td>\n",
       "      <td>Rural</td>\n",
       "      <td>N</td>\n",
       "    </tr>\n",
       "    <tr>\n",
       "      <th>2</th>\n",
       "      <td>LP001005</td>\n",
       "      <td>Male</td>\n",
       "      <td>Yes</td>\n",
       "      <td>0</td>\n",
       "      <td>Graduate</td>\n",
       "      <td>Yes</td>\n",
       "      <td>3000</td>\n",
       "      <td>0.0</td>\n",
       "      <td>66.0</td>\n",
       "      <td>360.0</td>\n",
       "      <td>1.0</td>\n",
       "      <td>Urban</td>\n",
       "      <td>Y</td>\n",
       "    </tr>\n",
       "    <tr>\n",
       "      <th>3</th>\n",
       "      <td>LP001006</td>\n",
       "      <td>Male</td>\n",
       "      <td>Yes</td>\n",
       "      <td>0</td>\n",
       "      <td>Not Graduate</td>\n",
       "      <td>No</td>\n",
       "      <td>2583</td>\n",
       "      <td>2358.0</td>\n",
       "      <td>120.0</td>\n",
       "      <td>360.0</td>\n",
       "      <td>1.0</td>\n",
       "      <td>Urban</td>\n",
       "      <td>Y</td>\n",
       "    </tr>\n",
       "    <tr>\n",
       "      <th>4</th>\n",
       "      <td>LP001008</td>\n",
       "      <td>Male</td>\n",
       "      <td>No</td>\n",
       "      <td>0</td>\n",
       "      <td>Graduate</td>\n",
       "      <td>No</td>\n",
       "      <td>6000</td>\n",
       "      <td>0.0</td>\n",
       "      <td>141.0</td>\n",
       "      <td>360.0</td>\n",
       "      <td>1.0</td>\n",
       "      <td>Urban</td>\n",
       "      <td>Y</td>\n",
       "    </tr>\n",
       "    <tr>\n",
       "      <th>...</th>\n",
       "      <td>...</td>\n",
       "      <td>...</td>\n",
       "      <td>...</td>\n",
       "      <td>...</td>\n",
       "      <td>...</td>\n",
       "      <td>...</td>\n",
       "      <td>...</td>\n",
       "      <td>...</td>\n",
       "      <td>...</td>\n",
       "      <td>...</td>\n",
       "      <td>...</td>\n",
       "      <td>...</td>\n",
       "      <td>...</td>\n",
       "    </tr>\n",
       "    <tr>\n",
       "      <th>609</th>\n",
       "      <td>LP002978</td>\n",
       "      <td>Female</td>\n",
       "      <td>No</td>\n",
       "      <td>0</td>\n",
       "      <td>Graduate</td>\n",
       "      <td>No</td>\n",
       "      <td>2900</td>\n",
       "      <td>0.0</td>\n",
       "      <td>71.0</td>\n",
       "      <td>360.0</td>\n",
       "      <td>1.0</td>\n",
       "      <td>Rural</td>\n",
       "      <td>Y</td>\n",
       "    </tr>\n",
       "    <tr>\n",
       "      <th>610</th>\n",
       "      <td>LP002979</td>\n",
       "      <td>Male</td>\n",
       "      <td>Yes</td>\n",
       "      <td>3+</td>\n",
       "      <td>Graduate</td>\n",
       "      <td>No</td>\n",
       "      <td>4106</td>\n",
       "      <td>0.0</td>\n",
       "      <td>40.0</td>\n",
       "      <td>180.0</td>\n",
       "      <td>1.0</td>\n",
       "      <td>Rural</td>\n",
       "      <td>Y</td>\n",
       "    </tr>\n",
       "    <tr>\n",
       "      <th>611</th>\n",
       "      <td>LP002983</td>\n",
       "      <td>Male</td>\n",
       "      <td>Yes</td>\n",
       "      <td>1</td>\n",
       "      <td>Graduate</td>\n",
       "      <td>No</td>\n",
       "      <td>8072</td>\n",
       "      <td>240.0</td>\n",
       "      <td>253.0</td>\n",
       "      <td>360.0</td>\n",
       "      <td>1.0</td>\n",
       "      <td>Urban</td>\n",
       "      <td>Y</td>\n",
       "    </tr>\n",
       "    <tr>\n",
       "      <th>612</th>\n",
       "      <td>LP002984</td>\n",
       "      <td>Male</td>\n",
       "      <td>Yes</td>\n",
       "      <td>2</td>\n",
       "      <td>Graduate</td>\n",
       "      <td>No</td>\n",
       "      <td>7583</td>\n",
       "      <td>0.0</td>\n",
       "      <td>187.0</td>\n",
       "      <td>360.0</td>\n",
       "      <td>1.0</td>\n",
       "      <td>Urban</td>\n",
       "      <td>Y</td>\n",
       "    </tr>\n",
       "    <tr>\n",
       "      <th>613</th>\n",
       "      <td>LP002990</td>\n",
       "      <td>Female</td>\n",
       "      <td>No</td>\n",
       "      <td>0</td>\n",
       "      <td>Graduate</td>\n",
       "      <td>Yes</td>\n",
       "      <td>4583</td>\n",
       "      <td>0.0</td>\n",
       "      <td>133.0</td>\n",
       "      <td>360.0</td>\n",
       "      <td>0.0</td>\n",
       "      <td>Semiurban</td>\n",
       "      <td>N</td>\n",
       "    </tr>\n",
       "  </tbody>\n",
       "</table>\n",
       "<p>614 rows × 13 columns</p>\n",
       "</div>"
      ],
      "text/plain": [
       "      Loan_ID  Gender Married Dependents     Education Self_Employed  \\\n",
       "0    LP001002    Male      No          0      Graduate            No   \n",
       "1    LP001003    Male     Yes          1      Graduate            No   \n",
       "2    LP001005    Male     Yes          0      Graduate           Yes   \n",
       "3    LP001006    Male     Yes          0  Not Graduate            No   \n",
       "4    LP001008    Male      No          0      Graduate            No   \n",
       "..        ...     ...     ...        ...           ...           ...   \n",
       "609  LP002978  Female      No          0      Graduate            No   \n",
       "610  LP002979    Male     Yes         3+      Graduate            No   \n",
       "611  LP002983    Male     Yes          1      Graduate            No   \n",
       "612  LP002984    Male     Yes          2      Graduate            No   \n",
       "613  LP002990  Female      No          0      Graduate           Yes   \n",
       "\n",
       "     ApplicantIncome  CoapplicantIncome  LoanAmount  Loan_Amount_Term  \\\n",
       "0               5849                0.0         NaN             360.0   \n",
       "1               4583             1508.0       128.0             360.0   \n",
       "2               3000                0.0        66.0             360.0   \n",
       "3               2583             2358.0       120.0             360.0   \n",
       "4               6000                0.0       141.0             360.0   \n",
       "..               ...                ...         ...               ...   \n",
       "609             2900                0.0        71.0             360.0   \n",
       "610             4106                0.0        40.0             180.0   \n",
       "611             8072              240.0       253.0             360.0   \n",
       "612             7583                0.0       187.0             360.0   \n",
       "613             4583                0.0       133.0             360.0   \n",
       "\n",
       "     Credit_History Property_Area Loan_Status  \n",
       "0               1.0         Urban           Y  \n",
       "1               1.0         Rural           N  \n",
       "2               1.0         Urban           Y  \n",
       "3               1.0         Urban           Y  \n",
       "4               1.0         Urban           Y  \n",
       "..              ...           ...         ...  \n",
       "609             1.0         Rural           Y  \n",
       "610             1.0         Rural           Y  \n",
       "611             1.0         Urban           Y  \n",
       "612             1.0         Urban           Y  \n",
       "613             0.0     Semiurban           N  \n",
       "\n",
       "[614 rows x 13 columns]"
      ]
     },
     "execution_count": 3,
     "metadata": {},
     "output_type": "execute_result"
    }
   ],
   "source": [
    "loan_df"
   ]
  },
  {
   "cell_type": "markdown",
   "id": "4d226b9f",
   "metadata": {},
   "source": [
    "2. Prepare the data for modeling by performing the following steps:  "
   ]
  },
  {
   "cell_type": "markdown",
   "id": "914cc61a",
   "metadata": {},
   "source": [
    "- Drop the column “Load_ID.”  "
   ]
  },
  {
   "cell_type": "code",
   "execution_count": 4,
   "id": "dae85abb",
   "metadata": {},
   "outputs": [],
   "source": [
    "loan_df.drop('Loan_ID', axis=1, inplace=True)"
   ]
  },
  {
   "cell_type": "markdown",
   "id": "eb26d3bd",
   "metadata": {},
   "source": [
    "- Drop any rows with missing data.  "
   ]
  },
  {
   "cell_type": "code",
   "execution_count": 5,
   "id": "20f5effe",
   "metadata": {},
   "outputs": [],
   "source": [
    "loan_df.dropna(inplace=True)"
   ]
  },
  {
   "cell_type": "markdown",
   "id": "566b9a10",
   "metadata": {},
   "source": [
    "- Convert the categorical features into dummy variables.  "
   ]
  },
  {
   "cell_type": "code",
   "execution_count": 6,
   "id": "f9791cfd",
   "metadata": {},
   "outputs": [],
   "source": [
    "dummies_df = pd.get_dummies(loan_df, columns=['Gender', 'Married', 'Dependents', 'Education', 'Self_Employed', 'Credit_History', 'Property_Area'])"
   ]
  },
  {
   "cell_type": "markdown",
   "id": "42fa889f",
   "metadata": {},
   "source": [
    "3. Split the data into a training and test set, where the “Loan_Status” column is the target."
   ]
  },
  {
   "cell_type": "code",
   "execution_count": 7,
   "id": "d9b3d4f2",
   "metadata": {},
   "outputs": [],
   "source": [
    "x = dummies_df.drop('Loan_Status', axis=1)\n",
    "y = dummies_df['Loan_Status']"
   ]
  },
  {
   "cell_type": "code",
   "execution_count": 8,
   "id": "31ef14ad",
   "metadata": {},
   "outputs": [],
   "source": [
    "x_train, x_test, y_train, y_test = train_test_split(x, y)"
   ]
  },
  {
   "cell_type": "markdown",
   "id": "5ffd4b11",
   "metadata": {},
   "source": [
    "4. Create a pipeline with a min-max scaler and a KNN classifier (see section 15.3 in the Machine Learning with Python Cookbook)."
   ]
  },
  {
   "cell_type": "code",
   "execution_count": 9,
   "id": "66425741",
   "metadata": {},
   "outputs": [],
   "source": [
    "# Create scalar\n",
    "scaler = MinMaxScaler()"
   ]
  },
  {
   "cell_type": "code",
   "execution_count": 10,
   "id": "a2148d24",
   "metadata": {},
   "outputs": [],
   "source": [
    "# Scale features\n",
    "x_train_scaled = scaler.fit_transform(x_train)\n",
    "x_test_scaled = scaler.transform(x_test)"
   ]
  },
  {
   "cell_type": "code",
   "execution_count": 11,
   "id": "919133fe",
   "metadata": {},
   "outputs": [],
   "source": [
    "# Create a knn classifier\n",
    "knn = KNeighborsClassifier(n_neighbors=5, n_jobs=-1)"
   ]
  },
  {
   "cell_type": "code",
   "execution_count": 12,
   "id": "36b8868b",
   "metadata": {},
   "outputs": [],
   "source": [
    "# Create a pipeline\n",
    "pipe = Pipeline([(\"scaler\", scaler), (\"knn\", knn)])"
   ]
  },
  {
   "cell_type": "markdown",
   "id": "7fa19f47",
   "metadata": {},
   "source": [
    "5. Fit a default KNN classifier to the data with this pipeline. Report the model accuracy on the test set. Note: Fitting a pipeline model works just like fitting a regular model."
   ]
  },
  {
   "cell_type": "code",
   "execution_count": 13,
   "id": "bb699d35",
   "metadata": {},
   "outputs": [
    {
     "data": {
      "text/plain": [
       "Pipeline(steps=[('scaler', MinMaxScaler()),\n",
       "                ('knn', KNeighborsClassifier(n_jobs=-1))])"
      ]
     },
     "execution_count": 13,
     "metadata": {},
     "output_type": "execute_result"
    }
   ],
   "source": [
    "#fit the pipe\n",
    "pipe.fit(x_train_scaled,y_train)"
   ]
  },
  {
   "cell_type": "code",
   "execution_count": 14,
   "id": "2d62dde7",
   "metadata": {},
   "outputs": [
    {
     "data": {
      "text/plain": [
       "0.725"
      ]
     },
     "execution_count": 14,
     "metadata": {},
     "output_type": "execute_result"
    }
   ],
   "source": [
    "#score the knn model accuracy on the testing data\n",
    "pipe.score(x_test_scaled,y_test)"
   ]
  },
  {
   "cell_type": "markdown",
   "id": "75d9c8a6",
   "metadata": {},
   "source": [
    "6. Create a search space for your KNN classifier where your “n_neighbors” parameter varies from 1 to 10. (see section 15.3 in the Machine Learning with Python Cookbook)."
   ]
  },
  {
   "cell_type": "code",
   "execution_count": 15,
   "id": "881f6f0b",
   "metadata": {},
   "outputs": [],
   "source": [
    "# Create space of candidate values\n",
    "search_space = [{\"knn__n_neighbors\": [1, 2, 3, 4, 5, 6, 7, 8, 9, 10]}]"
   ]
  },
  {
   "cell_type": "markdown",
   "id": "ed7325e0",
   "metadata": {},
   "source": [
    "7. Fit a grid search with your pipeline, search space, and 5-fold cross-validation to find the best value for the “n_neighbors” parameter."
   ]
  },
  {
   "cell_type": "code",
   "execution_count": 16,
   "id": "09aa0b07",
   "metadata": {},
   "outputs": [],
   "source": [
    "# Create grid search\n",
    "classifier = GridSearchCV(\n",
    " pipe, search_space, cv=5, verbose=0).fit(x_train_scaled, y_train)"
   ]
  },
  {
   "cell_type": "code",
   "execution_count": 17,
   "id": "1c940198",
   "metadata": {},
   "outputs": [
    {
     "data": {
      "text/plain": [
       "9"
      ]
     },
     "execution_count": 17,
     "metadata": {},
     "output_type": "execute_result"
    }
   ],
   "source": [
    "# Best neighborhood size (k)\n",
    "best = classifier.best_estimator_.get_params()[\"knn__n_neighbors\"]\n",
    "best"
   ]
  },
  {
   "cell_type": "markdown",
   "id": "bc5ece9d",
   "metadata": {},
   "source": [
    "8. Find the accuracy of the grid search best model on the test set. Note: It is possible that this will not be an improvement over the default model, but likely it will be."
   ]
  },
  {
   "cell_type": "code",
   "execution_count": 18,
   "id": "238c0bb4",
   "metadata": {},
   "outputs": [],
   "source": [
    "# Create a knn classifier\n",
    "knn_best = KNeighborsClassifier(n_neighbors=best, n_jobs=-1)"
   ]
  },
  {
   "cell_type": "code",
   "execution_count": 19,
   "id": "308bdffb",
   "metadata": {},
   "outputs": [],
   "source": [
    "# Create a pipeline\n",
    "pipe_best = Pipeline([(\"scaler\", scaler), (\"knn_best\", knn_best)])"
   ]
  },
  {
   "cell_type": "code",
   "execution_count": 20,
   "id": "3694a2b9",
   "metadata": {},
   "outputs": [
    {
     "data": {
      "text/plain": [
       "Pipeline(steps=[('scaler', MinMaxScaler()),\n",
       "                ('knn_best', KNeighborsClassifier(n_jobs=-1, n_neighbors=9))])"
      ]
     },
     "execution_count": 20,
     "metadata": {},
     "output_type": "execute_result"
    }
   ],
   "source": [
    "#fit the pipe\n",
    "pipe_best.fit(x_train_scaled,y_train)"
   ]
  },
  {
   "cell_type": "code",
   "execution_count": 21,
   "id": "bf2d283b",
   "metadata": {},
   "outputs": [
    {
     "data": {
      "text/plain": [
       "0.7416666666666667"
      ]
     },
     "execution_count": 21,
     "metadata": {},
     "output_type": "execute_result"
    }
   ],
   "source": [
    "#score the knn model accuracy on the testing data\n",
    "pipe_best.score(x_test_scaled,y_test)"
   ]
  },
  {
   "cell_type": "markdown",
   "id": "fe020f74",
   "metadata": {},
   "source": [
    "9. Now, repeat steps 6 and 7 with the same pipeline, but expand your search space to include logistic regression and random forest models with the hyperparameter values in section 12.3 of the Machine Learning with Python Cookbook."
   ]
  },
  {
   "cell_type": "code",
   "execution_count": 22,
   "id": "43ed5345",
   "metadata": {},
   "outputs": [],
   "source": [
    "# Create a pipeline\n",
    "pipe = Pipeline([(\"classifier\", RandomForestClassifier())])"
   ]
  },
  {
   "cell_type": "code",
   "execution_count": 23,
   "id": "c2798593",
   "metadata": {},
   "outputs": [],
   "source": [
    "# Create dictionary with candidate learning algorithms and their hyperparameters\n",
    "search_space = [{\"classifier\": [LogisticRegression()],\n",
    " \"classifier__penalty\": ['l2'],\n",
    " \"classifier__C\": np.logspace(0, 4, 10)},\n",
    " {\"classifier\": [RandomForestClassifier()],\n",
    " \"classifier__n_estimators\": [10, 100, 1000],\n",
    " \"classifier__max_features\": [1, 2, 3]},\n",
    " {\"classifier\": [KNeighborsClassifier()],\n",
    " \"classifier__n_neighbors\": [1, 2, 3, 4, 5, 6, 7, 8, 9, 10]}]"
   ]
  },
  {
   "cell_type": "code",
   "execution_count": 24,
   "id": "fea5b7f1",
   "metadata": {},
   "outputs": [],
   "source": [
    "# Create grid search\n",
    "gridsearch = GridSearchCV(pipe, search_space, cv=5, verbose=0)"
   ]
  },
  {
   "cell_type": "code",
   "execution_count": 25,
   "id": "dec4e9ab",
   "metadata": {},
   "outputs": [],
   "source": [
    "best_model = gridsearch.fit(x_train_scaled,y_train)"
   ]
  },
  {
   "cell_type": "markdown",
   "id": "84400556",
   "metadata": {},
   "source": [
    "10. What are the best model and hyperparameters found in the grid search? Find the accuracy of this model on the test set."
   ]
  },
  {
   "cell_type": "code",
   "execution_count": 26,
   "id": "1349484e",
   "metadata": {
    "scrolled": true
   },
   "outputs": [
    {
     "data": {
      "text/plain": [
       "LogisticRegression()"
      ]
     },
     "execution_count": 26,
     "metadata": {},
     "output_type": "execute_result"
    }
   ],
   "source": [
    "# View best model\n",
    "model = best_model.best_estimator_.get_params()[\"classifier\"]\n",
    "model"
   ]
  },
  {
   "cell_type": "code",
   "execution_count": 27,
   "id": "62def2dd",
   "metadata": {},
   "outputs": [],
   "source": [
    "# Train model\n",
    "model = model.fit(x_train_scaled, y_train)"
   ]
  },
  {
   "cell_type": "code",
   "execution_count": 28,
   "id": "59db1d93",
   "metadata": {},
   "outputs": [
    {
     "data": {
      "text/plain": [
       "0.7833333333333333"
      ]
     },
     "execution_count": 28,
     "metadata": {},
     "output_type": "execute_result"
    }
   ],
   "source": [
    "# accuracy of model\n",
    "cross_val_score(model, x_test_scaled, y_test, scoring = \"accuracy\").mean()"
   ]
  },
  {
   "cell_type": "markdown",
   "id": "b1b28b53",
   "metadata": {},
   "source": [
    "11. Summarize your results."
   ]
  },
  {
   "cell_type": "markdown",
   "id": "6f3d6e4b",
   "metadata": {},
   "source": [
    "*In summary, The first classifier we created performed the least well. Optimizing the hyperparamter improved the accuracy of the model. Further optimizing for model choice, we can see that a Logistic Regression yields the best model according to the grid search. This model has an accuracy of almost 80%, which is the highest of any model tested today. I did note that running the grid search over again yeilded different results for best model each time. "
   ]
  }
 ],
 "metadata": {
  "kernelspec": {
   "display_name": "Python 3 (ipykernel)",
   "language": "python",
   "name": "python3"
  },
  "language_info": {
   "codemirror_mode": {
    "name": "ipython",
    "version": 3
   },
   "file_extension": ".py",
   "mimetype": "text/x-python",
   "name": "python",
   "nbconvert_exporter": "python",
   "pygments_lexer": "ipython3",
   "version": "3.9.12"
  }
 },
 "nbformat": 4,
 "nbformat_minor": 5
}
